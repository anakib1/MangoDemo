{
 "cells": [
  {
   "cell_type": "code",
   "execution_count": 2,
   "id": "initial_id",
   "metadata": {
    "collapsed": true,
    "ExecuteTime": {
     "end_time": "2024-01-23T13:25:24.214979Z",
     "start_time": "2024-01-23T13:25:18.218451100Z"
    }
   },
   "outputs": [],
   "source": [
    "from mango.transcription import WhisperTranscriptionConfig, WhisperTranscriptor"
   ]
  },
  {
   "cell_type": "code",
   "execution_count": 9,
   "outputs": [],
   "source": [
    "config = WhisperTranscriptionConfig('openai/whisper-small', 'openai/whisper-small', 'en')\n",
    "model = WhisperTranscriptor(config)"
   ],
   "metadata": {
    "collapsed": false,
    "ExecuteTime": {
     "end_time": "2024-01-23T13:34:43.074253Z",
     "start_time": "2024-01-23T13:34:40.047373900Z"
    }
   },
   "id": "e50c5a3432c4e263"
  },
  {
   "cell_type": "code",
   "execution_count": 10,
   "outputs": [
    {
     "name": "stderr",
     "output_type": "stream",
     "text": [
      "C:\\Users\\bsvja\\PycharmProjects\\MangoDemo\\src\\mango\\transcription.py:33: UserWarning: To copy construct from a tensor, it is recommended to use sourceTensor.clone().detach() or sourceTensor.clone().detach().requires_grad_(True), rather than torch.tensor(sourceTensor).\n",
      "  waveform = torchaudio.transforms.Resample(sr, 16_000)(torch.tensor(waveform))[0]\n"
     ]
    },
    {
     "data": {
      "text/plain": "[' This is a demo audio for the applications that our speech model is capable for transcription of short-term audio.']"
     },
     "execution_count": 10,
     "metadata": {},
     "output_type": "execute_result"
    }
   ],
   "source": [
    "import torchaudio \n",
    "audio, sr = torchaudio.load('examples/example_en.mp3')\n",
    "model.transcribe(audio, sr)"
   ],
   "metadata": {
    "collapsed": false,
    "ExecuteTime": {
     "end_time": "2024-01-23T13:34:51.857287800Z",
     "start_time": "2024-01-23T13:34:44.546281300Z"
    }
   },
   "id": "f95ac6e4ee61eee7"
  },
  {
   "cell_type": "code",
   "execution_count": 13,
   "outputs": [
    {
     "data": {
      "text/plain": "[' Это тестовая аудиозапись для проверку с нашей модель, способна на поиск слов в коротких аудиозаписях.']"
     },
     "execution_count": 13,
     "metadata": {},
     "output_type": "execute_result"
    }
   ],
   "source": [
    "model.config.language = 'ru'\n",
    "audio, sr = torchaudio.load('examples/example_ru.mp3')\n",
    "model.transcribe(audio, sr)"
   ],
   "metadata": {
    "collapsed": false,
    "ExecuteTime": {
     "end_time": "2024-01-23T13:35:42.737421Z",
     "start_time": "2024-01-23T13:35:34.490486200Z"
    }
   },
   "id": "9b0aa7ef8d356864"
  }
 ],
 "metadata": {
  "kernelspec": {
   "display_name": "Python 3",
   "language": "python",
   "name": "python3"
  },
  "language_info": {
   "codemirror_mode": {
    "name": "ipython",
    "version": 2
   },
   "file_extension": ".py",
   "mimetype": "text/x-python",
   "name": "python",
   "nbconvert_exporter": "python",
   "pygments_lexer": "ipython2",
   "version": "2.7.6"
  }
 },
 "nbformat": 4,
 "nbformat_minor": 5
}
