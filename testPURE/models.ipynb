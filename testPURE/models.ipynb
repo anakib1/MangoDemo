{
 "cells": [
  {
   "cell_type": "code",
   "execution_count": 1,
   "id": "initial_id",
   "metadata": {
    "collapsed": true,
    "ExecuteTime": {
     "end_time": "2024-04-02T16:34:52.627746400Z",
     "start_time": "2024-04-02T16:34:51.750899400Z"
    }
   },
   "outputs": [],
   "source": [
    "from IPython.display import Audio\n",
    "from datasets import load_dataset"
   ]
  },
  {
   "cell_type": "markdown",
   "source": [
    "### Prepare dataset"
   ],
   "metadata": {
    "collapsed": false
   },
   "id": "e91c2c9b57d6645f"
  },
  {
   "cell_type": "code",
   "execution_count": 2,
   "outputs": [],
   "source": [
    "cv13 = load_dataset('mozilla-foundation/common_voice_13_0', 'yue', trust_remote_code=True)\n",
    "urban = load_dataset('danavery/urbansound8K')"
   ],
   "metadata": {
    "collapsed": false,
    "ExecuteTime": {
     "end_time": "2024-04-02T16:35:04.289859200Z",
     "start_time": "2024-04-02T16:34:52.628746900Z"
    }
   },
   "id": "b1f7826064d4f358"
  },
  {
   "cell_type": "code",
   "execution_count": 3,
   "outputs": [],
   "source": [
    "from MangoDemo.mangoPURE.data.mixer import DatasetMixer\n",
    "from MangoDemo.mangoPURE.data.transforms import *\n",
    "from MangoDemo.mangoPURE.data.providers import *"
   ],
   "metadata": {
    "collapsed": false,
    "ExecuteTime": {
     "end_time": "2024-04-02T16:35:05.615731300Z",
     "start_time": "2024-04-02T16:35:04.290859400Z"
    }
   },
   "id": "f50e0ee9ae18c175"
  },
  {
   "cell_type": "code",
   "execution_count": 4,
   "outputs": [],
   "source": [
    "speaker_provider = CV13Random(cv13[\"test\"])\n",
    "noise_provider = UrbanRandom(urban[\"train\"])"
   ],
   "metadata": {
    "collapsed": false,
    "ExecuteTime": {
     "end_time": "2024-04-02T16:35:05.620786600Z",
     "start_time": "2024-04-02T16:35:05.616731900Z"
    }
   },
   "id": "77825c631e479a59"
  },
  {
   "cell_type": "code",
   "execution_count": 5,
   "outputs": [],
   "source": [
    "trans = [\n",
    "    CreateRandomBlankAudio(),\n",
    "    AddSeveralRandomNoiseSegments(noise_provider),\n",
    "    MergeAll()\n",
    "]\n",
    "mixer = DatasetMixer(\n",
    "    trans,\n",
    ")"
   ],
   "metadata": {
    "collapsed": false,
    "ExecuteTime": {
     "end_time": "2024-04-02T16:35:05.626138100Z",
     "start_time": "2024-04-02T16:35:05.619786300Z"
    }
   },
   "id": "42dd5515f6b95ce3"
  },
  {
   "cell_type": "markdown",
   "source": [
    "### Test collator"
   ],
   "metadata": {
    "collapsed": false
   },
   "id": "96576e2fba779adb"
  },
  {
   "cell_type": "code",
   "execution_count": 6,
   "outputs": [],
   "source": [
    "from MangoDemo.mangoPURE.models.collators import WhisperToTimedBatch, WhisperToTimedBatchConfig\n",
    "from transformers import WhisperFeatureExtractor"
   ],
   "metadata": {
    "collapsed": false,
    "ExecuteTime": {
     "end_time": "2024-04-02T16:35:05.826033800Z",
     "start_time": "2024-04-02T16:35:05.626138100Z"
    }
   },
   "id": "8732a4c6ed40f94f"
  },
  {
   "cell_type": "code",
   "execution_count": 7,
   "outputs": [],
   "source": [
    "batch_list = [mixer.generate() for _ in range(3)]"
   ],
   "metadata": {
    "collapsed": false,
    "ExecuteTime": {
     "end_time": "2024-04-02T16:35:06.931155700Z",
     "start_time": "2024-04-02T16:35:05.827033Z"
    }
   },
   "id": "9106b66d35cb52ca"
  },
  {
   "cell_type": "markdown",
   "source": [
    "We should know some data about the model\n",
    "- num of timestamps - 1500\n",
    "- num of classes to predict"
   ],
   "metadata": {
    "collapsed": false
   },
   "id": "bb0f31114f6e21cd"
  },
  {
   "cell_type": "code",
   "execution_count": 8,
   "outputs": [],
   "source": [
    "feature_extractor = WhisperFeatureExtractor.from_pretrained(\"openai/whisper-tiny\")\n",
    "config = WhisperToTimedBatchConfig(\n",
    "    create_labels=True,\n",
    "    noise_classes=11,\n",
    "    output_timestamps=1500,\n",
    "    diar_type=\"noise\"\n",
    ")\n",
    "collator = WhisperToTimedBatch(feature_extractor, config)"
   ],
   "metadata": {
    "collapsed": false,
    "ExecuteTime": {
     "end_time": "2024-04-02T16:35:07.084317200Z",
     "start_time": "2024-04-02T16:35:06.932155300Z"
    }
   },
   "id": "585f56c7408e3716"
  },
  {
   "cell_type": "code",
   "execution_count": 9,
   "outputs": [],
   "source": [
    "batch_timed = collator(batch_list)"
   ],
   "metadata": {
    "collapsed": false,
    "ExecuteTime": {
     "end_time": "2024-04-02T16:35:08.795413700Z",
     "start_time": "2024-04-02T16:35:07.084317200Z"
    }
   },
   "id": "3ab2d432b977083e"
  },
  {
   "cell_type": "code",
   "execution_count": 10,
   "outputs": [
    {
     "data": {
      "text/plain": "dict_keys(['input_features', 'attention_mask', 'labels'])"
     },
     "execution_count": 10,
     "metadata": {},
     "output_type": "execute_result"
    }
   ],
   "source": [
    "batch_timed.keys()"
   ],
   "metadata": {
    "collapsed": false,
    "ExecuteTime": {
     "end_time": "2024-04-02T16:35:08.800492100Z",
     "start_time": "2024-04-02T16:35:08.796415100Z"
    }
   },
   "id": "c5f0ca7948045ec5"
  },
  {
   "cell_type": "code",
   "execution_count": 11,
   "outputs": [
    {
     "data": {
      "text/plain": "torch.Size([3, 1500, 11])"
     },
     "execution_count": 11,
     "metadata": {},
     "output_type": "execute_result"
    }
   ],
   "source": [
    "batch_timed[\"labels\"].shape"
   ],
   "metadata": {
    "collapsed": false,
    "ExecuteTime": {
     "end_time": "2024-04-02T16:35:08.807418800Z",
     "start_time": "2024-04-02T16:35:08.800492100Z"
    }
   },
   "id": "b6228e40766de470"
  },
  {
   "cell_type": "markdown",
   "source": [
    "### Test whisper timed model & timed loss\n",
    "The loss is inside the wrapper"
   ],
   "metadata": {
    "collapsed": false
   },
   "id": "54b9ef245d7c67d4"
  },
  {
   "cell_type": "code",
   "execution_count": 12,
   "outputs": [],
   "source": [
    "from MangoDemo.mangoPURE.models.modules import WhisperEmbedder, LinearTimedHead, WhisperTimedModel\n",
    "from MangoDemo.mangoPURE.models.metrics import SigmoidTimedLoss"
   ],
   "metadata": {
    "collapsed": false,
    "ExecuteTime": {
     "end_time": "2024-04-02T16:35:09.590658700Z",
     "start_time": "2024-04-02T16:35:08.806416900Z"
    }
   },
   "id": "50b9f38fffbcb4c8"
  },
  {
   "cell_type": "markdown",
   "source": [
    "Here we should prior two facts:\n",
    "- whisper-tiny output embedding dim for each timestamp is 384\n",
    "- utban has 10 classes (11 = 10 + 1, because of blank class)"
   ],
   "metadata": {
    "collapsed": false
   },
   "id": "88890c78e2362fcd"
  },
  {
   "cell_type": "code",
   "execution_count": 13,
   "outputs": [],
   "source": [
    "embedder = WhisperEmbedder(\"openai/whisper-tiny\")\n",
    "head = LinearTimedHead(384, 11)\n",
    "loss_fn = SigmoidTimedLoss() "
   ],
   "metadata": {
    "collapsed": false,
    "ExecuteTime": {
     "end_time": "2024-04-02T16:35:09.954944900Z",
     "start_time": "2024-04-02T16:35:09.592162400Z"
    }
   },
   "id": "4203dc64b3230eb0"
  },
  {
   "cell_type": "code",
   "execution_count": 14,
   "outputs": [],
   "source": [
    "wrapper = WhisperTimedModel(\n",
    "    embedder=embedder,\n",
    "    head=head,\n",
    "    loss_fn=loss_fn\n",
    ")"
   ],
   "metadata": {
    "collapsed": false,
    "ExecuteTime": {
     "end_time": "2024-04-02T16:35:09.959733100Z",
     "start_time": "2024-04-02T16:35:09.955946200Z"
    }
   },
   "id": "d765d5d98cf648f7"
  },
  {
   "cell_type": "code",
   "execution_count": 15,
   "outputs": [],
   "source": [
    "output = wrapper(batch_timed) "
   ],
   "metadata": {
    "collapsed": false,
    "ExecuteTime": {
     "end_time": "2024-04-02T16:35:10.373730700Z",
     "start_time": "2024-04-02T16:35:09.959733100Z"
    }
   },
   "id": "b5e52b66e120b997"
  },
  {
   "cell_type": "code",
   "execution_count": 16,
   "outputs": [
    {
     "data": {
      "text/plain": "tensor(0.7793, grad_fn=<DivBackward0>)"
     },
     "execution_count": 16,
     "metadata": {},
     "output_type": "execute_result"
    }
   ],
   "source": [
    "output[\"loss\"]"
   ],
   "metadata": {
    "collapsed": false,
    "ExecuteTime": {
     "end_time": "2024-04-02T16:35:10.374735400Z",
     "start_time": "2024-04-02T16:35:10.370705300Z"
    }
   },
   "id": "fa08443f5c0f8c88"
  }
 ],
 "metadata": {
  "kernelspec": {
   "display_name": "Python 3",
   "language": "python",
   "name": "python3"
  },
  "language_info": {
   "codemirror_mode": {
    "name": "ipython",
    "version": 2
   },
   "file_extension": ".py",
   "mimetype": "text/x-python",
   "name": "python",
   "nbconvert_exporter": "python",
   "pygments_lexer": "ipython2",
   "version": "2.7.6"
  }
 },
 "nbformat": 4,
 "nbformat_minor": 5
}
