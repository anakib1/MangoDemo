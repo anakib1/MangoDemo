{
 "cells": [
  {
   "cell_type": "code",
   "execution_count": 1,
   "id": "initial_id",
   "metadata": {
    "collapsed": true,
    "ExecuteTime": {
     "end_time": "2024-03-30T08:17:31.004344300Z",
     "start_time": "2024-03-30T08:17:30.118554Z"
    }
   },
   "outputs": [],
   "source": [
    "from IPython.display import Audio\n",
    "from datasets import load_dataset"
   ]
  },
  {
   "cell_type": "markdown",
   "source": [
    "### Prepare dataset"
   ],
   "metadata": {
    "collapsed": false
   },
   "id": "e91c2c9b57d6645f"
  },
  {
   "cell_type": "code",
   "execution_count": 2,
   "outputs": [],
   "source": [
    "cv13 = load_dataset('mozilla-foundation/common_voice_13_0', 'yue', trust_remote_code=True)\n",
    "urban = load_dataset('danavery/urbansound8K')"
   ],
   "metadata": {
    "collapsed": false,
    "ExecuteTime": {
     "end_time": "2024-03-30T08:17:41.898167800Z",
     "start_time": "2024-03-30T08:17:31.004344300Z"
    }
   },
   "id": "b1f7826064d4f358"
  },
  {
   "cell_type": "code",
   "execution_count": 3,
   "outputs": [],
   "source": [
    "from MangoDemo.mangoPURE.data.mixer import DatasetMixer\n",
    "from MangoDemo.mangoPURE.data.transforms import *\n",
    "from MangoDemo.mangoPURE.data.providers import *"
   ],
   "metadata": {
    "collapsed": false,
    "ExecuteTime": {
     "end_time": "2024-03-30T08:17:43.206753700Z",
     "start_time": "2024-03-30T08:17:41.898167800Z"
    }
   },
   "id": "f50e0ee9ae18c175"
  },
  {
   "cell_type": "code",
   "execution_count": 4,
   "outputs": [],
   "source": [
    "speaker_provider = CV13Random(cv13[\"test\"])\n",
    "noise_provider = UrbanRandom(urban[\"train\"])"
   ],
   "metadata": {
    "collapsed": false,
    "ExecuteTime": {
     "end_time": "2024-03-30T08:17:43.209911Z",
     "start_time": "2024-03-30T08:17:43.209406300Z"
    }
   },
   "id": "77825c631e479a59"
  },
  {
   "cell_type": "code",
   "execution_count": 5,
   "outputs": [],
   "source": [
    "trans = [\n",
    "    CreateRandomBlankAudio(),\n",
    "    AddSeveralRandomNoiseSegments(noise_provider),\n",
    "    MergeAll()\n",
    "]\n",
    "mixer = DatasetMixer(\n",
    "    trans,\n",
    ")"
   ],
   "metadata": {
    "collapsed": false,
    "ExecuteTime": {
     "end_time": "2024-03-30T08:17:43.223798800Z",
     "start_time": "2024-03-30T08:17:43.209911Z"
    }
   },
   "id": "42dd5515f6b95ce3"
  },
  {
   "cell_type": "markdown",
   "source": [
    "### Test collator"
   ],
   "metadata": {
    "collapsed": false
   },
   "id": "96576e2fba779adb"
  },
  {
   "cell_type": "code",
   "execution_count": 6,
   "outputs": [],
   "source": [
    "from MangoDemo.mangoPURE.models.collators import WhisperToTimedBatch\n",
    "from transformers import WhisperFeatureExtractor"
   ],
   "metadata": {
    "collapsed": false,
    "ExecuteTime": {
     "end_time": "2024-03-30T08:17:43.411588400Z",
     "start_time": "2024-03-30T08:17:43.223798800Z"
    }
   },
   "id": "8732a4c6ed40f94f"
  },
  {
   "cell_type": "code",
   "execution_count": 7,
   "outputs": [],
   "source": [
    "batch_list = [mixer.generate() for _ in range(3)]"
   ],
   "metadata": {
    "collapsed": false,
    "ExecuteTime": {
     "end_time": "2024-03-30T08:17:44.467291Z",
     "start_time": "2024-03-30T08:17:43.411588400Z"
    }
   },
   "id": "9106b66d35cb52ca"
  },
  {
   "cell_type": "code",
   "execution_count": 8,
   "outputs": [],
   "source": [
    "feature_extractor = WhisperFeatureExtractor.from_pretrained(\"openai/whisper-tiny\")\n",
    "collator = WhisperToTimedBatch(feature_extractor)"
   ],
   "metadata": {
    "collapsed": false,
    "ExecuteTime": {
     "end_time": "2024-03-30T08:17:44.616070500Z",
     "start_time": "2024-03-30T08:17:44.469767400Z"
    }
   },
   "id": "585f56c7408e3716"
  },
  {
   "cell_type": "code",
   "execution_count": 9,
   "outputs": [],
   "source": [
    "batch_timed = collator(batch_list)\n",
    "# batch_timed"
   ],
   "metadata": {
    "collapsed": false,
    "ExecuteTime": {
     "end_time": "2024-03-30T08:17:46.195309800Z",
     "start_time": "2024-03-30T08:17:44.618076600Z"
    }
   },
   "id": "3ab2d432b977083e"
  },
  {
   "cell_type": "markdown",
   "source": [
    "### Test whisper timed model & timed loss\n",
    "The loss is inside the wrapper"
   ],
   "metadata": {
    "collapsed": false
   },
   "id": "54b9ef245d7c67d4"
  },
  {
   "cell_type": "code",
   "execution_count": 10,
   "outputs": [],
   "source": [
    "from MangoDemo.mangoPURE.models.modules import WhisperEmbedder, LinearTimedHead\n",
    "from MangoDemo.mangoPURE.models.wrappers import WhisperTimedWrapper\n",
    "from MangoDemo.mangoPURE.models.metrics import SigmoidTimedLoss"
   ],
   "metadata": {
    "collapsed": false,
    "ExecuteTime": {
     "end_time": "2024-03-30T08:17:46.951263800Z",
     "start_time": "2024-03-30T08:17:46.198177200Z"
    }
   },
   "id": "50b9f38fffbcb4c8"
  },
  {
   "cell_type": "markdown",
   "source": [
    "Here we should prior two facts:\n",
    "- whisper-tiny output embedding dim for each timestamp is 384\n",
    "- utban has 10 classes (11 = 10 + 1, because of blank class)"
   ],
   "metadata": {
    "collapsed": false
   },
   "id": "88890c78e2362fcd"
  },
  {
   "cell_type": "code",
   "execution_count": 11,
   "outputs": [],
   "source": [
    "embedder = WhisperEmbedder(\"openai/whisper-tiny\")\n",
    "head = LinearTimedHead(384, 11)\n",
    "loss_fn = SigmoidTimedLoss() "
   ],
   "metadata": {
    "collapsed": false,
    "ExecuteTime": {
     "end_time": "2024-03-30T08:17:47.453464100Z",
     "start_time": "2024-03-30T08:17:46.951771600Z"
    }
   },
   "id": "4203dc64b3230eb0"
  },
  {
   "cell_type": "code",
   "execution_count": 12,
   "outputs": [],
   "source": [
    "wrapper = WhisperTimedWrapper(\n",
    "    embedder=embedder,\n",
    "    head=head,\n",
    "    loss_fn=loss_fn\n",
    ")"
   ],
   "metadata": {
    "collapsed": false,
    "ExecuteTime": {
     "end_time": "2024-03-30T08:17:47.456708Z",
     "start_time": "2024-03-30T08:17:47.453464100Z"
    }
   },
   "id": "d765d5d98cf648f7"
  },
  {
   "cell_type": "code",
   "execution_count": 13,
   "outputs": [],
   "source": [
    "output = wrapper(batch_timed) "
   ],
   "metadata": {
    "collapsed": false,
    "ExecuteTime": {
     "end_time": "2024-03-30T08:17:47.864912300Z",
     "start_time": "2024-03-30T08:17:47.456708Z"
    }
   },
   "id": "b5e52b66e120b997"
  },
  {
   "cell_type": "code",
   "execution_count": 14,
   "outputs": [
    {
     "data": {
      "text/plain": "tensor(0.7093, grad_fn=<DivBackward0>)"
     },
     "execution_count": 14,
     "metadata": {},
     "output_type": "execute_result"
    }
   ],
   "source": [
    "output.loss"
   ],
   "metadata": {
    "collapsed": false,
    "ExecuteTime": {
     "end_time": "2024-03-30T08:17:47.869560100Z",
     "start_time": "2024-03-30T08:17:47.866435500Z"
    }
   },
   "id": "fa08443f5c0f8c88"
  }
 ],
 "metadata": {
  "kernelspec": {
   "display_name": "Python 3",
   "language": "python",
   "name": "python3"
  },
  "language_info": {
   "codemirror_mode": {
    "name": "ipython",
    "version": 2
   },
   "file_extension": ".py",
   "mimetype": "text/x-python",
   "name": "python",
   "nbconvert_exporter": "python",
   "pygments_lexer": "ipython2",
   "version": "2.7.6"
  }
 },
 "nbformat": 4,
 "nbformat_minor": 5
}
