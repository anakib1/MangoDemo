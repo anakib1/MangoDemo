{
 "cells": [
  {
   "cell_type": "code",
   "execution_count": 1,
   "id": "initial_id",
   "metadata": {
    "collapsed": true,
    "ExecuteTime": {
     "end_time": "2024-04-01T13:07:35.731450300Z",
     "start_time": "2024-04-01T13:07:34.828430600Z"
    }
   },
   "outputs": [],
   "source": [
    "from IPython.display import Audio\n",
    "from datasets import load_dataset"
   ]
  },
  {
   "cell_type": "markdown",
   "source": [
    "### Prepare dataset"
   ],
   "metadata": {
    "collapsed": false
   },
   "id": "e91c2c9b57d6645f"
  },
  {
   "cell_type": "code",
   "execution_count": 2,
   "outputs": [],
   "source": [
    "cv13 = load_dataset('mozilla-foundation/common_voice_13_0', 'yue', trust_remote_code=True)\n",
    "urban = load_dataset('danavery/urbansound8K')"
   ],
   "metadata": {
    "collapsed": false,
    "ExecuteTime": {
     "end_time": "2024-04-01T13:07:46.895261100Z",
     "start_time": "2024-04-01T13:07:35.731450300Z"
    }
   },
   "id": "b1f7826064d4f358"
  },
  {
   "cell_type": "code",
   "execution_count": 3,
   "outputs": [],
   "source": [
    "from MangoDemo.mangoPURE.data.mixer import DatasetMixer\n",
    "from MangoDemo.mangoPURE.data.transforms import *\n",
    "from MangoDemo.mangoPURE.data.providers import *"
   ],
   "metadata": {
    "collapsed": false,
    "ExecuteTime": {
     "end_time": "2024-04-01T13:07:48.301793600Z",
     "start_time": "2024-04-01T13:07:46.898844500Z"
    }
   },
   "id": "f50e0ee9ae18c175"
  },
  {
   "cell_type": "code",
   "execution_count": 4,
   "outputs": [],
   "source": [
    "speaker_provider = CV13Random(cv13[\"test\"])\n",
    "noise_provider = UrbanRandom(urban[\"train\"])"
   ],
   "metadata": {
    "collapsed": false,
    "ExecuteTime": {
     "end_time": "2024-04-01T13:07:48.308572200Z",
     "start_time": "2024-04-01T13:07:48.304968400Z"
    }
   },
   "id": "77825c631e479a59"
  },
  {
   "cell_type": "code",
   "execution_count": 5,
   "outputs": [],
   "source": [
    "trans = [\n",
    "    CreateRandomBlankAudio(),\n",
    "    AddSeveralRandomNoiseSegments(noise_provider),\n",
    "    MergeAll()\n",
    "]\n",
    "mixer = DatasetMixer(\n",
    "    trans,\n",
    ")"
   ],
   "metadata": {
    "collapsed": false,
    "ExecuteTime": {
     "end_time": "2024-04-01T13:07:48.319767500Z",
     "start_time": "2024-04-01T13:07:48.308572200Z"
    }
   },
   "id": "42dd5515f6b95ce3"
  },
  {
   "cell_type": "markdown",
   "source": [
    "### Test collator"
   ],
   "metadata": {
    "collapsed": false
   },
   "id": "96576e2fba779adb"
  },
  {
   "cell_type": "code",
   "execution_count": 6,
   "outputs": [],
   "source": [
    "from MangoDemo.mangoPURE.models.collators import WhisperToTimedBatch\n",
    "from transformers import WhisperFeatureExtractor"
   ],
   "metadata": {
    "collapsed": false,
    "ExecuteTime": {
     "end_time": "2024-04-01T13:07:48.516228600Z",
     "start_time": "2024-04-01T13:07:48.319767500Z"
    }
   },
   "id": "8732a4c6ed40f94f"
  },
  {
   "cell_type": "code",
   "execution_count": 7,
   "outputs": [],
   "source": [
    "batch_list = [mixer.generate() for _ in range(3)]"
   ],
   "metadata": {
    "collapsed": false,
    "ExecuteTime": {
     "end_time": "2024-04-01T13:07:49.860857200Z",
     "start_time": "2024-04-01T13:07:48.516228600Z"
    }
   },
   "id": "9106b66d35cb52ca"
  },
  {
   "cell_type": "code",
   "execution_count": 8,
   "outputs": [],
   "source": [
    "feature_extractor = WhisperFeatureExtractor.from_pretrained(\"openai/whisper-tiny\")\n",
    "collator = WhisperToTimedBatch(feature_extractor)"
   ],
   "metadata": {
    "collapsed": false,
    "ExecuteTime": {
     "end_time": "2024-04-01T13:07:50.016056500Z",
     "start_time": "2024-04-01T13:07:49.860857200Z"
    }
   },
   "id": "585f56c7408e3716"
  },
  {
   "cell_type": "code",
   "execution_count": 9,
   "outputs": [
    {
     "data": {
      "text/plain": "TimedAudioBatch(audio=tensor([[[ 0.7794,  0.4041,  0.0346,  ..., -0.7226, -0.7226, -0.7226],\n         [ 0.7595,  0.6332,  0.4977,  ..., -0.7226, -0.7226, -0.7226],\n         [ 0.5897,  0.6426,  0.7625,  ..., -0.7226, -0.7226, -0.7226],\n         ...,\n         [-0.2645, -0.2896, -0.2377,  ..., -0.7226, -0.7226, -0.7226],\n         [-0.4441, -0.1845, -0.2053,  ..., -0.7226, -0.7226, -0.7226],\n         [-0.4526, -0.2979, -0.3516,  ..., -0.7226, -0.7226, -0.7226]],\n\n        [[-0.8877, -0.8877, -0.8877,  ..., -0.8877, -0.8877, -0.8877],\n         [-0.8877, -0.8877, -0.8877,  ..., -0.8877, -0.8877, -0.8877],\n         [-0.8877, -0.8877, -0.8877,  ..., -0.8877, -0.8877, -0.8877],\n         ...,\n         [-0.8877, -0.8877, -0.8877,  ..., -0.8877, -0.8877, -0.8877],\n         [-0.8877, -0.8877, -0.8877,  ..., -0.8877, -0.8877, -0.8877],\n         [-0.8877, -0.8877, -0.8877,  ..., -0.8877, -0.8877, -0.8877]],\n\n        [[-0.9167, -0.9167, -0.9167,  ..., -0.9167, -0.9167, -0.9167],\n         [-0.9167, -0.9167, -0.9167,  ..., -0.9167, -0.9167, -0.9167],\n         [-0.9167, -0.9167, -0.9167,  ..., -0.9167, -0.9167, -0.9167],\n         ...,\n         [-0.9167, -0.9167, -0.9167,  ..., -0.9167, -0.9167, -0.9167],\n         [-0.9167, -0.9167, -0.9167,  ..., -0.9167, -0.9167, -0.9167],\n         [-0.9167, -0.9167, -0.9167,  ..., -0.9167, -0.9167, -0.9167]]]), lengths=[1980, 1913, 1985], noises_info=[[SegmentInfo(start=0, length=271, class_id=1), SegmentInfo(start=383, length=400, class_id=2), SegmentInfo(start=108, length=400, class_id=3)], [SegmentInfo(start=405, length=400, class_id=4), SegmentInfo(start=203, length=400, class_id=5)], [SegmentInfo(start=1201, length=400, class_id=1), SegmentInfo(start=1548, length=400, class_id=2)]], speakers_info=None)"
     },
     "execution_count": 9,
     "metadata": {},
     "output_type": "execute_result"
    }
   ],
   "source": [
    "batch_timed = collator(batch_list)\n",
    "batch_timed"
   ],
   "metadata": {
    "collapsed": false,
    "ExecuteTime": {
     "end_time": "2024-04-01T13:07:51.630010200Z",
     "start_time": "2024-04-01T13:07:50.016056500Z"
    }
   },
   "id": "3ab2d432b977083e"
  },
  {
   "cell_type": "markdown",
   "source": [
    "### Test whisper timed model & timed loss\n",
    "The loss is inside the wrapper"
   ],
   "metadata": {
    "collapsed": false
   },
   "id": "54b9ef245d7c67d4"
  },
  {
   "cell_type": "code",
   "execution_count": 10,
   "outputs": [],
   "source": [
    "from MangoDemo.mangoPURE.models.modules import WhisperEmbedder, LinearTimedHead\n",
    "from MangoDemo.mangoPURE.models.wrappers import WhisperTimedWrapper\n",
    "from MangoDemo.mangoPURE.models.metrics import SigmoidTimedLoss"
   ],
   "metadata": {
    "collapsed": false,
    "ExecuteTime": {
     "end_time": "2024-04-01T13:08:51.861553300Z",
     "start_time": "2024-04-01T13:08:50.756827200Z"
    }
   },
   "id": "50b9f38fffbcb4c8"
  },
  {
   "cell_type": "markdown",
   "source": [
    "Here we should prior two facts:\n",
    "- whisper-tiny output embedding dim for each timestamp is 384\n",
    "- utban has 10 classes (11 = 10 + 1, because of blank class)"
   ],
   "metadata": {
    "collapsed": false
   },
   "id": "88890c78e2362fcd"
  },
  {
   "cell_type": "code",
   "execution_count": 11,
   "outputs": [],
   "source": [
    "embedder = WhisperEmbedder(\"openai/whisper-tiny\")\n",
    "head = LinearTimedHead(384, 11)\n",
    "loss_fn = SigmoidTimedLoss() "
   ],
   "metadata": {
    "collapsed": false,
    "ExecuteTime": {
     "end_time": "2024-04-01T13:08:52.823626600Z",
     "start_time": "2024-04-01T13:08:52.246749400Z"
    }
   },
   "id": "4203dc64b3230eb0"
  },
  {
   "cell_type": "code",
   "execution_count": 12,
   "outputs": [],
   "source": [
    "wrapper = WhisperTimedWrapper(\n",
    "    embedder=embedder,\n",
    "    head=head,\n",
    "    loss_fn=loss_fn\n",
    ")"
   ],
   "metadata": {
    "collapsed": false,
    "ExecuteTime": {
     "end_time": "2024-04-01T13:08:55.156954Z",
     "start_time": "2024-04-01T13:08:55.156447900Z"
    }
   },
   "id": "d765d5d98cf648f7"
  },
  {
   "cell_type": "code",
   "execution_count": 13,
   "outputs": [],
   "source": [
    "output = wrapper(batch_timed) "
   ],
   "metadata": {
    "collapsed": false,
    "ExecuteTime": {
     "end_time": "2024-04-01T13:08:56.157486400Z",
     "start_time": "2024-04-01T13:08:55.650046100Z"
    }
   },
   "id": "b5e52b66e120b997"
  },
  {
   "cell_type": "code",
   "execution_count": 14,
   "outputs": [
    {
     "data": {
      "text/plain": "tensor(0.7726, grad_fn=<DivBackward0>)"
     },
     "execution_count": 14,
     "metadata": {},
     "output_type": "execute_result"
    }
   ],
   "source": [
    "output.loss"
   ],
   "metadata": {
    "collapsed": false,
    "ExecuteTime": {
     "end_time": "2024-04-01T13:08:56.635651800Z",
     "start_time": "2024-04-01T13:08:56.631960500Z"
    }
   },
   "id": "fa08443f5c0f8c88"
  },
  {
   "cell_type": "code",
   "execution_count": null,
   "outputs": [],
   "source": [],
   "metadata": {
    "collapsed": false
   },
   "id": "2fdf8be53ee615c0"
  }
 ],
 "metadata": {
  "kernelspec": {
   "display_name": "Python 3",
   "language": "python",
   "name": "python3"
  },
  "language_info": {
   "codemirror_mode": {
    "name": "ipython",
    "version": 2
   },
   "file_extension": ".py",
   "mimetype": "text/x-python",
   "name": "python",
   "nbconvert_exporter": "python",
   "pygments_lexer": "ipython2",
   "version": "2.7.6"
  }
 },
 "nbformat": 4,
 "nbformat_minor": 5
}
