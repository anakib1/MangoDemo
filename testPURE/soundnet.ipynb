{
 "cells": [
  {
   "cell_type": "code",
   "execution_count": 1,
   "outputs": [],
   "source": [
    "import torch"
   ],
   "metadata": {
    "collapsed": false,
    "ExecuteTime": {
     "end_time": "2024-04-09T13:41:39.331689Z",
     "start_time": "2024-04-09T13:41:37.908418200Z"
    }
   },
   "id": "16d804fd6f044761"
  },
  {
   "cell_type": "code",
   "execution_count": 2,
   "outputs": [],
   "source": [
    "from MangoDemo.mangoPURE.models.modules import SoundNet\n",
    "from MangoDemo.mangoPURE.data.base import MixedExample\n",
    "from MangoDemo.mangoPURE.models.collators import SoundNetCollator"
   ],
   "metadata": {
    "collapsed": false,
    "ExecuteTime": {
     "end_time": "2024-04-09T13:41:40.561761500Z",
     "start_time": "2024-04-09T13:41:39.335058600Z"
    }
   },
   "id": "b5c9c844f4ac121a"
  },
  {
   "cell_type": "code",
   "execution_count": 3,
   "outputs": [],
   "source": [
    "audio_len = 330750      # 15 seconds * 22050 rate\n",
    "hardcode_len = 323\n",
    "num_classes = 10"
   ],
   "metadata": {
    "collapsed": false,
    "ExecuteTime": {
     "end_time": "2024-04-09T13:41:40.566263300Z",
     "start_time": "2024-04-09T13:41:40.564145300Z"
    }
   },
   "id": "9a7edc5c0cfa88e8"
  },
  {
   "cell_type": "code",
   "execution_count": 4,
   "outputs": [],
   "source": [
    "batch_list = [MixedExample(audio=torch.randn(330750)) for _ in range(2)]"
   ],
   "metadata": {
    "collapsed": false,
    "ExecuteTime": {
     "end_time": "2024-04-09T13:41:40.582900400Z",
     "start_time": "2024-04-09T13:41:40.566809700Z"
    }
   },
   "id": "78aed9896418ed25"
  },
  {
   "cell_type": "code",
   "execution_count": 5,
   "outputs": [],
   "source": [
    "collator = SoundNetCollator(audio_len)"
   ],
   "metadata": {
    "collapsed": false,
    "ExecuteTime": {
     "end_time": "2024-04-09T13:41:40.586649900Z",
     "start_time": "2024-04-09T13:41:40.582900400Z"
    }
   },
   "id": "ccbb613fcb146e2d"
  },
  {
   "cell_type": "code",
   "execution_count": 6,
   "outputs": [
    {
     "name": "stderr",
     "output_type": "stream",
     "text": [
      "C:\\Users\\znaum\\anaconda3\\envs\\speech2\\Lib\\site-packages\\torch\\nn\\modules\\transformer.py:282: UserWarning: enable_nested_tensor is True, but self.use_nested_tensor is False because encoder_layer.self_attn.batch_first was not True(use batch_first for better inference performance)\n",
      "  warnings.warn(f\"enable_nested_tensor is True, but self.use_nested_tensor is False because {why_not_sparsity_fast_path}\")\n"
     ]
    }
   ],
   "source": [
    "model = SoundNet(\n",
    "    num_classes=num_classes,\n",
    "    audio_len=audio_len,\n",
    "    hardcode_len=hardcode_len\n",
    ")"
   ],
   "metadata": {
    "collapsed": false,
    "ExecuteTime": {
     "end_time": "2024-04-09T13:41:40.720534200Z",
     "start_time": "2024-04-09T13:41:40.586649900Z"
    }
   },
   "id": "2447dd90acceca37"
  },
  {
   "cell_type": "code",
   "execution_count": 7,
   "outputs": [],
   "source": [
    "inp = collator(batch_list)"
   ],
   "metadata": {
    "collapsed": false,
    "ExecuteTime": {
     "end_time": "2024-04-09T13:41:50.022505600Z",
     "start_time": "2024-04-09T13:41:50.022000200Z"
    }
   },
   "id": "7c34cb66f20b4ce2"
  },
  {
   "cell_type": "code",
   "execution_count": 8,
   "outputs": [],
   "source": [
    "out = model(**inp)"
   ],
   "metadata": {
    "collapsed": false,
    "ExecuteTime": {
     "end_time": "2024-04-09T13:42:03.234422800Z",
     "start_time": "2024-04-09T13:42:02.366976500Z"
    }
   },
   "id": "1d439419ef7d10fd"
  },
  {
   "cell_type": "code",
   "execution_count": 9,
   "outputs": [
    {
     "data": {
      "text/plain": "tensor([[-0.2720, -0.4806, -0.0438,  0.1332,  0.3109,  1.2517,  0.7908,  0.1944,\n         -0.1300, -0.2191],\n        [-0.4904, -0.4203, -0.3152,  0.1886,  0.5359,  1.1358,  0.8611,  0.2364,\n         -0.2790, -0.0610]], grad_fn=<AddmmBackward0>)"
     },
     "execution_count": 9,
     "metadata": {},
     "output_type": "execute_result"
    }
   ],
   "source": [
    "out"
   ],
   "metadata": {
    "collapsed": false,
    "ExecuteTime": {
     "end_time": "2024-04-09T13:42:05.454763400Z",
     "start_time": "2024-04-09T13:42:05.439005100Z"
    }
   },
   "id": "a5ea5140659246ac"
  }
 ],
 "metadata": {
  "kernelspec": {
   "display_name": "Python 3",
   "language": "python",
   "name": "python3"
  },
  "language_info": {
   "codemirror_mode": {
    "name": "ipython",
    "version": 2
   },
   "file_extension": ".py",
   "mimetype": "text/x-python",
   "name": "python",
   "nbconvert_exporter": "python",
   "pygments_lexer": "ipython2",
   "version": "2.7.6"
  }
 },
 "nbformat": 4,
 "nbformat_minor": 5
}
