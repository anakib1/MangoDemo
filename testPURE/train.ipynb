{
 "cells": [
  {
   "cell_type": "code",
   "execution_count": 1,
   "id": "initial_id",
   "metadata": {
    "collapsed": true,
    "ExecuteTime": {
     "end_time": "2024-04-07T10:58:54.270422200Z",
     "start_time": "2024-04-07T10:58:48.879530900Z"
    }
   },
   "outputs": [],
   "source": [
    "from mangoPURE.data import DatasetMixer\n",
    "from mangoPURE.data.mixer import TorchDatasetWrapper\n",
    "from mangoPURE.data.transforms import CreateRandomBlankAudio, AddRandomFilledNoise, MergeAll\n",
    "from mangoPURE.data.providers import UrbanRandom"
   ]
  },
  {
   "cell_type": "code",
   "outputs": [],
   "source": [
    "from datasets import load_dataset\n",
    "\n",
    "urban_provider = UrbanRandom(load_dataset('danavery/urbansound8K', split='train'))\n",
    "data = DatasetMixer([CreateRandomBlankAudio(), AddRandomFilledNoise(urban_provider), MergeAll()])"
   ],
   "metadata": {
    "collapsed": false,
    "ExecuteTime": {
     "end_time": "2024-04-07T10:59:05.203664200Z",
     "start_time": "2024-04-07T10:58:54.271423400Z"
    }
   },
   "id": "d99b038be6100d96",
   "execution_count": 2
  },
  {
   "cell_type": "code",
   "outputs": [],
   "source": [
    "dataset = TorchDatasetWrapper(data, 1500)"
   ],
   "metadata": {
    "collapsed": false,
    "ExecuteTime": {
     "end_time": "2024-04-07T10:59:05.237662900Z",
     "start_time": "2024-04-07T10:59:05.207668600Z"
    }
   },
   "id": "9ba16ad83fcdf66b",
   "execution_count": 3
  },
  {
   "cell_type": "code",
   "outputs": [],
   "source": [
    "from torch.utils.data import DataLoader\n",
    "from mangoPURE.models.collators import OneNoiseCollator\n",
    "from transformers import WhisperFeatureExtractor\n",
    "\n",
    "extractor = WhisperFeatureExtractor.from_pretrained('openai/whisper-tiny')\n",
    "loader = DataLoader(dataset, 4, collate_fn=OneNoiseCollator(extractor))"
   ],
   "metadata": {
    "collapsed": false,
    "ExecuteTime": {
     "end_time": "2024-04-07T10:59:05.945324500Z",
     "start_time": "2024-04-07T10:59:05.226663Z"
    }
   },
   "id": "d5d6da7d5f22a3f7",
   "execution_count": 4
  },
  {
   "cell_type": "code",
   "outputs": [],
   "source": [
    "batch = next(iter(loader))"
   ],
   "metadata": {
    "collapsed": false,
    "ExecuteTime": {
     "end_time": "2024-04-07T10:59:13.124744500Z",
     "start_time": "2024-04-07T10:59:05.948326500Z"
    }
   },
   "id": "3f10a38fc5b350ac",
   "execution_count": 5
  },
  {
   "cell_type": "code",
   "outputs": [],
   "source": [
    "from mangoPURE.models.modules import WhisperTimedModel"
   ],
   "metadata": {
    "collapsed": false,
    "ExecuteTime": {
     "end_time": "2024-04-07T10:59:21.278962700Z",
     "start_time": "2024-04-07T10:59:19.661270900Z"
    }
   },
   "id": "b0bff3157cd99a2e",
   "execution_count": 6
  },
  {
   "cell_type": "code",
   "outputs": [],
   "source": [
    "from mangoPURE.models.modules import WhisperEmbedder, LinearSoloHead\n",
    "from mangoPURE.models.metrics import CrossEntropyLoss\n",
    "\n",
    "model = WhisperTimedModel(WhisperEmbedder('openai/whisper-tiny'), LinearSoloHead(384, 11), CrossEntropyLoss())"
   ],
   "metadata": {
    "collapsed": false,
    "ExecuteTime": {
     "end_time": "2024-04-07T10:59:21.751985200Z",
     "start_time": "2024-04-07T10:59:21.283963500Z"
    }
   },
   "id": "793e50cfbdff0bcb",
   "execution_count": 7
  },
  {
   "cell_type": "code",
   "execution_count": 9,
   "outputs": [
    {
     "data": {
      "text/plain": "{'input_features': tensor([[[ 0.5568,  0.5941,  0.4181,  ..., -1.2755, -1.2755, -1.2755],\n          [ 0.6073,  0.5266,  0.3078,  ..., -1.2755, -1.2755, -1.2755],\n          [ 0.4225,  0.3603,  0.2589,  ..., -1.2755, -1.2755, -1.2755],\n          ...,\n          [-0.5719, -0.8339, -0.7949,  ..., -1.2755, -1.2755, -1.2755],\n          [-0.6031, -0.8243, -0.8311,  ..., -1.2755, -1.2755, -1.2755],\n          [-0.5545, -0.9321, -0.9883,  ..., -1.2755, -1.2755, -1.2755]],\n \n         [[ 0.7026,  0.7514,  0.7443,  ..., -0.6381, -0.6381, -0.6381],\n          [ 0.6897,  0.7349,  0.7671,  ..., -0.6381, -0.6381, -0.6381],\n          [ 0.5224,  0.6129,  0.7306,  ..., -0.6381, -0.6381, -0.6381],\n          ...,\n          [-0.1853, -0.2337, -0.1636,  ..., -0.6381, -0.6381, -0.6381],\n          [-0.2660, -0.3524, -0.2340,  ..., -0.6381, -0.6381, -0.6381],\n          [-0.4477, -0.4827, -0.3993,  ..., -0.6381, -0.6381, -0.6381]],\n \n         [[ 0.7889,  0.8189,  0.7841,  ..., -0.9165, -0.9165, -0.9165],\n          [ 0.7451,  0.8052,  0.6050,  ..., -0.9165, -0.9165, -0.9165],\n          [ 0.7879,  0.7036,  0.9030,  ..., -0.9165, -0.9165, -0.9165],\n          ...,\n          [-0.1744, -0.3428, -0.3242,  ..., -0.9165, -0.9165, -0.9165],\n          [-0.2719, -0.3366, -0.3693,  ..., -0.9165, -0.9165, -0.9165],\n          [-0.3854, -0.5461, -0.5095,  ..., -0.9165, -0.9165, -0.9165]],\n \n         [[ 0.3957,  0.3410,  0.1815,  ..., -0.8444, -0.8444, -0.8444],\n          [ 0.2934,  0.2952,  0.2756,  ..., -0.8444, -0.8444, -0.8444],\n          [ 0.1482,  0.1919,  0.1810,  ..., -0.8444, -0.8444, -0.8444],\n          ...,\n          [-0.7010, -0.8444, -0.8444,  ..., -0.8444, -0.8444, -0.8444],\n          [-0.6546, -0.8444, -0.8444,  ..., -0.8444, -0.8444, -0.8444],\n          [-0.6056, -0.8444, -0.8444,  ..., -0.8444, -0.8444, -0.8444]]]),\n 'attention_mask': tensor([[1, 1, 1,  ..., 0, 0, 0],\n         [1, 1, 1,  ..., 0, 0, 0],\n         [1, 1, 1,  ..., 0, 0, 0],\n         [1, 1, 1,  ..., 0, 0, 0]], dtype=torch.int32),\n 'labels': tensor([1, 2, 1, 2]),\n 'embeddings': tensor([[[ 0.0902,  0.0726, -0.0737,  ...,  0.0186,  0.1022,  0.0382],\n          [-0.7705, -1.3672, -0.1180,  ...,  0.7611,  0.0864,  0.7065],\n          [-0.3480, -1.4421, -0.2162,  ...,  0.6791, -0.1064,  0.7670],\n          ...,\n          [ 0.6659, -1.7683,  0.0911,  ..., -0.3950, -0.4863,  0.3840],\n          [-0.3523, -0.6391, -0.0583,  ...,  0.5580,  0.1565,  0.2436],\n          [ 0.2654, -0.1267, -1.3788,  ...,  0.2926, -0.4223, -0.0838]],\n \n         [[ 0.0703,  0.1156, -0.0835,  ...,  0.0425,  0.0467,  0.0339],\n          [-0.5617, -0.1533, -0.6325,  ...,  1.0565, -0.3801,  0.5798],\n          [-0.0423,  0.0030, -0.6344,  ...,  0.7001, -0.5817, -0.0812],\n          ...,\n          [ 0.7729, -1.8346,  0.1491,  ..., -0.4192, -0.5698,  0.3771],\n          [-0.2150, -0.6216, -0.0450,  ...,  0.5715,  0.1278,  0.2204],\n          [ 0.2743, -0.0993, -1.4411,  ...,  0.2387, -0.4818, -0.0800]],\n \n         [[ 0.0605,  0.0618, -0.1315,  ...,  0.0355,  0.0828,  0.0177],\n          [-0.7288, -1.3145, -0.4718,  ...,  0.6616,  0.0558,  0.6393],\n          [-0.7700, -1.3320, -0.4108,  ...,  0.3953, -0.3642,  0.6833],\n          ...,\n          [ 0.6908, -1.7887,  0.0571,  ..., -0.4355, -0.5398,  0.3583],\n          [-0.3449, -0.6106, -0.0837,  ...,  0.5326,  0.1234,  0.2120],\n          [ 0.2530, -0.1176, -1.3897,  ...,  0.2818, -0.4249, -0.0692]],\n \n         [[ 0.1020, -0.0155,  0.0079,  ...,  0.0226,  0.1257,  0.0854],\n          [ 0.7183, -0.0867, -0.7056,  ...,  0.1596, -0.3483,  0.1824],\n          [ 0.9434,  0.6257, -0.9932,  ...,  0.0614, -1.1536,  0.5806],\n          ...,\n          [ 0.8153, -1.8001,  0.1627,  ..., -0.4776, -0.5450,  0.3239],\n          [-0.1915, -0.6138, -0.0268,  ...,  0.5570,  0.1004,  0.2069],\n          [ 0.2740, -0.1211, -1.3981,  ...,  0.1788, -0.5102, -0.1242]]],\n        grad_fn=<NativeLayerNormBackward0>),\n 'head_output': tensor([[-0.2488,  0.1134,  0.6328, -0.1854,  0.4564, -0.6264, -0.1208,  0.9236,\n           1.1655, -0.2462, -0.6287],\n         [-0.2189, -0.1414,  0.4467, -0.2305,  0.5808, -0.7434, -0.2188,  0.6710,\n           1.0141, -0.0984, -0.9165],\n         [-0.3395,  0.1792,  0.6415, -0.0903,  0.4722, -0.5836, -0.2410,  0.9967,\n           1.1701, -0.3196, -0.6847],\n         [-0.1653, -0.2786,  0.3286, -0.3332,  0.5872, -0.8726, -0.2688,  0.6210,\n           1.0609, -0.0791, -0.8875]], grad_fn=<AddmmBackward0>),\n 'loss': tensor(2.3587, grad_fn=<NllLossBackward0>)}"
     },
     "execution_count": 9,
     "metadata": {},
     "output_type": "execute_result"
    }
   ],
   "source": [
    "model(**batch)"
   ],
   "metadata": {
    "collapsed": false,
    "ExecuteTime": {
     "end_time": "2024-04-07T10:59:29.031815500Z",
     "start_time": "2024-04-07T10:59:26.258462Z"
    }
   },
   "id": "bbe03f22dbbc6902"
  },
  {
   "cell_type": "code",
   "outputs": [],
   "source": [
    "from mango.training.MangoTrainer import MangoTrainer\n",
    "from mango.training.MangoTrainer import TrainerConfig\n",
    "from mango.training.trackers import NeptuneTracker"
   ],
   "metadata": {
    "collapsed": false,
    "ExecuteTime": {
     "end_time": "2024-04-05T21:11:51.128655Z",
     "start_time": "2024-04-05T21:11:50.949929Z"
    }
   },
   "id": "9f12e50ce426fbe0",
   "execution_count": 9
  },
  {
   "cell_type": "code",
   "outputs": [
    {
     "name": "stderr",
     "output_type": "stream",
     "text": [
      "[neptune] [warning] NeptuneWarning: The following monitoring options are disabled by default in interactive sessions: 'capture_stdout', 'capture_stderr', 'capture_traceback', and 'capture_hardware_metrics'. To enable them, set each parameter to 'True' when initializing the run. The monitoring will continue until you call run.stop() or the kernel stops. Also note: Your source files can only be tracked if you pass the path(s) to the 'source_code' argument. For help, see the Neptune docs: https://docs.neptune.ai/logging/source_code/\n"
     ]
    },
    {
     "name": "stdout",
     "output_type": "stream",
     "text": [
      "[neptune] [info   ] Neptune initialized. Open in the app: https://app.neptune.ai/mango/mango-noise/e/MNGNS-20\n"
     ]
    }
   ],
   "source": [
    "config = TrainerConfig('whisper-solo-clf', logs_frequency_batches=8, save_strategy='epoch', early_stopping_patience=3)\n",
    "\n",
    "tracker = NeptuneTracker('mango/mango-noise',\n",
    "                         'eyJhcGlfYWRkcmVzcyI6Imh0dHBzOi8vYXBwLm5lcHR1bmUuYWkiLCJhcGlfdXJsIjoiaHR0cHM6Ly9hcHAubmVwdHVuZS5haSIsImFwaV9rZXkiOiJhODNmZWQ5NS1hNDRiLTRiZDUtODJhYS1jYmRiZTQ0MDkzNDQifQ==',\n",
    "                         'whisper-solo-clf', tags=[\n",
    "        'solo-noise',\n",
    "        'whisper-tiny',\n",
    "        'urban-sound',\n",
    "    ])\n",
    "\n",
    "trainer = MangoTrainer(\n",
    "    model,\n",
    "    loader,\n",
    "    loader,\n",
    "    config,\n",
    "    trackers=[tracker]\n",
    ")"
   ],
   "metadata": {
    "collapsed": false,
    "ExecuteTime": {
     "end_time": "2024-04-05T21:11:52.790707Z",
     "start_time": "2024-04-05T21:11:51.264457Z"
    }
   },
   "id": "44053e242d6d982a",
   "execution_count": 10
  },
  {
   "cell_type": "code",
   "outputs": [
    {
     "data": {
      "text/plain": "train:   0%|          | 0/375 [00:00<?, ?it/s]",
      "application/vnd.jupyter.widget-view+json": {
       "version_major": 2,
       "version_minor": 0,
       "model_id": "15144684a3e34aecbfaa7a405e1edbeb"
      }
     },
     "metadata": {},
     "output_type": "display_data"
    },
    {
     "data": {
      "text/plain": "eval:   0%|          | 0/375 [00:00<?, ?it/s]",
      "application/vnd.jupyter.widget-view+json": {
       "version_major": 2,
       "version_minor": 0,
       "model_id": "9ddf406d02384d4bb428665bd59e4656"
      }
     },
     "metadata": {},
     "output_type": "display_data"
    },
    {
     "ename": "RuntimeError",
     "evalue": "MPS backend out of memory (MPS allocated: 11.51 GB, other allocations: 7.53 GB, max allowed: 18.13 GB). Tried to allocate 64.50 KB on private pool. Use PYTORCH_MPS_HIGH_WATERMARK_RATIO=0.0 to disable upper limit for memory allocations (may cause system failure).",
     "output_type": "error",
     "traceback": [
      "\u001B[0;31m---------------------------------------------------------------------------\u001B[0m",
      "\u001B[0;31mRuntimeError\u001B[0m                              Traceback (most recent call last)",
      "Cell \u001B[0;32mIn[11], line 1\u001B[0m\n\u001B[0;32m----> 1\u001B[0m \u001B[43mtrainer\u001B[49m\u001B[38;5;241;43m.\u001B[39;49m\u001B[43mtrain\u001B[49m\u001B[43m(\u001B[49m\u001B[38;5;241;43m1\u001B[39;49m\u001B[43m,\u001B[49m\u001B[43m \u001B[49m\u001B[38;5;28;43;01mNone\u001B[39;49;00m\u001B[43m)\u001B[49m\n",
      "File \u001B[0;32m~/PycharmProjects/MangoDemo/mango/training/MangoTrainer.py:133\u001B[0m, in \u001B[0;36mMangoTrainer.train\u001B[0;34m(self, num_epochs, compute_metrics)\u001B[0m\n\u001B[1;32m    130\u001B[0m \u001B[38;5;28;01mfor\u001B[39;00m epoch \u001B[38;5;129;01min\u001B[39;00m \u001B[38;5;28mrange\u001B[39m(num_epochs):\n\u001B[1;32m    131\u001B[0m     \u001B[38;5;28mself\u001B[39m\u001B[38;5;241m.\u001B[39mepoch \u001B[38;5;241m=\u001B[39m epoch\n\u001B[0;32m--> 133\u001B[0m     train_outputs \u001B[38;5;241m=\u001B[39m \u001B[38;5;28;43mself\u001B[39;49m\u001B[38;5;241;43m.\u001B[39;49m\u001B[43mtrain_iteration\u001B[49m\u001B[43m(\u001B[49m\u001B[43mepoch\u001B[49m\u001B[43m)\u001B[49m\n\u001B[1;32m    135\u001B[0m     train_losses\u001B[38;5;241m.\u001B[39mappend(np\u001B[38;5;241m.\u001B[39mmean(train_outputs\u001B[38;5;241m.\u001B[39mlosses))\n\u001B[1;32m    136\u001B[0m     \u001B[38;5;28;01mif\u001B[39;00m \u001B[38;5;28mself\u001B[39m\u001B[38;5;241m.\u001B[39mconfig\u001B[38;5;241m.\u001B[39mearly_stopping_patience \u001B[38;5;129;01mis\u001B[39;00m \u001B[38;5;129;01mnot\u001B[39;00m \u001B[38;5;28;01mNone\u001B[39;00m:\n",
      "File \u001B[0;32m~/PycharmProjects/MangoDemo/mango/training/MangoTrainer.py:252\u001B[0m, in \u001B[0;36mMangoTrainer.train_iteration\u001B[0;34m(self, epoch_index)\u001B[0m\n\u001B[1;32m    248\u001B[0m         \u001B[38;5;28;01mif\u001B[39;00m \u001B[38;5;28mself\u001B[39m\u001B[38;5;241m.\u001B[39mglobal_train_step \u001B[38;5;241m%\u001B[39m \u001B[38;5;28mself\u001B[39m\u001B[38;5;241m.\u001B[39mconfig\u001B[38;5;241m.\u001B[39mlogs_frequency_batches \u001B[38;5;241m==\u001B[39m \u001B[38;5;241m0\u001B[39m:\n\u001B[1;32m    249\u001B[0m             logger\u001B[38;5;241m.\u001B[39mdebug(\u001B[38;5;124mf\u001B[39m\u001B[38;5;124m'\u001B[39m\u001B[38;5;124mGlobal train step \u001B[39m\u001B[38;5;132;01m{\u001B[39;00m\u001B[38;5;28mself\u001B[39m\u001B[38;5;241m.\u001B[39mglobal_train_step\u001B[38;5;132;01m}\u001B[39;00m\u001B[38;5;124m'\u001B[39m)\n\u001B[1;32m    251\u001B[0m \u001B[38;5;28;01mreturn\u001B[39;00m TrainingOutput(epoch_id\u001B[38;5;241m=\u001B[39mepoch_index, losses\u001B[38;5;241m=\u001B[39mlosses,\n\u001B[0;32m--> 252\u001B[0m                       model_outputs\u001B[38;5;241m=\u001B[39m\u001B[38;5;28;43mself\u001B[39;49m\u001B[38;5;241;43m.\u001B[39;49m\u001B[43mgroup_predictions\u001B[49m\u001B[43m(\u001B[49m\u001B[43mtrain_outputs\u001B[49m\u001B[43m)\u001B[49m)\n",
      "File \u001B[0;32m~/PycharmProjects/MangoDemo/mango/training/MangoTrainer.py:208\u001B[0m, in \u001B[0;36mMangoTrainer.group_predictions\u001B[0;34m(self, predictions)\u001B[0m\n\u001B[1;32m    206\u001B[0m         ret[k] \u001B[38;5;241m=\u001B[39m torch\u001B[38;5;241m.\u001B[39mtensor(v)\n\u001B[1;32m    207\u001B[0m     \u001B[38;5;28;01melse\u001B[39;00m:\n\u001B[0;32m--> 208\u001B[0m         ret[k] \u001B[38;5;241m=\u001B[39m \u001B[43mtorch\u001B[49m\u001B[38;5;241;43m.\u001B[39;49m\u001B[43mconcatenate\u001B[49m\u001B[43m(\u001B[49m\u001B[43mv\u001B[49m\u001B[43m)\u001B[49m\n\u001B[1;32m    209\u001B[0m \u001B[38;5;28;01mreturn\u001B[39;00m ret\n",
      "\u001B[0;31mRuntimeError\u001B[0m: MPS backend out of memory (MPS allocated: 11.51 GB, other allocations: 7.53 GB, max allowed: 18.13 GB). Tried to allocate 64.50 KB on private pool. Use PYTORCH_MPS_HIGH_WATERMARK_RATIO=0.0 to disable upper limit for memory allocations (may cause system failure)."
     ]
    }
   ],
   "source": [
    "trainer.train(1, None)"
   ],
   "metadata": {
    "collapsed": false,
    "ExecuteTime": {
     "end_time": "2024-04-05T21:14:58.339737Z",
     "start_time": "2024-04-05T21:11:52.795789Z"
    }
   },
   "id": "98b1e54f3ffdbce2",
   "execution_count": 11
  },
  {
   "cell_type": "code",
   "outputs": [],
   "source": [],
   "metadata": {
    "collapsed": false
   },
   "id": "e8f4ad67de744ac8"
  }
 ],
 "metadata": {
  "kernelspec": {
   "display_name": "Python 3",
   "language": "python",
   "name": "python3"
  },
  "language_info": {
   "codemirror_mode": {
    "name": "ipython",
    "version": 2
   },
   "file_extension": ".py",
   "mimetype": "text/x-python",
   "name": "python",
   "nbconvert_exporter": "python",
   "pygments_lexer": "ipython2",
   "version": "2.7.6"
  }
 },
 "nbformat": 4,
 "nbformat_minor": 5
}
