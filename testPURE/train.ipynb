{
 "cells": [
  {
   "cell_type": "code",
   "execution_count": 1,
   "id": "initial_id",
   "metadata": {
    "collapsed": true,
    "ExecuteTime": {
     "end_time": "2024-04-05T21:11:14.887100Z",
     "start_time": "2024-04-05T21:11:13.488028Z"
    }
   },
   "outputs": [],
   "source": [
    "from mangoPURE.data import DatasetMixer\n",
    "from mangoPURE.data.mixer import TorchDatasetWrapper\n",
    "from mangoPURE.data.transforms import CreateRandomBlankAudio, AddRandomFilledNoise, MergeAll\n",
    "from mangoPURE.data.providers import UrbanRandom"
   ]
  },
  {
   "cell_type": "code",
   "outputs": [],
   "source": [
    "from datasets import load_dataset\n",
    "\n",
    "urban_provider = UrbanRandom(load_dataset('danavery/urbansound8K', split='train'))\n",
    "data = DatasetMixer([CreateRandomBlankAudio(), AddRandomFilledNoise(urban_provider), MergeAll()])"
   ],
   "metadata": {
    "collapsed": false,
    "ExecuteTime": {
     "end_time": "2024-04-05T21:11:23.645911Z",
     "start_time": "2024-04-05T21:11:14.888008Z"
    }
   },
   "id": "d99b038be6100d96",
   "execution_count": 2
  },
  {
   "cell_type": "code",
   "outputs": [],
   "source": [
    "dataset = TorchDatasetWrapper(data, 1500)"
   ],
   "metadata": {
    "collapsed": false,
    "ExecuteTime": {
     "end_time": "2024-04-05T21:11:23.652119Z",
     "start_time": "2024-04-05T21:11:23.647198Z"
    }
   },
   "id": "9ba16ad83fcdf66b",
   "execution_count": 3
  },
  {
   "cell_type": "code",
   "outputs": [],
   "source": [
    "from torch.utils.data import DataLoader\n",
    "from mangoPURE.models.collators import OneNoiseCollator\n",
    "from transformers import WhisperFeatureExtractor\n",
    "\n",
    "extractor = WhisperFeatureExtractor.from_pretrained('openai/whisper-tiny')\n",
    "loader = DataLoader(dataset, 4, collate_fn=OneNoiseCollator(extractor))"
   ],
   "metadata": {
    "collapsed": false,
    "ExecuteTime": {
     "end_time": "2024-04-05T21:11:24.082675Z",
     "start_time": "2024-04-05T21:11:23.657862Z"
    }
   },
   "id": "d5d6da7d5f22a3f7",
   "execution_count": 4
  },
  {
   "cell_type": "code",
   "outputs": [],
   "source": [
    "batch = next(iter(loader))"
   ],
   "metadata": {
    "collapsed": false,
    "ExecuteTime": {
     "end_time": "2024-04-05T21:11:27.956795Z",
     "start_time": "2024-04-05T21:11:24.083921Z"
    }
   },
   "id": "3f10a38fc5b350ac",
   "execution_count": 5
  },
  {
   "cell_type": "code",
   "outputs": [],
   "source": [
    "from mangoPURE.models.modules import WhisperTimedModel"
   ],
   "metadata": {
    "collapsed": false,
    "ExecuteTime": {
     "end_time": "2024-04-05T21:11:28.336185Z",
     "start_time": "2024-04-05T21:11:27.960848Z"
    }
   },
   "id": "b0bff3157cd99a2e",
   "execution_count": 6
  },
  {
   "cell_type": "code",
   "outputs": [],
   "source": [
    "from mangoPURE.models.modules import WhisperEmbedder, LinearSoloHead\n",
    "from mangoPURE.models.metrics import CrossEntropyLoss\n",
    "\n",
    "model = WhisperTimedModel(WhisperEmbedder('openai/whisper-tiny'), LinearSoloHead(384, 11), CrossEntropyLoss())"
   ],
   "metadata": {
    "collapsed": false,
    "ExecuteTime": {
     "end_time": "2024-04-05T21:11:28.896096Z",
     "start_time": "2024-04-05T21:11:28.337100Z"
    }
   },
   "id": "793e50cfbdff0bcb",
   "execution_count": 7
  },
  {
   "cell_type": "code",
   "outputs": [],
   "source": [
    "from mango.training.MangoTrainer import MangoTrainer\n",
    "from mango.training.MangoTrainer import TrainerConfig\n",
    "from mango.training.trackers import NeptuneTracker"
   ],
   "metadata": {
    "collapsed": false,
    "ExecuteTime": {
     "end_time": "2024-04-05T21:11:51.128655Z",
     "start_time": "2024-04-05T21:11:50.949929Z"
    }
   },
   "id": "9f12e50ce426fbe0",
   "execution_count": 9
  },
  {
   "cell_type": "code",
   "outputs": [
    {
     "name": "stderr",
     "output_type": "stream",
     "text": [
      "[neptune] [warning] NeptuneWarning: The following monitoring options are disabled by default in interactive sessions: 'capture_stdout', 'capture_stderr', 'capture_traceback', and 'capture_hardware_metrics'. To enable them, set each parameter to 'True' when initializing the run. The monitoring will continue until you call run.stop() or the kernel stops. Also note: Your source files can only be tracked if you pass the path(s) to the 'source_code' argument. For help, see the Neptune docs: https://docs.neptune.ai/logging/source_code/\n"
     ]
    },
    {
     "name": "stdout",
     "output_type": "stream",
     "text": [
      "[neptune] [info   ] Neptune initialized. Open in the app: https://app.neptune.ai/mango/mango-noise/e/MNGNS-20\n"
     ]
    }
   ],
   "source": [
    "config = TrainerConfig('whisper-solo-clf', logs_frequency_batches=8, save_strategy='epoch', early_stopping_patience=3)\n",
    "\n",
    "tracker = NeptuneTracker('mango/mango-noise',\n",
    "                         'eyJhcGlfYWRkcmVzcyI6Imh0dHBzOi8vYXBwLm5lcHR1bmUuYWkiLCJhcGlfdXJsIjoiaHR0cHM6Ly9hcHAubmVwdHVuZS5haSIsImFwaV9rZXkiOiJhODNmZWQ5NS1hNDRiLTRiZDUtODJhYS1jYmRiZTQ0MDkzNDQifQ==',\n",
    "                         'whisper-solo-clf', tags=[\n",
    "        'solo-noise',\n",
    "        'whisper-tiny',\n",
    "        'urban-sound',\n",
    "    ])\n",
    "\n",
    "trainer = MangoTrainer(\n",
    "    model,\n",
    "    loader,\n",
    "    loader,\n",
    "    config,\n",
    "    trackers=[tracker]\n",
    ")"
   ],
   "metadata": {
    "collapsed": false,
    "ExecuteTime": {
     "end_time": "2024-04-05T21:11:52.790707Z",
     "start_time": "2024-04-05T21:11:51.264457Z"
    }
   },
   "id": "44053e242d6d982a",
   "execution_count": 10
  },
  {
   "cell_type": "code",
   "outputs": [
    {
     "data": {
      "text/plain": "train:   0%|          | 0/375 [00:00<?, ?it/s]",
      "application/vnd.jupyter.widget-view+json": {
       "version_major": 2,
       "version_minor": 0,
       "model_id": "15144684a3e34aecbfaa7a405e1edbeb"
      }
     },
     "metadata": {},
     "output_type": "display_data"
    },
    {
     "data": {
      "text/plain": "eval:   0%|          | 0/375 [00:00<?, ?it/s]",
      "application/vnd.jupyter.widget-view+json": {
       "version_major": 2,
       "version_minor": 0,
       "model_id": "9ddf406d02384d4bb428665bd59e4656"
      }
     },
     "metadata": {},
     "output_type": "display_data"
    },
    {
     "ename": "RuntimeError",
     "evalue": "MPS backend out of memory (MPS allocated: 11.51 GB, other allocations: 7.53 GB, max allowed: 18.13 GB). Tried to allocate 64.50 KB on private pool. Use PYTORCH_MPS_HIGH_WATERMARK_RATIO=0.0 to disable upper limit for memory allocations (may cause system failure).",
     "output_type": "error",
     "traceback": [
      "\u001B[0;31m---------------------------------------------------------------------------\u001B[0m",
      "\u001B[0;31mRuntimeError\u001B[0m                              Traceback (most recent call last)",
      "Cell \u001B[0;32mIn[11], line 1\u001B[0m\n\u001B[0;32m----> 1\u001B[0m \u001B[43mtrainer\u001B[49m\u001B[38;5;241;43m.\u001B[39;49m\u001B[43mtrain\u001B[49m\u001B[43m(\u001B[49m\u001B[38;5;241;43m1\u001B[39;49m\u001B[43m,\u001B[49m\u001B[43m \u001B[49m\u001B[38;5;28;43;01mNone\u001B[39;49;00m\u001B[43m)\u001B[49m\n",
      "File \u001B[0;32m~/PycharmProjects/MangoDemo/mango/training/MangoTrainer.py:133\u001B[0m, in \u001B[0;36mMangoTrainer.train\u001B[0;34m(self, num_epochs, compute_metrics)\u001B[0m\n\u001B[1;32m    130\u001B[0m \u001B[38;5;28;01mfor\u001B[39;00m epoch \u001B[38;5;129;01min\u001B[39;00m \u001B[38;5;28mrange\u001B[39m(num_epochs):\n\u001B[1;32m    131\u001B[0m     \u001B[38;5;28mself\u001B[39m\u001B[38;5;241m.\u001B[39mepoch \u001B[38;5;241m=\u001B[39m epoch\n\u001B[0;32m--> 133\u001B[0m     train_outputs \u001B[38;5;241m=\u001B[39m \u001B[38;5;28;43mself\u001B[39;49m\u001B[38;5;241;43m.\u001B[39;49m\u001B[43mtrain_iteration\u001B[49m\u001B[43m(\u001B[49m\u001B[43mepoch\u001B[49m\u001B[43m)\u001B[49m\n\u001B[1;32m    135\u001B[0m     train_losses\u001B[38;5;241m.\u001B[39mappend(np\u001B[38;5;241m.\u001B[39mmean(train_outputs\u001B[38;5;241m.\u001B[39mlosses))\n\u001B[1;32m    136\u001B[0m     \u001B[38;5;28;01mif\u001B[39;00m \u001B[38;5;28mself\u001B[39m\u001B[38;5;241m.\u001B[39mconfig\u001B[38;5;241m.\u001B[39mearly_stopping_patience \u001B[38;5;129;01mis\u001B[39;00m \u001B[38;5;129;01mnot\u001B[39;00m \u001B[38;5;28;01mNone\u001B[39;00m:\n",
      "File \u001B[0;32m~/PycharmProjects/MangoDemo/mango/training/MangoTrainer.py:252\u001B[0m, in \u001B[0;36mMangoTrainer.train_iteration\u001B[0;34m(self, epoch_index)\u001B[0m\n\u001B[1;32m    248\u001B[0m         \u001B[38;5;28;01mif\u001B[39;00m \u001B[38;5;28mself\u001B[39m\u001B[38;5;241m.\u001B[39mglobal_train_step \u001B[38;5;241m%\u001B[39m \u001B[38;5;28mself\u001B[39m\u001B[38;5;241m.\u001B[39mconfig\u001B[38;5;241m.\u001B[39mlogs_frequency_batches \u001B[38;5;241m==\u001B[39m \u001B[38;5;241m0\u001B[39m:\n\u001B[1;32m    249\u001B[0m             logger\u001B[38;5;241m.\u001B[39mdebug(\u001B[38;5;124mf\u001B[39m\u001B[38;5;124m'\u001B[39m\u001B[38;5;124mGlobal train step \u001B[39m\u001B[38;5;132;01m{\u001B[39;00m\u001B[38;5;28mself\u001B[39m\u001B[38;5;241m.\u001B[39mglobal_train_step\u001B[38;5;132;01m}\u001B[39;00m\u001B[38;5;124m'\u001B[39m)\n\u001B[1;32m    251\u001B[0m \u001B[38;5;28;01mreturn\u001B[39;00m TrainingOutput(epoch_id\u001B[38;5;241m=\u001B[39mepoch_index, losses\u001B[38;5;241m=\u001B[39mlosses,\n\u001B[0;32m--> 252\u001B[0m                       model_outputs\u001B[38;5;241m=\u001B[39m\u001B[38;5;28;43mself\u001B[39;49m\u001B[38;5;241;43m.\u001B[39;49m\u001B[43mgroup_predictions\u001B[49m\u001B[43m(\u001B[49m\u001B[43mtrain_outputs\u001B[49m\u001B[43m)\u001B[49m)\n",
      "File \u001B[0;32m~/PycharmProjects/MangoDemo/mango/training/MangoTrainer.py:208\u001B[0m, in \u001B[0;36mMangoTrainer.group_predictions\u001B[0;34m(self, predictions)\u001B[0m\n\u001B[1;32m    206\u001B[0m         ret[k] \u001B[38;5;241m=\u001B[39m torch\u001B[38;5;241m.\u001B[39mtensor(v)\n\u001B[1;32m    207\u001B[0m     \u001B[38;5;28;01melse\u001B[39;00m:\n\u001B[0;32m--> 208\u001B[0m         ret[k] \u001B[38;5;241m=\u001B[39m \u001B[43mtorch\u001B[49m\u001B[38;5;241;43m.\u001B[39;49m\u001B[43mconcatenate\u001B[49m\u001B[43m(\u001B[49m\u001B[43mv\u001B[49m\u001B[43m)\u001B[49m\n\u001B[1;32m    209\u001B[0m \u001B[38;5;28;01mreturn\u001B[39;00m ret\n",
      "\u001B[0;31mRuntimeError\u001B[0m: MPS backend out of memory (MPS allocated: 11.51 GB, other allocations: 7.53 GB, max allowed: 18.13 GB). Tried to allocate 64.50 KB on private pool. Use PYTORCH_MPS_HIGH_WATERMARK_RATIO=0.0 to disable upper limit for memory allocations (may cause system failure)."
     ]
    }
   ],
   "source": [
    "trainer.train(1, None)"
   ],
   "metadata": {
    "collapsed": false,
    "ExecuteTime": {
     "end_time": "2024-04-05T21:14:58.339737Z",
     "start_time": "2024-04-05T21:11:52.795789Z"
    }
   },
   "id": "98b1e54f3ffdbce2",
   "execution_count": 11
  },
  {
   "cell_type": "code",
   "outputs": [],
   "source": [],
   "metadata": {
    "collapsed": false
   },
   "id": "e8f4ad67de744ac8"
  }
 ],
 "metadata": {
  "kernelspec": {
   "display_name": "Python 3",
   "language": "python",
   "name": "python3"
  },
  "language_info": {
   "codemirror_mode": {
    "name": "ipython",
    "version": 2
   },
   "file_extension": ".py",
   "mimetype": "text/x-python",
   "name": "python",
   "nbconvert_exporter": "python",
   "pygments_lexer": "ipython2",
   "version": "2.7.6"
  }
 },
 "nbformat": 4,
 "nbformat_minor": 5
}
