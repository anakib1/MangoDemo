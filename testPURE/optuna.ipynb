{
 "cells": [
  {
   "cell_type": "code",
   "execution_count": 1,
   "id": "initial_id",
   "metadata": {
    "collapsed": true,
    "ExecuteTime": {
     "end_time": "2024-04-08T20:23:55.133199400Z",
     "start_time": "2024-04-08T20:23:49.721205200Z"
    }
   },
   "outputs": [],
   "source": [
    "import os\n",
    "\n",
    "import accelerate\n",
    "import optuna"
   ]
  },
  {
   "cell_type": "code",
   "execution_count": 2,
   "outputs": [],
   "source": [
    "from mangoPURE.data.augment import AugmentationTransform"
   ],
   "metadata": {
    "collapsed": false,
    "ExecuteTime": {
     "end_time": "2024-04-08T20:23:55.922199600Z",
     "start_time": "2024-04-08T20:23:55.138204300Z"
    }
   },
   "id": "1b7ee1d78cf3d5fc"
  },
  {
   "cell_type": "code",
   "execution_count": 3,
   "outputs": [],
   "source": [
    "from mangoPURE.data import DatasetMixer\n",
    "from mangoPURE.data.mixer import TorchDatasetWrapper\n",
    "from mangoPURE.data.transforms import CreateRandomBlankAudio, AddRandomFilledNoise, MergeAll\n",
    "from mangoPURE.data.providers import UrbanRandom\n",
    "from datasets import load_dataset\n",
    "from mangoPURE.models.collators import OneNoiseCollator\n",
    "from transformers import WhisperFeatureExtractor, WhisperConfig\n",
    "from torch.utils.data import DataLoader\n",
    "from mangoPURE.models.modules import WhisperTimedModel\n",
    "from mangoPURE.models.modules import WhisperEmbedder, LinearSoloHead\n",
    "from mangoPURE.models.metrics import CrossEntropyLoss\n",
    "from mango.training.MangoTrainer import MangoTrainer\n",
    "from mango.training.MangoTrainer import TrainerConfig\n",
    "import accelerate\n",
    "import torch"
   ],
   "metadata": {
    "collapsed": false,
    "ExecuteTime": {
     "end_time": "2024-04-08T20:24:01.530211900Z",
     "start_time": "2024-04-08T20:23:55.923213Z"
    }
   },
   "id": "d737dd37c6e4bc79"
  },
  {
   "cell_type": "code",
   "execution_count": 4,
   "outputs": [],
   "source": [
    "urban_provider = UrbanRandom(load_dataset('danavery/urbansound8K', split='train'))"
   ],
   "metadata": {
    "collapsed": false,
    "ExecuteTime": {
     "end_time": "2024-04-08T20:24:12.102287300Z",
     "start_time": "2024-04-08T20:24:01.533199800Z"
    }
   },
   "id": "8bf2aae816a728ab"
  },
  {
   "cell_type": "code",
   "execution_count": 5,
   "outputs": [],
   "source": [
    "from dataclasses import dataclass\n",
    "import torch\n",
    "from sklearn.metrics import f1_score\n",
    "from mango.utils.multilabel import render_confusion_matrix_sololabel\n",
    "\n",
    "@dataclass\n",
    "class ClassificationAccuracy:\n",
    "    threshold: float = 0.5\n",
    "\n",
    "    def __call__(self, train_output):\n",
    "        preds = train_output.model_outputs[\"head_output\"].argmax(dim=-1).cpu()\n",
    "        labels = train_output.model_outputs[\"labels\"].int().cpu()\n",
    "        result = preds == labels\n",
    "        accuracy = result.int().sum() / torch.numel(result)\n",
    "\n",
    "        return {\"accuracy\": float(accuracy.numpy()),\n",
    "                \"f1_macro\": float(f1_score(y_true=labels, y_pred=preds, average='macro')),\n",
    "                \"f1_micro\": float(f1_score(y_true=labels, y_pred=preds, average='micro')),\n",
    "                'conf_matrix' : render_confusion_matrix_sololabel(labels, preds)\n",
    "                }"
   ],
   "metadata": {
    "collapsed": false,
    "ExecuteTime": {
     "end_time": "2024-04-08T20:24:12.813774800Z",
     "start_time": "2024-04-08T20:24:12.111291600Z"
    }
   },
   "id": "c1d3181857c66e3a"
  },
  {
   "cell_type": "code",
   "execution_count": 6,
   "outputs": [],
   "source": [
    "def get_data(param):\n",
    "    train_transforms = [CreateRandomBlankAudio(), AddRandomFilledNoise(urban_provider), MergeAll()]\n",
    "    test_transforms = [CreateRandomBlankAudio(), AddRandomFilledNoise(urban_provider), MergeAll()]\n",
    "    if param['use_augment']:\n",
    "        train_transforms.append(AugmentationTransform())\n",
    "    train_data = DatasetMixer(train_transforms)\n",
    "    test_data = DatasetMixer(test_transforms)\n",
    "\n",
    "    train_dataset = TorchDatasetWrapper(train_data, 15)\n",
    "    val_dataset = TorchDatasetWrapper(test_data, 15)\n",
    "\n",
    "    return train_dataset, val_dataset\n",
    "\n",
    "\n",
    "checkpoint_to_batch = {\n",
    "    'whisper-tiny': 64,\n",
    "    'whisper-base': 48,\n",
    "    'whisper-small': 24\n",
    "}\n",
    "\n",
    "available_models = ['whisper-tiny']#['whisper-tiny', 'whisper-base', 'whisper-small']\n",
    "\n",
    "accelerator = accelerate.Accelerator(mixed_precision='fp16')\n",
    "\n",
    "def objective(trial):\n",
    "    param = {\n",
    "        \"checkpoint\": trial.suggest_categorical(\"checkpoint\", available_models),\n",
    "        \"use_augment\": trial.suggest_categorical('use_augment', [False, True]),\n",
    "        'lr': trial.suggest_float('lr', 4e-6, 1e-3, log=True),\n",
    "        'momentum': trial.suggest_float('momentum', 0, 1, step=0.1),\n",
    "        'fp16': True,  # Unclear what to do here... trial.suggest_categorical('fp16', [False, True]),\n",
    "        'grad_clip': trial.suggest_categorical('grad_clip', [False, True])\n",
    "    }\n",
    "\n",
    "    train, val = get_data(param)\n",
    "    checkpoint = f'openai/{param[\"checkpoint\"]}'\n",
    "\n",
    "    whisper_config = WhisperConfig.from_pretrained(checkpoint)\n",
    "    extractor = WhisperFeatureExtractor.from_pretrained(checkpoint)\n",
    "    batch_size = checkpoint_to_batch[param[\"checkpoint\"]]\n",
    "    if not param['fp16']:\n",
    "        batch_size /= 2\n",
    "\n",
    "    train_loader = DataLoader(train, batch_size, collate_fn=OneNoiseCollator(extractor), num_workers=2,\n",
    "                              prefetch_factor=4)\n",
    "    val_loader = DataLoader(val, batch_size, collate_fn=OneNoiseCollator(extractor), num_workers=2, prefetch_factor=4)\n",
    "\n",
    "    model = WhisperTimedModel(WhisperEmbedder(checkpoint), LinearSoloHead(whisper_config.d_model, 11),\n",
    "                              CrossEntropyLoss())\n",
    "\n",
    "    config = TrainerConfig('whisper-solo-clf',\n",
    "                           logs_frequency_batches=1000000,\n",
    "                           save_strategy='never',\n",
    "                           early_stopping_patience=20,\n",
    "                           push_to_hub=False,\n",
    "                           mixed_precision='fp16',\n",
    "                           grad_clip=param['grad_clip'])\n",
    "\n",
    "    optim = torch.optim.AdamW(model.parameters(), lr=param['lr'], weight_decay=1e-5)\n",
    "    scheduler = torch.optim.lr_scheduler.CyclicLR(optim, base_lr=param['lr'], max_lr=param['lr'] * 10, mode='exp_range',\n",
    "                                                  gamma=param['momentum'], cycle_momentum=False,\n",
    "                                                  step_size_up=int(len(train_loader) * 1.75),\n",
    "                                                  step_size_down=int(len(train_loader) * 1.25))\n",
    "\n",
    "    trainer = MangoTrainer(\n",
    "        model,\n",
    "        train_loader,\n",
    "        val_loader,\n",
    "        config,\n",
    "        accelerator=accelerator,\n",
    "        optimizer=optim,\n",
    "        scheduler=scheduler,\n",
    "        trackers=[]\n",
    "    )\n",
    "    \n",
    "    trainer.train(1, None)\n",
    "    \n",
    "    eval_output = trainer.eval_iteration(1)\n",
    "    \n",
    "    return ClassificationAccuracy()(eval_output)['accuracy']"
   ],
   "metadata": {
    "collapsed": false,
    "ExecuteTime": {
     "end_time": "2024-04-08T20:24:12.852777900Z",
     "start_time": "2024-04-08T20:24:12.830774900Z"
    }
   },
   "id": "90a74b40cb33ec6e"
  },
  {
   "cell_type": "code",
   "execution_count": 7,
   "outputs": [
    {
     "name": "stderr",
     "output_type": "stream",
     "text": [
      "[neptune] [warning] NeptuneWarning: The following monitoring options are disabled by default in interactive sessions: 'capture_stdout', 'capture_stderr', 'capture_traceback', and 'capture_hardware_metrics'. To enable them, set each parameter to 'True' when initializing the run. The monitoring will continue until you call run.stop() or the kernel stops. Also note: Your source files can only be tracked if you pass the path(s) to the 'source_code' argument. For help, see the Neptune docs: https://docs.neptune.ai/logging/source_code/\n"
     ]
    },
    {
     "name": "stdout",
     "output_type": "stream",
     "text": [
      "[neptune] [info   ] Neptune initialized. Open in the app: https://app.neptune.ai/mango/mango-sweep/e/MNGSWP-3\n"
     ]
    }
   ],
   "source": [
    "import neptune\n",
    "import os \n",
    "\n",
    "run = neptune.init_run(project='mango/mango-sweep', api_token=os.getenv('NEPTUNE_TOKEN'))"
   ],
   "metadata": {
    "collapsed": false,
    "ExecuteTime": {
     "end_time": "2024-04-08T20:24:15.891264600Z",
     "start_time": "2024-04-08T20:24:12.849778900Z"
    }
   },
   "id": "a1ac25a1bde69044"
  },
  {
   "cell_type": "code",
   "execution_count": 8,
   "outputs": [],
   "source": [
    "import neptune.integrations.optuna as npt_utils\n",
    "\n",
    "neptune_callback = npt_utils.NeptuneCallback(run)"
   ],
   "metadata": {
    "collapsed": false,
    "ExecuteTime": {
     "end_time": "2024-04-08T20:24:15.916266900Z",
     "start_time": "2024-04-08T20:24:15.886266400Z"
    }
   },
   "id": "6ad0d82f4994f10d"
  },
  {
   "cell_type": "code",
   "execution_count": 9,
   "outputs": [
    {
     "name": "stderr",
     "output_type": "stream",
     "text": [
      "[I 2024-04-08 23:24:15,916] A new study created in memory with name: no-name-fa37da4f-8e83-4ab5-a6bc-98fc2d13a060\n"
     ]
    },
    {
     "data": {
      "text/plain": "train:   0%|          | 0/1 [00:00<?, ?it/s]",
      "application/vnd.jupyter.widget-view+json": {
       "version_major": 2,
       "version_minor": 0,
       "model_id": "c0609276fd344fdf976e0b1a92beb5fb"
      }
     },
     "metadata": {},
     "output_type": "display_data"
    },
    {
     "data": {
      "text/plain": "eval:   0%|          | 0/1 [00:00<?, ?it/s]",
      "application/vnd.jupyter.widget-view+json": {
       "version_major": 2,
       "version_minor": 0,
       "model_id": "0f789f007a3b444f90572c9af58fad28"
      }
     },
     "metadata": {},
     "output_type": "display_data"
    },
    {
     "name": "stderr",
     "output_type": "stream",
     "text": [
      "[I 2024-04-08 23:25:50,641] Trial 0 finished with value: 0.0 and parameters: {'checkpoint': 'whisper-tiny', 'use_augment': False, 'lr': 7.605802989739623e-05, 'momentum': 0.9288056848897888, 'grad_clip': False}. Best is trial 0 with value: 0.0.\n",
      "[W 2024-04-08 23:25:50,980] Param grad_clip unique value length is less than 2.\n",
      "[W 2024-04-08 23:25:50,981] Param lr unique value length is less than 2.\n",
      "[W 2024-04-08 23:25:50,982] Param momentum unique value length is less than 2.\n",
      "[W 2024-04-08 23:25:50,983] Param use_augment unique value length is less than 2.\n",
      "[W 2024-04-08 23:25:50,983] Param checkpoint unique value length is less than 2.\n",
      "[W 2024-04-08 23:25:50,984] Param lr unique value length is less than 2.\n",
      "[W 2024-04-08 23:25:50,985] Param momentum unique value length is less than 2.\n",
      "[W 2024-04-08 23:25:50,985] Param use_augment unique value length is less than 2.\n",
      "[W 2024-04-08 23:25:50,986] Param checkpoint unique value length is less than 2.\n",
      "[W 2024-04-08 23:25:50,987] Param grad_clip unique value length is less than 2.\n",
      "[W 2024-04-08 23:25:50,988] Param momentum unique value length is less than 2.\n",
      "[W 2024-04-08 23:25:50,988] Param use_augment unique value length is less than 2.\n",
      "[W 2024-04-08 23:25:50,989] Param checkpoint unique value length is less than 2.\n",
      "[W 2024-04-08 23:25:50,990] Param grad_clip unique value length is less than 2.\n",
      "[W 2024-04-08 23:25:50,990] Param lr unique value length is less than 2.\n",
      "[W 2024-04-08 23:25:50,991] Param use_augment unique value length is less than 2.\n",
      "[W 2024-04-08 23:25:50,992] Param checkpoint unique value length is less than 2.\n",
      "[W 2024-04-08 23:25:50,993] Param grad_clip unique value length is less than 2.\n",
      "[W 2024-04-08 23:25:50,994] Param lr unique value length is less than 2.\n",
      "[W 2024-04-08 23:25:50,994] Param momentum unique value length is less than 2.\n"
     ]
    },
    {
     "data": {
      "text/plain": "train:   0%|          | 0/1 [00:00<?, ?it/s]",
      "application/vnd.jupyter.widget-view+json": {
       "version_major": 2,
       "version_minor": 0,
       "model_id": "52c9941808e84889bb436c9518409856"
      }
     },
     "metadata": {},
     "output_type": "display_data"
    },
    {
     "data": {
      "text/plain": "eval:   0%|          | 0/1 [00:00<?, ?it/s]",
      "application/vnd.jupyter.widget-view+json": {
       "version_major": 2,
       "version_minor": 0,
       "model_id": "b9a73cc95f7a4f868ddad77230fdfc72"
      }
     },
     "metadata": {},
     "output_type": "display_data"
    },
    {
     "name": "stderr",
     "output_type": "stream",
     "text": [
      "[W 2024-04-08 23:26:10,885] Trial 1 failed with parameters: {'checkpoint': 'whisper-tiny', 'use_augment': True, 'lr': 4.754390426567961e-05, 'momentum': 0.13210065296932683, 'grad_clip': False} because of the following error: AttributeError('Caught AttributeError in DataLoader worker process 0.\\nOriginal Traceback (most recent call last):\\n  File \"C:\\\\Users\\\\bsvja\\\\anaconda3\\\\envs\\\\pythonProject\\\\lib\\\\site-packages\\\\torch\\\\utils\\\\data\\\\_utils\\\\worker.py\", line 308, in _worker_loop\\n    data = fetcher.fetch(index)\\n  File \"C:\\\\Users\\\\bsvja\\\\anaconda3\\\\envs\\\\pythonProject\\\\lib\\\\site-packages\\\\torch\\\\utils\\\\data\\\\_utils\\\\fetch.py\", line 54, in fetch\\n    return self.collate_fn(data)\\n  File \"C:\\\\Users\\\\bsvja\\\\PycharmProjects\\\\MangoDemo\\\\mangoPURE\\\\models\\\\collators.py\", line 71, in __call__\\n    batch = Whisper.extract_features(self.feature_extractor, [x.audio for x in batch_list])\\n  File \"C:\\\\Users\\\\bsvja\\\\PycharmProjects\\\\MangoDemo\\\\mangoPURE\\\\models\\\\collators.py\", line 71, in <listcomp>\\n    batch = Whisper.extract_features(self.feature_extractor, [x.audio for x in batch_list])\\nAttributeError: \\'Tensor\\' object has no attribute \\'audio\\'\\n').\n",
      "Traceback (most recent call last):\n",
      "  File \"C:\\Users\\bsvja\\anaconda3\\envs\\pythonProject\\lib\\site-packages\\optuna\\study\\_optimize.py\", line 200, in _run_trial\n",
      "    value_or_values = func(trial)\n",
      "  File \"C:\\Users\\bsvja\\AppData\\Local\\Temp\\ipykernel_5488\\4144481499.py\", line 76, in objective\n",
      "    trainer.train(1, None)\n",
      "  File \"C:\\Users\\bsvja\\PycharmProjects\\MangoDemo\\mango\\training\\MangoTrainer.py\", line 134, in train\n",
      "    train_outputs = self.train_iteration(epoch)\n",
      "  File \"C:\\Users\\bsvja\\PycharmProjects\\MangoDemo\\mango\\training\\MangoTrainer.py\", line 223, in train_iteration\n",
      "    for i, batch in enumerate(self.train_loader):\n",
      "  File \"C:\\Users\\bsvja\\anaconda3\\envs\\pythonProject\\lib\\site-packages\\accelerate\\data_loader.py\", line 448, in __iter__\n",
      "    current_batch = next(dataloader_iter)\n",
      "  File \"C:\\Users\\bsvja\\anaconda3\\envs\\pythonProject\\lib\\site-packages\\torch\\utils\\data\\dataloader.py\", line 630, in __next__\n",
      "    data = self._next_data()\n",
      "  File \"C:\\Users\\bsvja\\anaconda3\\envs\\pythonProject\\lib\\site-packages\\torch\\utils\\data\\dataloader.py\", line 1345, in _next_data\n",
      "    return self._process_data(data)\n",
      "  File \"C:\\Users\\bsvja\\anaconda3\\envs\\pythonProject\\lib\\site-packages\\torch\\utils\\data\\dataloader.py\", line 1371, in _process_data\n",
      "    data.reraise()\n",
      "  File \"C:\\Users\\bsvja\\anaconda3\\envs\\pythonProject\\lib\\site-packages\\torch\\_utils.py\", line 694, in reraise\n",
      "    raise exception\n",
      "AttributeError: Caught AttributeError in DataLoader worker process 0.\n",
      "Original Traceback (most recent call last):\n",
      "  File \"C:\\Users\\bsvja\\anaconda3\\envs\\pythonProject\\lib\\site-packages\\torch\\utils\\data\\_utils\\worker.py\", line 308, in _worker_loop\n",
      "    data = fetcher.fetch(index)\n",
      "  File \"C:\\Users\\bsvja\\anaconda3\\envs\\pythonProject\\lib\\site-packages\\torch\\utils\\data\\_utils\\fetch.py\", line 54, in fetch\n",
      "    return self.collate_fn(data)\n",
      "  File \"C:\\Users\\bsvja\\PycharmProjects\\MangoDemo\\mangoPURE\\models\\collators.py\", line 71, in __call__\n",
      "    batch = Whisper.extract_features(self.feature_extractor, [x.audio for x in batch_list])\n",
      "  File \"C:\\Users\\bsvja\\PycharmProjects\\MangoDemo\\mangoPURE\\models\\collators.py\", line 71, in <listcomp>\n",
      "    batch = Whisper.extract_features(self.feature_extractor, [x.audio for x in batch_list])\n",
      "AttributeError: 'Tensor' object has no attribute 'audio'\n",
      "\n",
      "[W 2024-04-08 23:26:10,894] Trial 1 failed with value None.\n"
     ]
    },
    {
     "ename": "AttributeError",
     "evalue": "Caught AttributeError in DataLoader worker process 0.\nOriginal Traceback (most recent call last):\n  File \"C:\\Users\\bsvja\\anaconda3\\envs\\pythonProject\\lib\\site-packages\\torch\\utils\\data\\_utils\\worker.py\", line 308, in _worker_loop\n    data = fetcher.fetch(index)\n  File \"C:\\Users\\bsvja\\anaconda3\\envs\\pythonProject\\lib\\site-packages\\torch\\utils\\data\\_utils\\fetch.py\", line 54, in fetch\n    return self.collate_fn(data)\n  File \"C:\\Users\\bsvja\\PycharmProjects\\MangoDemo\\mangoPURE\\models\\collators.py\", line 71, in __call__\n    batch = Whisper.extract_features(self.feature_extractor, [x.audio for x in batch_list])\n  File \"C:\\Users\\bsvja\\PycharmProjects\\MangoDemo\\mangoPURE\\models\\collators.py\", line 71, in <listcomp>\n    batch = Whisper.extract_features(self.feature_extractor, [x.audio for x in batch_list])\nAttributeError: 'Tensor' object has no attribute 'audio'\n",
     "output_type": "error",
     "traceback": [
      "\u001B[1;31m---------------------------------------------------------------------------\u001B[0m",
      "\u001B[1;31mAttributeError\u001B[0m                            Traceback (most recent call last)",
      "Cell \u001B[1;32mIn[9], line 2\u001B[0m\n\u001B[0;32m      1\u001B[0m study \u001B[38;5;241m=\u001B[39m optuna\u001B[38;5;241m.\u001B[39mcreate_study(direction\u001B[38;5;241m=\u001B[39m\u001B[38;5;124m\"\u001B[39m\u001B[38;5;124mmaximize\u001B[39m\u001B[38;5;124m\"\u001B[39m)\n\u001B[1;32m----> 2\u001B[0m \u001B[43mstudy\u001B[49m\u001B[38;5;241;43m.\u001B[39;49m\u001B[43moptimize\u001B[49m\u001B[43m(\u001B[49m\u001B[43mobjective\u001B[49m\u001B[43m,\u001B[49m\u001B[43m \u001B[49m\u001B[43mn_trials\u001B[49m\u001B[38;5;241;43m=\u001B[39;49m\u001B[38;5;241;43m100\u001B[39;49m\u001B[43m,\u001B[49m\u001B[43m \u001B[49m\u001B[43mcallbacks\u001B[49m\u001B[38;5;241;43m=\u001B[39;49m\u001B[43m[\u001B[49m\u001B[43mneptune_callback\u001B[49m\u001B[43m]\u001B[49m\u001B[43m)\u001B[49m\n",
      "File \u001B[1;32m~\\anaconda3\\envs\\pythonProject\\lib\\site-packages\\optuna\\study\\study.py:451\u001B[0m, in \u001B[0;36mStudy.optimize\u001B[1;34m(self, func, n_trials, timeout, n_jobs, catch, callbacks, gc_after_trial, show_progress_bar)\u001B[0m\n\u001B[0;32m    348\u001B[0m \u001B[38;5;28;01mdef\u001B[39;00m \u001B[38;5;21moptimize\u001B[39m(\n\u001B[0;32m    349\u001B[0m     \u001B[38;5;28mself\u001B[39m,\n\u001B[0;32m    350\u001B[0m     func: ObjectiveFuncType,\n\u001B[1;32m   (...)\u001B[0m\n\u001B[0;32m    357\u001B[0m     show_progress_bar: \u001B[38;5;28mbool\u001B[39m \u001B[38;5;241m=\u001B[39m \u001B[38;5;28;01mFalse\u001B[39;00m,\n\u001B[0;32m    358\u001B[0m ) \u001B[38;5;241m-\u001B[39m\u001B[38;5;241m>\u001B[39m \u001B[38;5;28;01mNone\u001B[39;00m:\n\u001B[0;32m    359\u001B[0m \u001B[38;5;250m    \u001B[39m\u001B[38;5;124;03m\"\"\"Optimize an objective function.\u001B[39;00m\n\u001B[0;32m    360\u001B[0m \n\u001B[0;32m    361\u001B[0m \u001B[38;5;124;03m    Optimization is done by choosing a suitable set of hyperparameter values from a given\u001B[39;00m\n\u001B[1;32m   (...)\u001B[0m\n\u001B[0;32m    449\u001B[0m \u001B[38;5;124;03m            If nested invocation of this method occurs.\u001B[39;00m\n\u001B[0;32m    450\u001B[0m \u001B[38;5;124;03m    \"\"\"\u001B[39;00m\n\u001B[1;32m--> 451\u001B[0m     \u001B[43m_optimize\u001B[49m\u001B[43m(\u001B[49m\n\u001B[0;32m    452\u001B[0m \u001B[43m        \u001B[49m\u001B[43mstudy\u001B[49m\u001B[38;5;241;43m=\u001B[39;49m\u001B[38;5;28;43mself\u001B[39;49m\u001B[43m,\u001B[49m\n\u001B[0;32m    453\u001B[0m \u001B[43m        \u001B[49m\u001B[43mfunc\u001B[49m\u001B[38;5;241;43m=\u001B[39;49m\u001B[43mfunc\u001B[49m\u001B[43m,\u001B[49m\n\u001B[0;32m    454\u001B[0m \u001B[43m        \u001B[49m\u001B[43mn_trials\u001B[49m\u001B[38;5;241;43m=\u001B[39;49m\u001B[43mn_trials\u001B[49m\u001B[43m,\u001B[49m\n\u001B[0;32m    455\u001B[0m \u001B[43m        \u001B[49m\u001B[43mtimeout\u001B[49m\u001B[38;5;241;43m=\u001B[39;49m\u001B[43mtimeout\u001B[49m\u001B[43m,\u001B[49m\n\u001B[0;32m    456\u001B[0m \u001B[43m        \u001B[49m\u001B[43mn_jobs\u001B[49m\u001B[38;5;241;43m=\u001B[39;49m\u001B[43mn_jobs\u001B[49m\u001B[43m,\u001B[49m\n\u001B[0;32m    457\u001B[0m \u001B[43m        \u001B[49m\u001B[43mcatch\u001B[49m\u001B[38;5;241;43m=\u001B[39;49m\u001B[38;5;28;43mtuple\u001B[39;49m\u001B[43m(\u001B[49m\u001B[43mcatch\u001B[49m\u001B[43m)\u001B[49m\u001B[43m \u001B[49m\u001B[38;5;28;43;01mif\u001B[39;49;00m\u001B[43m \u001B[49m\u001B[38;5;28;43misinstance\u001B[39;49m\u001B[43m(\u001B[49m\u001B[43mcatch\u001B[49m\u001B[43m,\u001B[49m\u001B[43m \u001B[49m\u001B[43mIterable\u001B[49m\u001B[43m)\u001B[49m\u001B[43m \u001B[49m\u001B[38;5;28;43;01melse\u001B[39;49;00m\u001B[43m \u001B[49m\u001B[43m(\u001B[49m\u001B[43mcatch\u001B[49m\u001B[43m,\u001B[49m\u001B[43m)\u001B[49m\u001B[43m,\u001B[49m\n\u001B[0;32m    458\u001B[0m \u001B[43m        \u001B[49m\u001B[43mcallbacks\u001B[49m\u001B[38;5;241;43m=\u001B[39;49m\u001B[43mcallbacks\u001B[49m\u001B[43m,\u001B[49m\n\u001B[0;32m    459\u001B[0m \u001B[43m        \u001B[49m\u001B[43mgc_after_trial\u001B[49m\u001B[38;5;241;43m=\u001B[39;49m\u001B[43mgc_after_trial\u001B[49m\u001B[43m,\u001B[49m\n\u001B[0;32m    460\u001B[0m \u001B[43m        \u001B[49m\u001B[43mshow_progress_bar\u001B[49m\u001B[38;5;241;43m=\u001B[39;49m\u001B[43mshow_progress_bar\u001B[49m\u001B[43m,\u001B[49m\n\u001B[0;32m    461\u001B[0m \u001B[43m    \u001B[49m\u001B[43m)\u001B[49m\n",
      "File \u001B[1;32m~\\anaconda3\\envs\\pythonProject\\lib\\site-packages\\optuna\\study\\_optimize.py:66\u001B[0m, in \u001B[0;36m_optimize\u001B[1;34m(study, func, n_trials, timeout, n_jobs, catch, callbacks, gc_after_trial, show_progress_bar)\u001B[0m\n\u001B[0;32m     64\u001B[0m \u001B[38;5;28;01mtry\u001B[39;00m:\n\u001B[0;32m     65\u001B[0m     \u001B[38;5;28;01mif\u001B[39;00m n_jobs \u001B[38;5;241m==\u001B[39m \u001B[38;5;241m1\u001B[39m:\n\u001B[1;32m---> 66\u001B[0m         \u001B[43m_optimize_sequential\u001B[49m\u001B[43m(\u001B[49m\n\u001B[0;32m     67\u001B[0m \u001B[43m            \u001B[49m\u001B[43mstudy\u001B[49m\u001B[43m,\u001B[49m\n\u001B[0;32m     68\u001B[0m \u001B[43m            \u001B[49m\u001B[43mfunc\u001B[49m\u001B[43m,\u001B[49m\n\u001B[0;32m     69\u001B[0m \u001B[43m            \u001B[49m\u001B[43mn_trials\u001B[49m\u001B[43m,\u001B[49m\n\u001B[0;32m     70\u001B[0m \u001B[43m            \u001B[49m\u001B[43mtimeout\u001B[49m\u001B[43m,\u001B[49m\n\u001B[0;32m     71\u001B[0m \u001B[43m            \u001B[49m\u001B[43mcatch\u001B[49m\u001B[43m,\u001B[49m\n\u001B[0;32m     72\u001B[0m \u001B[43m            \u001B[49m\u001B[43mcallbacks\u001B[49m\u001B[43m,\u001B[49m\n\u001B[0;32m     73\u001B[0m \u001B[43m            \u001B[49m\u001B[43mgc_after_trial\u001B[49m\u001B[43m,\u001B[49m\n\u001B[0;32m     74\u001B[0m \u001B[43m            \u001B[49m\u001B[43mreseed_sampler_rng\u001B[49m\u001B[38;5;241;43m=\u001B[39;49m\u001B[38;5;28;43;01mFalse\u001B[39;49;00m\u001B[43m,\u001B[49m\n\u001B[0;32m     75\u001B[0m \u001B[43m            \u001B[49m\u001B[43mtime_start\u001B[49m\u001B[38;5;241;43m=\u001B[39;49m\u001B[38;5;28;43;01mNone\u001B[39;49;00m\u001B[43m,\u001B[49m\n\u001B[0;32m     76\u001B[0m \u001B[43m            \u001B[49m\u001B[43mprogress_bar\u001B[49m\u001B[38;5;241;43m=\u001B[39;49m\u001B[43mprogress_bar\u001B[49m\u001B[43m,\u001B[49m\n\u001B[0;32m     77\u001B[0m \u001B[43m        \u001B[49m\u001B[43m)\u001B[49m\n\u001B[0;32m     78\u001B[0m     \u001B[38;5;28;01melse\u001B[39;00m:\n\u001B[0;32m     79\u001B[0m         \u001B[38;5;28;01mif\u001B[39;00m n_jobs \u001B[38;5;241m==\u001B[39m \u001B[38;5;241m-\u001B[39m\u001B[38;5;241m1\u001B[39m:\n",
      "File \u001B[1;32m~\\anaconda3\\envs\\pythonProject\\lib\\site-packages\\optuna\\study\\_optimize.py:163\u001B[0m, in \u001B[0;36m_optimize_sequential\u001B[1;34m(study, func, n_trials, timeout, catch, callbacks, gc_after_trial, reseed_sampler_rng, time_start, progress_bar)\u001B[0m\n\u001B[0;32m    160\u001B[0m         \u001B[38;5;28;01mbreak\u001B[39;00m\n\u001B[0;32m    162\u001B[0m \u001B[38;5;28;01mtry\u001B[39;00m:\n\u001B[1;32m--> 163\u001B[0m     frozen_trial \u001B[38;5;241m=\u001B[39m \u001B[43m_run_trial\u001B[49m\u001B[43m(\u001B[49m\u001B[43mstudy\u001B[49m\u001B[43m,\u001B[49m\u001B[43m \u001B[49m\u001B[43mfunc\u001B[49m\u001B[43m,\u001B[49m\u001B[43m \u001B[49m\u001B[43mcatch\u001B[49m\u001B[43m)\u001B[49m\n\u001B[0;32m    164\u001B[0m \u001B[38;5;28;01mfinally\u001B[39;00m:\n\u001B[0;32m    165\u001B[0m     \u001B[38;5;66;03m# The following line mitigates memory problems that can be occurred in some\u001B[39;00m\n\u001B[0;32m    166\u001B[0m     \u001B[38;5;66;03m# environments (e.g., services that use computing containers such as GitHub Actions).\u001B[39;00m\n\u001B[0;32m    167\u001B[0m     \u001B[38;5;66;03m# Please refer to the following PR for further details:\u001B[39;00m\n\u001B[0;32m    168\u001B[0m     \u001B[38;5;66;03m# https://github.com/optuna/optuna/pull/325.\u001B[39;00m\n\u001B[0;32m    169\u001B[0m     \u001B[38;5;28;01mif\u001B[39;00m gc_after_trial:\n",
      "File \u001B[1;32m~\\anaconda3\\envs\\pythonProject\\lib\\site-packages\\optuna\\study\\_optimize.py:251\u001B[0m, in \u001B[0;36m_run_trial\u001B[1;34m(study, func, catch)\u001B[0m\n\u001B[0;32m    244\u001B[0m         \u001B[38;5;28;01massert\u001B[39;00m \u001B[38;5;28;01mFalse\u001B[39;00m, \u001B[38;5;124m\"\u001B[39m\u001B[38;5;124mShould not reach.\u001B[39m\u001B[38;5;124m\"\u001B[39m\n\u001B[0;32m    246\u001B[0m \u001B[38;5;28;01mif\u001B[39;00m (\n\u001B[0;32m    247\u001B[0m     frozen_trial\u001B[38;5;241m.\u001B[39mstate \u001B[38;5;241m==\u001B[39m TrialState\u001B[38;5;241m.\u001B[39mFAIL\n\u001B[0;32m    248\u001B[0m     \u001B[38;5;129;01mand\u001B[39;00m func_err \u001B[38;5;129;01mis\u001B[39;00m \u001B[38;5;129;01mnot\u001B[39;00m \u001B[38;5;28;01mNone\u001B[39;00m\n\u001B[0;32m    249\u001B[0m     \u001B[38;5;129;01mand\u001B[39;00m \u001B[38;5;129;01mnot\u001B[39;00m \u001B[38;5;28misinstance\u001B[39m(func_err, catch)\n\u001B[0;32m    250\u001B[0m ):\n\u001B[1;32m--> 251\u001B[0m     \u001B[38;5;28;01mraise\u001B[39;00m func_err\n\u001B[0;32m    252\u001B[0m \u001B[38;5;28;01mreturn\u001B[39;00m frozen_trial\n",
      "File \u001B[1;32m~\\anaconda3\\envs\\pythonProject\\lib\\site-packages\\optuna\\study\\_optimize.py:200\u001B[0m, in \u001B[0;36m_run_trial\u001B[1;34m(study, func, catch)\u001B[0m\n\u001B[0;32m    198\u001B[0m \u001B[38;5;28;01mwith\u001B[39;00m get_heartbeat_thread(trial\u001B[38;5;241m.\u001B[39m_trial_id, study\u001B[38;5;241m.\u001B[39m_storage):\n\u001B[0;32m    199\u001B[0m     \u001B[38;5;28;01mtry\u001B[39;00m:\n\u001B[1;32m--> 200\u001B[0m         value_or_values \u001B[38;5;241m=\u001B[39m \u001B[43mfunc\u001B[49m\u001B[43m(\u001B[49m\u001B[43mtrial\u001B[49m\u001B[43m)\u001B[49m\n\u001B[0;32m    201\u001B[0m     \u001B[38;5;28;01mexcept\u001B[39;00m exceptions\u001B[38;5;241m.\u001B[39mTrialPruned \u001B[38;5;28;01mas\u001B[39;00m e:\n\u001B[0;32m    202\u001B[0m         \u001B[38;5;66;03m# TODO(mamu): Handle multi-objective cases.\u001B[39;00m\n\u001B[0;32m    203\u001B[0m         state \u001B[38;5;241m=\u001B[39m TrialState\u001B[38;5;241m.\u001B[39mPRUNED\n",
      "Cell \u001B[1;32mIn[6], line 76\u001B[0m, in \u001B[0;36mobjective\u001B[1;34m(trial)\u001B[0m\n\u001B[0;32m     60\u001B[0m scheduler \u001B[38;5;241m=\u001B[39m torch\u001B[38;5;241m.\u001B[39moptim\u001B[38;5;241m.\u001B[39mlr_scheduler\u001B[38;5;241m.\u001B[39mCyclicLR(optim, base_lr\u001B[38;5;241m=\u001B[39mparam[\u001B[38;5;124m'\u001B[39m\u001B[38;5;124mlr\u001B[39m\u001B[38;5;124m'\u001B[39m], max_lr\u001B[38;5;241m=\u001B[39mparam[\u001B[38;5;124m'\u001B[39m\u001B[38;5;124mlr\u001B[39m\u001B[38;5;124m'\u001B[39m] \u001B[38;5;241m*\u001B[39m \u001B[38;5;241m10\u001B[39m, mode\u001B[38;5;241m=\u001B[39m\u001B[38;5;124m'\u001B[39m\u001B[38;5;124mexp_range\u001B[39m\u001B[38;5;124m'\u001B[39m,\n\u001B[0;32m     61\u001B[0m                                               gamma\u001B[38;5;241m=\u001B[39mparam[\u001B[38;5;124m'\u001B[39m\u001B[38;5;124mmomentum\u001B[39m\u001B[38;5;124m'\u001B[39m], cycle_momentum\u001B[38;5;241m=\u001B[39m\u001B[38;5;28;01mFalse\u001B[39;00m,\n\u001B[0;32m     62\u001B[0m                                               step_size_up\u001B[38;5;241m=\u001B[39m\u001B[38;5;28mint\u001B[39m(\u001B[38;5;28mlen\u001B[39m(train_loader) \u001B[38;5;241m*\u001B[39m \u001B[38;5;241m1.75\u001B[39m),\n\u001B[0;32m     63\u001B[0m                                               step_size_down\u001B[38;5;241m=\u001B[39m\u001B[38;5;28mint\u001B[39m(\u001B[38;5;28mlen\u001B[39m(train_loader) \u001B[38;5;241m*\u001B[39m \u001B[38;5;241m1.25\u001B[39m))\n\u001B[0;32m     65\u001B[0m trainer \u001B[38;5;241m=\u001B[39m MangoTrainer(\n\u001B[0;32m     66\u001B[0m     model,\n\u001B[0;32m     67\u001B[0m     train_loader,\n\u001B[1;32m   (...)\u001B[0m\n\u001B[0;32m     73\u001B[0m     trackers\u001B[38;5;241m=\u001B[39m[]\n\u001B[0;32m     74\u001B[0m )\n\u001B[1;32m---> 76\u001B[0m \u001B[43mtrainer\u001B[49m\u001B[38;5;241;43m.\u001B[39;49m\u001B[43mtrain\u001B[49m\u001B[43m(\u001B[49m\u001B[38;5;241;43m1\u001B[39;49m\u001B[43m,\u001B[49m\u001B[43m \u001B[49m\u001B[38;5;28;43;01mNone\u001B[39;49;00m\u001B[43m)\u001B[49m\n\u001B[0;32m     78\u001B[0m eval_output \u001B[38;5;241m=\u001B[39m trainer\u001B[38;5;241m.\u001B[39meval_iteration(\u001B[38;5;241m1\u001B[39m)\n\u001B[0;32m     80\u001B[0m \u001B[38;5;28;01mreturn\u001B[39;00m ClassificationAccuracy()(eval_output)[\u001B[38;5;124m'\u001B[39m\u001B[38;5;124maccuracy\u001B[39m\u001B[38;5;124m'\u001B[39m]\n",
      "File \u001B[1;32m~\\PycharmProjects\\MangoDemo\\mango\\training\\MangoTrainer.py:134\u001B[0m, in \u001B[0;36mMangoTrainer.train\u001B[1;34m(self, num_epochs, compute_metrics)\u001B[0m\n\u001B[0;32m    131\u001B[0m \u001B[38;5;28;01mfor\u001B[39;00m epoch \u001B[38;5;129;01min\u001B[39;00m \u001B[38;5;28mrange\u001B[39m(num_epochs):\n\u001B[0;32m    132\u001B[0m     \u001B[38;5;28mself\u001B[39m\u001B[38;5;241m.\u001B[39mepoch \u001B[38;5;241m=\u001B[39m epoch\n\u001B[1;32m--> 134\u001B[0m     train_outputs \u001B[38;5;241m=\u001B[39m \u001B[38;5;28;43mself\u001B[39;49m\u001B[38;5;241;43m.\u001B[39;49m\u001B[43mtrain_iteration\u001B[49m\u001B[43m(\u001B[49m\u001B[43mepoch\u001B[49m\u001B[43m)\u001B[49m\n\u001B[0;32m    136\u001B[0m     train_losses\u001B[38;5;241m.\u001B[39mappend(np\u001B[38;5;241m.\u001B[39mmean(train_outputs\u001B[38;5;241m.\u001B[39mlosses))\n\u001B[0;32m    137\u001B[0m     \u001B[38;5;28;01mif\u001B[39;00m \u001B[38;5;28mself\u001B[39m\u001B[38;5;241m.\u001B[39mconfig\u001B[38;5;241m.\u001B[39mearly_stopping_patience \u001B[38;5;129;01mis\u001B[39;00m \u001B[38;5;129;01mnot\u001B[39;00m \u001B[38;5;28;01mNone\u001B[39;00m:\n",
      "File \u001B[1;32m~\\PycharmProjects\\MangoDemo\\mango\\training\\MangoTrainer.py:223\u001B[0m, in \u001B[0;36mMangoTrainer.train_iteration\u001B[1;34m(self, epoch_index)\u001B[0m\n\u001B[0;32m    220\u001B[0m train_outputs \u001B[38;5;241m=\u001B[39m {}\n\u001B[0;32m    221\u001B[0m losses \u001B[38;5;241m=\u001B[39m []\n\u001B[1;32m--> 223\u001B[0m \u001B[38;5;28;01mfor\u001B[39;00m i, batch \u001B[38;5;129;01min\u001B[39;00m \u001B[38;5;28menumerate\u001B[39m(\u001B[38;5;28mself\u001B[39m\u001B[38;5;241m.\u001B[39mtrain_loader):\n\u001B[0;32m    224\u001B[0m     \u001B[38;5;28;01mwith\u001B[39;00m \u001B[38;5;28mself\u001B[39m\u001B[38;5;241m.\u001B[39maccelerator\u001B[38;5;241m.\u001B[39maccumulate(\u001B[38;5;28mself\u001B[39m\u001B[38;5;241m.\u001B[39mmodel):\n\u001B[0;32m    225\u001B[0m         \u001B[38;5;28mself\u001B[39m\u001B[38;5;241m.\u001B[39moptimizer\u001B[38;5;241m.\u001B[39mzero_grad()\n",
      "File \u001B[1;32m~\\anaconda3\\envs\\pythonProject\\lib\\site-packages\\accelerate\\data_loader.py:448\u001B[0m, in \u001B[0;36mDataLoaderShard.__iter__\u001B[1;34m(self)\u001B[0m\n\u001B[0;32m    446\u001B[0m \u001B[38;5;66;03m# We iterate one batch ahead to check when we are at the end\u001B[39;00m\n\u001B[0;32m    447\u001B[0m \u001B[38;5;28;01mtry\u001B[39;00m:\n\u001B[1;32m--> 448\u001B[0m     current_batch \u001B[38;5;241m=\u001B[39m \u001B[38;5;28;43mnext\u001B[39;49m\u001B[43m(\u001B[49m\u001B[43mdataloader_iter\u001B[49m\u001B[43m)\u001B[49m\n\u001B[0;32m    449\u001B[0m \u001B[38;5;28;01mexcept\u001B[39;00m \u001B[38;5;167;01mStopIteration\u001B[39;00m:\n\u001B[0;32m    450\u001B[0m     \u001B[38;5;28;01myield\u001B[39;00m\n",
      "File \u001B[1;32m~\\anaconda3\\envs\\pythonProject\\lib\\site-packages\\torch\\utils\\data\\dataloader.py:630\u001B[0m, in \u001B[0;36m_BaseDataLoaderIter.__next__\u001B[1;34m(self)\u001B[0m\n\u001B[0;32m    627\u001B[0m \u001B[38;5;28;01mif\u001B[39;00m \u001B[38;5;28mself\u001B[39m\u001B[38;5;241m.\u001B[39m_sampler_iter \u001B[38;5;129;01mis\u001B[39;00m \u001B[38;5;28;01mNone\u001B[39;00m:\n\u001B[0;32m    628\u001B[0m     \u001B[38;5;66;03m# TODO(https://github.com/pytorch/pytorch/issues/76750)\u001B[39;00m\n\u001B[0;32m    629\u001B[0m     \u001B[38;5;28mself\u001B[39m\u001B[38;5;241m.\u001B[39m_reset()  \u001B[38;5;66;03m# type: ignore[call-arg]\u001B[39;00m\n\u001B[1;32m--> 630\u001B[0m data \u001B[38;5;241m=\u001B[39m \u001B[38;5;28;43mself\u001B[39;49m\u001B[38;5;241;43m.\u001B[39;49m\u001B[43m_next_data\u001B[49m\u001B[43m(\u001B[49m\u001B[43m)\u001B[49m\n\u001B[0;32m    631\u001B[0m \u001B[38;5;28mself\u001B[39m\u001B[38;5;241m.\u001B[39m_num_yielded \u001B[38;5;241m+\u001B[39m\u001B[38;5;241m=\u001B[39m \u001B[38;5;241m1\u001B[39m\n\u001B[0;32m    632\u001B[0m \u001B[38;5;28;01mif\u001B[39;00m \u001B[38;5;28mself\u001B[39m\u001B[38;5;241m.\u001B[39m_dataset_kind \u001B[38;5;241m==\u001B[39m _DatasetKind\u001B[38;5;241m.\u001B[39mIterable \u001B[38;5;129;01mand\u001B[39;00m \\\n\u001B[0;32m    633\u001B[0m         \u001B[38;5;28mself\u001B[39m\u001B[38;5;241m.\u001B[39m_IterableDataset_len_called \u001B[38;5;129;01mis\u001B[39;00m \u001B[38;5;129;01mnot\u001B[39;00m \u001B[38;5;28;01mNone\u001B[39;00m \u001B[38;5;129;01mand\u001B[39;00m \\\n\u001B[0;32m    634\u001B[0m         \u001B[38;5;28mself\u001B[39m\u001B[38;5;241m.\u001B[39m_num_yielded \u001B[38;5;241m>\u001B[39m \u001B[38;5;28mself\u001B[39m\u001B[38;5;241m.\u001B[39m_IterableDataset_len_called:\n",
      "File \u001B[1;32m~\\anaconda3\\envs\\pythonProject\\lib\\site-packages\\torch\\utils\\data\\dataloader.py:1345\u001B[0m, in \u001B[0;36m_MultiProcessingDataLoaderIter._next_data\u001B[1;34m(self)\u001B[0m\n\u001B[0;32m   1343\u001B[0m \u001B[38;5;28;01melse\u001B[39;00m:\n\u001B[0;32m   1344\u001B[0m     \u001B[38;5;28;01mdel\u001B[39;00m \u001B[38;5;28mself\u001B[39m\u001B[38;5;241m.\u001B[39m_task_info[idx]\n\u001B[1;32m-> 1345\u001B[0m     \u001B[38;5;28;01mreturn\u001B[39;00m \u001B[38;5;28;43mself\u001B[39;49m\u001B[38;5;241;43m.\u001B[39;49m\u001B[43m_process_data\u001B[49m\u001B[43m(\u001B[49m\u001B[43mdata\u001B[49m\u001B[43m)\u001B[49m\n",
      "File \u001B[1;32m~\\anaconda3\\envs\\pythonProject\\lib\\site-packages\\torch\\utils\\data\\dataloader.py:1371\u001B[0m, in \u001B[0;36m_MultiProcessingDataLoaderIter._process_data\u001B[1;34m(self, data)\u001B[0m\n\u001B[0;32m   1369\u001B[0m \u001B[38;5;28mself\u001B[39m\u001B[38;5;241m.\u001B[39m_try_put_index()\n\u001B[0;32m   1370\u001B[0m \u001B[38;5;28;01mif\u001B[39;00m \u001B[38;5;28misinstance\u001B[39m(data, ExceptionWrapper):\n\u001B[1;32m-> 1371\u001B[0m     \u001B[43mdata\u001B[49m\u001B[38;5;241;43m.\u001B[39;49m\u001B[43mreraise\u001B[49m\u001B[43m(\u001B[49m\u001B[43m)\u001B[49m\n\u001B[0;32m   1372\u001B[0m \u001B[38;5;28;01mreturn\u001B[39;00m data\n",
      "File \u001B[1;32m~\\anaconda3\\envs\\pythonProject\\lib\\site-packages\\torch\\_utils.py:694\u001B[0m, in \u001B[0;36mExceptionWrapper.reraise\u001B[1;34m(self)\u001B[0m\n\u001B[0;32m    690\u001B[0m \u001B[38;5;28;01mexcept\u001B[39;00m \u001B[38;5;167;01mTypeError\u001B[39;00m:\n\u001B[0;32m    691\u001B[0m     \u001B[38;5;66;03m# If the exception takes multiple arguments, don't try to\u001B[39;00m\n\u001B[0;32m    692\u001B[0m     \u001B[38;5;66;03m# instantiate since we don't know how to\u001B[39;00m\n\u001B[0;32m    693\u001B[0m     \u001B[38;5;28;01mraise\u001B[39;00m \u001B[38;5;167;01mRuntimeError\u001B[39;00m(msg) \u001B[38;5;28;01mfrom\u001B[39;00m \u001B[38;5;28;01mNone\u001B[39;00m\n\u001B[1;32m--> 694\u001B[0m \u001B[38;5;28;01mraise\u001B[39;00m exception\n",
      "\u001B[1;31mAttributeError\u001B[0m: Caught AttributeError in DataLoader worker process 0.\nOriginal Traceback (most recent call last):\n  File \"C:\\Users\\bsvja\\anaconda3\\envs\\pythonProject\\lib\\site-packages\\torch\\utils\\data\\_utils\\worker.py\", line 308, in _worker_loop\n    data = fetcher.fetch(index)\n  File \"C:\\Users\\bsvja\\anaconda3\\envs\\pythonProject\\lib\\site-packages\\torch\\utils\\data\\_utils\\fetch.py\", line 54, in fetch\n    return self.collate_fn(data)\n  File \"C:\\Users\\bsvja\\PycharmProjects\\MangoDemo\\mangoPURE\\models\\collators.py\", line 71, in __call__\n    batch = Whisper.extract_features(self.feature_extractor, [x.audio for x in batch_list])\n  File \"C:\\Users\\bsvja\\PycharmProjects\\MangoDemo\\mangoPURE\\models\\collators.py\", line 71, in <listcomp>\n    batch = Whisper.extract_features(self.feature_extractor, [x.audio for x in batch_list])\nAttributeError: 'Tensor' object has no attribute 'audio'\n"
     ]
    }
   ],
   "source": [
    "study = optuna.create_study(direction=\"maximize\")\n",
    "study.optimize(objective, n_trials=100, callbacks=[neptune_callback])"
   ],
   "metadata": {
    "collapsed": false,
    "ExecuteTime": {
     "end_time": "2024-04-08T20:26:14.408290400Z",
     "start_time": "2024-04-08T20:24:15.917262500Z"
    }
   },
   "id": "e45fc6585325651c"
  },
  {
   "cell_type": "code",
   "execution_count": null,
   "outputs": [],
   "source": [
    "checkpoint_to_batch"
   ],
   "metadata": {
    "collapsed": false,
    "ExecuteTime": {
     "end_time": "2024-04-08T20:26:14.424293200Z",
     "start_time": "2024-04-08T20:26:14.410291800Z"
    }
   },
   "id": "54fb6463816e218d"
  },
  {
   "cell_type": "code",
   "execution_count": 11,
   "outputs": [],
   "source": [
    "a, b = get_data({'use_augment': True})"
   ],
   "metadata": {
    "collapsed": false,
    "ExecuteTime": {
     "end_time": "2024-04-08T20:28:21.243905600Z",
     "start_time": "2024-04-08T20:28:21.229894500Z"
    }
   },
   "id": "dfc386f37d61d1e2"
  },
  {
   "cell_type": "code",
   "execution_count": 15,
   "outputs": [
    {
     "data": {
      "text/plain": "tensor([-0.0047, -0.0114, -0.0097,  ..., -0.0171, -0.0185, -0.0091])"
     },
     "execution_count": 15,
     "metadata": {},
     "output_type": "execute_result"
    }
   ],
   "source": [
    "a.mixer.generate()"
   ],
   "metadata": {
    "collapsed": false,
    "ExecuteTime": {
     "end_time": "2024-04-08T20:28:39.949241400Z",
     "start_time": "2024-04-08T20:28:39.821243700Z"
    }
   },
   "id": "f1e407dc98b5a811"
  },
  {
   "cell_type": "code",
   "execution_count": null,
   "outputs": [],
   "source": [],
   "metadata": {
    "collapsed": false
   },
   "id": "4b1527b861371712"
  }
 ],
 "metadata": {
  "kernelspec": {
   "display_name": "Python 3",
   "language": "python",
   "name": "python3"
  },
  "language_info": {
   "codemirror_mode": {
    "name": "ipython",
    "version": 2
   },
   "file_extension": ".py",
   "mimetype": "text/x-python",
   "name": "python",
   "nbconvert_exporter": "python",
   "pygments_lexer": "ipython2",
   "version": "2.7.6"
  }
 },
 "nbformat": 4,
 "nbformat_minor": 5
}
