{
 "cells": [
  {
   "cell_type": "code",
   "execution_count": 1,
   "outputs": [],
   "source": [
    "from mango.diarization import EENDDiarizer, EENDConfig"
   ],
   "metadata": {
    "collapsed": false,
    "ExecuteTime": {
     "end_time": "2024-02-05T17:16:22.417919Z",
     "start_time": "2024-02-05T17:16:20.627495Z"
    }
   },
   "id": "4acff7cad17c163c"
  },
  {
   "cell_type": "code",
   "execution_count": 2,
   "outputs": [],
   "source": [
    "diarizer = EENDDiarizer(EENDConfig(hf_api_model_path='anakib1/eend-sa',\n",
    "                                   hf_api_model_name='model.pt',\n",
    "                                   hf_api_processor_path='openai/whisper-small',\n",
    "                                   max_num_speakers=3))"
   ],
   "metadata": {
    "collapsed": false,
    "ExecuteTime": {
     "end_time": "2024-02-05T17:16:23.150071Z",
     "start_time": "2024-02-05T17:16:22.418679Z"
    }
   },
   "id": "f2233f9d343a851"
  },
  {
   "cell_type": "code",
   "execution_count": 3,
   "outputs": [
    {
     "name": "stderr",
     "output_type": "stream",
     "text": [
      "/Users/sviatoslavbidzilia/PycharmProjects/MangoDemo/mango/diarization.py:81: UserWarning: To copy construct from a tensor, it is recommended to use sourceTensor.clone().detach() or sourceTensor.clone().detach().requires_grad_(True), rather than torch.tensor(sourceTensor).\n",
      "  waveform = torchaudio.transforms.Resample(sr, 16_000)(torch.tensor(waveform, dtype=torch.float))\n"
     ]
    },
    {
     "data": {
      "text/plain": "<Figure size 640x480 with 1 Axes>",
      "image/png": "[encoded data removed]"
     },
     "metadata": {},
     "output_type": "display_data"
    }
   ],
   "source": [
    "import torchaudio \n",
    "import torch\n",
    "from mango.utils.diarization import draw_diarization\n",
    "audio, sr = torch.randn(16_000*15), 16_000\n",
    "model_output = diarizer.diarize(audio, sr)\n",
    "\n",
    "pic = draw_diarization(model_output)"
   ],
   "metadata": {
    "collapsed": false,
    "ExecuteTime": {
     "end_time": "2024-02-05T17:16:23.456890Z",
     "start_time": "2024-02-05T17:16:23.151633Z"
    }
   },
   "id": "813edbcb19e13a03"
  },
  {
   "cell_type": "code",
   "outputs": [],
   "source": [],
   "metadata": {
    "collapsed": false,
    "ExecuteTime": {
     "start_time": "2024-02-05T17:16:24.672788Z"
    }
   },
   "id": "cd697a6862d89ac4"
  }
 ],
 "metadata": {
  "kernelspec": {
   "display_name": "Python 3",
   "language": "python",
   "name": "python3"
  },
  "language_info": {
   "codemirror_mode": {
    "name": "ipython",
    "version": 2
   },
   "file_extension": ".py",
   "mimetype": "text/x-python",
   "name": "python",
   "nbconvert_exporter": "python",
   "pygments_lexer": "ipython2",
   "version": "2.7.6"
  }
 },
 "nbformat": 4,
 "nbformat_minor": 5
}
