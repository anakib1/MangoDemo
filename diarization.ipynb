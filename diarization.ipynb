{
 "cells": [
  {
   "cell_type": "code",
   "execution_count": 1,
   "outputs": [],
   "source": [
    "from mango.diarization import WhisperBasedDiarizationConfig, WhisperDiarizer, draw_diarization"
   ],
   "metadata": {
    "collapsed": false,
    "ExecuteTime": {
     "end_time": "2024-01-23T18:46:55.621721600Z",
     "start_time": "2024-01-23T18:46:49.243699Z"
    }
   },
   "id": "4acff7cad17c163c"
  },
  {
   "cell_type": "code",
   "execution_count": 2,
   "outputs": [],
   "source": [
    "config = WhisperBasedDiarizationConfig(frame_length_ms = 20, max_num_speakers = 3, whisper_checkpoint='anakib1/whisper-diarization-0.2', processor_checkpoint='openai/whisper-tiny')"
   ],
   "metadata": {
    "collapsed": false,
    "ExecuteTime": {
     "end_time": "2024-01-23T18:46:55.637776400Z",
     "start_time": "2024-01-23T18:46:55.623724600Z"
    }
   },
   "id": "5071319d5df52c85"
  },
  {
   "cell_type": "code",
   "execution_count": 3,
   "outputs": [],
   "source": [
    "model = WhisperDiarizer(config)"
   ],
   "metadata": {
    "collapsed": false,
    "ExecuteTime": {
     "end_time": "2024-01-23T18:46:57.348199700Z",
     "start_time": "2024-01-23T18:46:55.638782200Z"
    }
   },
   "id": "f2233f9d343a851"
  },
  {
   "cell_type": "code",
   "execution_count": 4,
   "outputs": [
    {
     "name": "stderr",
     "output_type": "stream",
     "text": [
      "C:\\Users\\bsvja\\PycharmProjects\\MangoDemo\\mango\\diarization.py:55: UserWarning: To copy construct from a tensor, it is recommended to use sourceTensor.clone().detach() or sourceTensor.clone().detach().requires_grad_(True), rather than torch.tensor(sourceTensor).\n",
      "  waveform = torchaudio.transforms.Resample(sr, 16_000)(torch.tensor(waveform))[0]\n"
     ]
    },
    {
     "data": {
      "text/plain": "<Figure size 800x400 with 1 Axes>",
      "image/png": "[encoded data removed]"
     },
     "metadata": {},
     "output_type": "display_data"
    }
   ],
   "source": [
    "import torchaudio \n",
    "audio, sr = torchaudio.load('examples/example_en.mp3')\n",
    "model_output = model.diarize(audio, sr)\n",
    "\n",
    "pic = draw_diarization(model_output)"
   ],
   "metadata": {
    "collapsed": false,
    "ExecuteTime": {
     "end_time": "2024-01-23T18:46:58.337464500Z",
     "start_time": "2024-01-23T18:46:57.349190500Z"
    }
   },
   "id": "813edbcb19e13a03"
  },
  {
   "cell_type": "code",
   "execution_count": null,
   "outputs": [],
   "source": [],
   "metadata": {
    "collapsed": false
   },
   "id": "d9450285a6b068b9"
  }
 ],
 "metadata": {
  "kernelspec": {
   "display_name": "Python 3",
   "language": "python",
   "name": "python3"
  },
  "language_info": {
   "codemirror_mode": {
    "name": "ipython",
    "version": 2
   },
   "file_extension": ".py",
   "mimetype": "text/x-python",
   "name": "python",
   "nbconvert_exporter": "python",
   "pygments_lexer": "ipython2",
   "version": "2.7.6"
  }
 },
 "nbformat": 4,
 "nbformat_minor": 5
}
