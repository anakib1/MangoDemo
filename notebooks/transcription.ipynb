{
 "cells": [
  {
   "cell_type": "code",
   "execution_count": 1,
   "id": "initial_id",
   "metadata": {
    "collapsed": true,
    "ExecuteTime": {
     "end_time": "2024-01-26T15:27:12.735266100Z",
     "start_time": "2024-01-26T15:27:05.852270900Z"
    }
   },
   "outputs": [],
   "source": [
    "from mango.transcription import WhisperTranscriptionConfig, WhisperTranscriptor"
   ]
  },
  {
   "cell_type": "code",
   "execution_count": 16,
   "outputs": [
    {
     "name": "stderr",
     "output_type": "stream",
     "text": [
      "Special tokens have been added in the vocabulary, make sure the associated word embeddings are fine-tuned or trained.\n"
     ]
    }
   ],
   "source": [
    "transcriptor = WhisperTranscriptor(WhisperTranscriptionConfig(whisper_checkpoint='anakib1/whisper-asr-0.1',\n",
    "                                                              processor_checkpoint='anakib1/whisper-asr-0.1', \n",
    "                                                              language='uk'))"
   ],
   "metadata": {
    "collapsed": false,
    "ExecuteTime": {
     "end_time": "2024-01-26T15:32:31.884031800Z",
     "start_time": "2024-01-26T15:32:29.725159200Z"
    }
   },
   "id": "e50c5a3432c4e263"
  },
  {
   "cell_type": "code",
   "execution_count": 26,
   "outputs": [
    {
     "data": {
      "text/plain": "0.0"
     },
     "execution_count": 26,
     "metadata": {},
     "output_type": "execute_result"
    }
   ],
   "source": [
    "transcriptor.whisper.config.decoder_layerdrop"
   ],
   "metadata": {
    "collapsed": false,
    "ExecuteTime": {
     "end_time": "2024-01-26T17:18:57.261259700Z",
     "start_time": "2024-01-26T17:18:57.242269Z"
    }
   },
   "id": "a304c032cbd34896"
  },
  {
   "cell_type": "code",
   "execution_count": 17,
   "outputs": [
    {
     "data": {
      "text/plain": "' Це демоаудіо, форма ірмікаціонів, що наші спільмоделі можливості були по тисківці іммістів шорома аудіон.'"
     },
     "execution_count": 17,
     "metadata": {},
     "output_type": "execute_result"
    }
   ],
   "source": [
    "import torchaudio \n",
    "audio, sr = torchaudio.load('examples/example_en.mp3')\n",
    "transcriptor.transcribe(audio[0], sr)"
   ],
   "metadata": {
    "collapsed": false,
    "ExecuteTime": {
     "end_time": "2024-01-26T15:32:41.687318400Z",
     "start_time": "2024-01-26T15:32:31.879031400Z"
    }
   },
   "id": "f95ac6e4ee61eee7"
  },
  {
   "cell_type": "code",
   "execution_count": 18,
   "outputs": [
    {
     "data": {
      "text/plain": "' Це тестава аудіозапіси для провірку з нашого модель спосібно на поїзд слов, коровчих аудіозапісях.'"
     },
     "execution_count": 18,
     "metadata": {},
     "output_type": "execute_result"
    }
   ],
   "source": [
    "transcriptor.config.language = 'uk'\n",
    "audio, sr = torchaudio.load('examples/example_ru.mp3')\n",
    "transcriptor.transcribe(audio[0], sr)"
   ],
   "metadata": {
    "collapsed": false,
    "ExecuteTime": {
     "end_time": "2024-01-26T15:32:50.886191800Z",
     "start_time": "2024-01-26T15:32:41.682317300Z"
    }
   },
   "id": "9b0aa7ef8d356864"
  }
 ],
 "metadata": {
  "kernelspec": {
   "display_name": "Python 3",
   "language": "python",
   "name": "python3"
  },
  "language_info": {
   "codemirror_mode": {
    "name": "ipython",
    "version": 2
   },
   "file_extension": ".py",
   "mimetype": "text/x-python",
   "name": "python",
   "nbconvert_exporter": "python",
   "pygments_lexer": "ipython2",
   "version": "2.7.6"
  }
 },
 "nbformat": 4,
 "nbformat_minor": 5
}
