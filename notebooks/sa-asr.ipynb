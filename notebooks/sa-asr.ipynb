{
 "cells": [
  {
   "cell_type": "code",
   "execution_count": 1,
   "outputs": [],
   "source": [
    "import os\n",
    "%load_ext autoreload\n",
    "%autoreload 2"
   ],
   "metadata": {
    "collapsed": false,
    "ExecuteTime": {
     "end_time": "2024-02-07T19:39:01.771233400Z",
     "start_time": "2024-02-07T19:39:01.683241900Z"
    }
   },
   "id": "995a3fd1f00ed1e3"
  },
  {
   "cell_type": "code",
   "execution_count": 2,
   "outputs": [],
   "source": [
    "from torch.utils.data import Dataset\n",
    "import torch\n",
    "\n",
    "\n",
    "class MockData(Dataset):\n",
    "    def __len__(self):\n",
    "        return 100\n",
    "\n",
    "    def __getitem__(self, idx):\n",
    "        return {'input_features': torch.randn(80, 3000), 'speaker_inventory': torch.randn(8, 384),\n",
    "                'target_asr_ids': torch.randint(0, 60, size=(256,)),\n",
    "                'target_diar_ids': torch.randint(0, 8, size=(256,))}\n",
    "\n",
    "\n",
    "data = MockData()\n",
    "loader = torch.utils.data.DataLoader(data, batch_size=4)"
   ],
   "metadata": {
    "collapsed": false,
    "ExecuteTime": {
     "end_time": "2024-02-07T19:39:05.174604Z",
     "start_time": "2024-02-07T19:39:01.756234900Z"
    }
   },
   "id": "ab25266b298abc41"
  },
  {
   "cell_type": "code",
   "execution_count": 3,
   "outputs": [],
   "source": [
    "batch = next(iter(loader))"
   ],
   "metadata": {
    "collapsed": false,
    "ExecuteTime": {
     "end_time": "2024-02-07T19:39:05.299601500Z",
     "start_time": "2024-02-07T19:39:05.175599600Z"
    }
   },
   "id": "67b6f2c04ee8f64d"
  },
  {
   "cell_type": "code",
   "execution_count": 2,
   "outputs": [],
   "source": [
    "from datasets import load_dataset\n",
    "from mango.utils.tokenization import retain_cyrillic\n",
    "\n",
    "cv13 = load_dataset('mozilla-foundation/common_voice_13_0', 'uk', trust_remote_code=True)\n",
    "urban = load_dataset('danavery/urbansound8K')\n",
    "\n",
    "urban = urban['train'].rename_column('class', 'label')\n",
    "cv13 = cv13['train'].rename_columns({'sentence': 'transcription', 'client_id': 'speaker_id'})\n",
    "cv13 = retain_cyrillic(cv13, 'transcription')\n",
    "\n",
    "cv13.set_format('pt')\n",
    "urban.set_format('pt')"
   ],
   "metadata": {
    "collapsed": false,
    "ExecuteTime": {
     "end_time": "2024-02-08T22:06:44.889432100Z",
     "start_time": "2024-02-08T22:06:26.399387800Z"
    }
   },
   "id": "d0b123212403d01a"
  },
  {
   "cell_type": "code",
   "execution_count": 3,
   "outputs": [],
   "source": [
    "from mango.training.SpeakerAttributedMixer import SpeakerAttributeExample, SpeakerAttributedMixer, DatasetMixerConfig\n",
    "\n",
    "data = SpeakerAttributedMixer(\n",
    "    DatasetMixerConfig(max_speakers=3, utterances_count=250, beta=5, min_repetitions=3, max_repetitions=6), cv13,\n",
    "    urban)\n",
    "example = data.generate()"
   ],
   "metadata": {
    "collapsed": false,
    "ExecuteTime": {
     "end_time": "2024-02-08T22:06:47.760429600Z",
     "start_time": "2024-02-08T22:06:44.893430500Z"
    }
   },
   "id": "c97401c495cc9a35"
  },
  {
   "cell_type": "code",
   "execution_count": 4,
   "outputs": [],
   "source": [
    "%load_ext autoreload \n",
    "%autoreload 2"
   ],
   "metadata": {
    "collapsed": false,
    "ExecuteTime": {
     "end_time": "2024-02-08T22:06:48.008434100Z",
     "start_time": "2024-02-08T22:06:47.763430100Z"
    }
   },
   "id": "5afae759ebe3c824"
  },
  {
   "cell_type": "code",
   "execution_count": 5,
   "outputs": [],
   "source": [
    "from transformers import PreTrainedTokenizerFast"
   ],
   "metadata": {
    "collapsed": false,
    "ExecuteTime": {
     "end_time": "2024-02-08T22:06:48.209434100Z",
     "start_time": "2024-02-08T22:06:48.011439100Z"
    }
   },
   "id": "837ec8c5e0c73afb"
  },
  {
   "cell_type": "code",
   "execution_count": 6,
   "outputs": [],
   "source": [
    "tokenizer = PreTrainedTokenizerFast.from_pretrained('anakib1/sa-asr-0.1')"
   ],
   "metadata": {
    "collapsed": false,
    "ExecuteTime": {
     "end_time": "2024-02-08T22:06:48.566441100Z",
     "start_time": "2024-02-08T22:06:48.209434100Z"
    }
   },
   "id": "fe23ceedd342fd9f"
  },
  {
   "cell_type": "code",
   "execution_count": 7,
   "outputs": [],
   "source": [
    "from mango.training.collators import SpeakerAttributionCollator"
   ],
   "metadata": {
    "collapsed": false,
    "ExecuteTime": {
     "end_time": "2024-02-08T22:06:48.784432100Z",
     "start_time": "2024-02-08T22:06:48.570433100Z"
    }
   },
   "id": "28dd37bdd0085df9"
  },
  {
   "cell_type": "code",
   "execution_count": 9,
   "outputs": [],
   "source": [
    "from transformers import WhisperFeatureExtractor\n",
    "import torch\n",
    "\n",
    "feature_extractor = WhisperFeatureExtractor.from_pretrained('openai/whisper-small')\n",
    "inventory = torch.randn(30, 384)\n",
    "collator = SpeakerAttributionCollator(tokenizer, feature_extractor, inventory)"
   ],
   "metadata": {
    "collapsed": false,
    "ExecuteTime": {
     "end_time": "2024-02-08T22:07:47.040928Z",
     "start_time": "2024-02-08T22:07:46.664189600Z"
    }
   },
   "id": "fb0c66c7f73a5f6e"
  },
  {
   "cell_type": "code",
   "execution_count": 10,
   "outputs": [],
   "source": [
    "import torch\n",
    "from mango.training.DatasetMixer import DatasetMixerWrapper\n",
    "\n",
    "wrapped = DatasetMixerWrapper(data)\n",
    "loader = torch.utils.data.DataLoader(wrapped, batch_size=4, collate_fn=collator)"
   ],
   "metadata": {
    "collapsed": false,
    "ExecuteTime": {
     "end_time": "2024-02-08T22:07:48.852871200Z",
     "start_time": "2024-02-08T22:07:48.664870200Z"
    }
   },
   "id": "57ea91a9dc3c48ff"
  },
  {
   "cell_type": "code",
   "execution_count": 15,
   "outputs": [
    {
     "data": {
      "text/plain": "0"
     },
     "execution_count": 15,
     "metadata": {},
     "output_type": "execute_result"
    }
   ],
   "source": [
    "tokenizer.pad_token_id"
   ],
   "metadata": {
    "collapsed": false,
    "ExecuteTime": {
     "end_time": "2024-02-08T22:13:31.061210400Z",
     "start_time": "2024-02-08T22:13:30.833210500Z"
    }
   },
   "id": "a021a93ead4b1676"
  },
  {
   "cell_type": "code",
   "execution_count": 13,
   "outputs": [
    {
     "data": {
      "text/plain": "{'asr_outputs': tensor([[[ 477.6021,  536.6523,   48.9734,  ...,  392.5928, -523.9099,\n             85.6945],\n          [ 477.8172,  536.3663,   49.5025,  ...,  392.6454, -523.8537,\n             85.5838],\n          [ 477.8195,  536.3677,   49.4888,  ...,  392.6532, -523.8458,\n             85.5778],\n          ...,\n          [ 477.8139,  536.3461,   49.4363,  ...,  392.7038, -523.8139,\n             85.5769],\n          [ 477.8138,  536.3460,   49.4363,  ...,  392.7037, -523.8139,\n             85.5768],\n          [ 477.8138,  536.3461,   49.4362,  ...,  392.7039, -523.8139,\n             85.5769]],\n \n         [[ 241.8062,  320.1090,  -11.6099,  ...,  321.1734, -461.2775,\n            -35.9849],\n          [ 242.0220,  319.7439,  -11.2700,  ...,  321.2599, -461.4782,\n            -36.4647],\n          [ 242.0175,  319.7428,  -11.2770,  ...,  321.2614, -461.4699,\n            -36.4609],\n          ...,\n          [ 241.9625,  319.7487,  -11.2995,  ...,  321.2768, -461.4478,\n            -36.4751],\n          [ 241.9625,  319.7487,  -11.2996,  ...,  321.2767, -461.4478,\n            -36.4752],\n          [ 241.9624,  319.7488,  -11.2994,  ...,  321.2767, -461.4478,\n            -36.4752]],\n \n         [[ 170.1962,  655.5816,  240.7258,  ...,  780.5670, -510.7303,\n           -286.0670],\n          [ 170.4780,  655.1838,  241.1925,  ...,  780.7335, -510.5388,\n           -286.2559],\n          [ 170.5014,  655.1807,  241.1959,  ...,  780.7391, -510.5372,\n           -286.2364],\n          ...,\n          [ 170.4911,  655.2007,  241.1729,  ...,  780.7041, -510.5457,\n           -286.2142],\n          [ 170.4911,  655.2007,  241.1729,  ...,  780.7040, -510.5458,\n           -286.2141],\n          [ 170.4911,  655.2007,  241.1729,  ...,  780.7040, -510.5459,\n           -286.2141]],\n \n         [[ -22.8904,  129.0945,   25.0443,  ...,  682.2078, -111.0239,\n            -24.9925],\n          [ -22.7417,  128.6604,   25.1540,  ...,  682.0528, -111.1169,\n            -25.0083],\n          [ -22.7492,  128.6686,   25.1583,  ...,  682.0383, -111.1216,\n            -25.0148],\n          ...,\n          [ -22.7996,  128.7024,   25.1683,  ...,  681.9990, -111.1231,\n            -25.0454],\n          [ -22.7996,  128.7023,   25.1683,  ...,  681.9989, -111.1231,\n            -25.0454],\n          [ -22.7996,  128.7022,   25.1684,  ...,  681.9989, -111.1232,\n            -25.0455]]], grad_fn=<StackBackward0>),\n 'diar_outputs': tensor([[[0.0327, 0.0350, 0.0346,  ..., 0.0304, 0.0326, 0.0318],\n          [0.0327, 0.0350, 0.0346,  ..., 0.0304, 0.0326, 0.0318],\n          [0.0326, 0.0350, 0.0346,  ..., 0.0304, 0.0325, 0.0318],\n          ...,\n          [0.0327, 0.0350, 0.0346,  ..., 0.0304, 0.0326, 0.0317],\n          [0.0327, 0.0350, 0.0346,  ..., 0.0304, 0.0326, 0.0317],\n          [0.0327, 0.0350, 0.0346,  ..., 0.0304, 0.0326, 0.0317]],\n \n         [[0.0342, 0.0367, 0.0327,  ..., 0.0326, 0.0327, 0.0316],\n          [0.0342, 0.0367, 0.0325,  ..., 0.0328, 0.0328, 0.0314],\n          [0.0341, 0.0365, 0.0326,  ..., 0.0327, 0.0329, 0.0317],\n          ...,\n          [0.0339, 0.0364, 0.0325,  ..., 0.0326, 0.0331, 0.0316],\n          [0.0339, 0.0364, 0.0325,  ..., 0.0326, 0.0331, 0.0316],\n          [0.0339, 0.0364, 0.0325,  ..., 0.0326, 0.0331, 0.0316]],\n \n         [[0.0330, 0.0333, 0.0342,  ..., 0.0323, 0.0338, 0.0326],\n          [0.0329, 0.0332, 0.0343,  ..., 0.0323, 0.0336, 0.0324],\n          [0.0329, 0.0333, 0.0342,  ..., 0.0323, 0.0338, 0.0326],\n          ...,\n          [0.0328, 0.0336, 0.0341,  ..., 0.0323, 0.0338, 0.0325],\n          [0.0328, 0.0336, 0.0341,  ..., 0.0323, 0.0338, 0.0325],\n          [0.0328, 0.0336, 0.0341,  ..., 0.0323, 0.0338, 0.0325]],\n \n         [[0.0335, 0.0349, 0.0357,  ..., 0.0310, 0.0350, 0.0317],\n          [0.0335, 0.0349, 0.0358,  ..., 0.0311, 0.0350, 0.0316],\n          [0.0335, 0.0349, 0.0358,  ..., 0.0310, 0.0351, 0.0316],\n          ...,\n          [0.0339, 0.0351, 0.0362,  ..., 0.0310, 0.0351, 0.0315],\n          [0.0339, 0.0351, 0.0362,  ..., 0.0310, 0.0351, 0.0315],\n          [0.0339, 0.0351, 0.0362,  ..., 0.0310, 0.0351, 0.0315]]],\n        grad_fn=<StackBackward0>),\n 'asr_labels': tensor([[   7,  488, 2862,  ..., -100, -100, -100],\n         [1142,  122,  360,  ..., -100, -100, -100],\n         [   7,   72, 1942,  ..., -100, -100, -100],\n         [ 176,  410, 1303,  ..., -100, -100, -100]]),\n 'diar_labels': tensor([[  10,   10,   10,  ..., -100, -100, -100],\n         [  27,   27,   27,  ..., -100, -100, -100],\n         [  21,   21,   21,  ..., -100, -100, -100],\n         [  28,   28,   28,  ..., -100, -100, -100]]),\n 'loss': tensor(-3.5878, grad_fn=<AddBackward0>)}"
     },
     "execution_count": 13,
     "metadata": {},
     "output_type": "execute_result"
    }
   ],
   "source": [
    "from mango.models.sa_asr import SAASR, SAASRConfig\n",
    "\n",
    "model = SAASR(SAASRConfig(vocab_size=tokenizer.vocab_size))\n",
    "model(**batch)"
   ],
   "metadata": {
    "collapsed": false,
    "ExecuteTime": {
     "end_time": "2024-02-08T22:12:06.394698Z",
     "start_time": "2024-02-08T22:10:47.034394400Z"
    }
   },
   "id": "d549cb2a4e275117"
  },
  {
   "cell_type": "code",
   "execution_count": null,
   "outputs": [],
   "source": [
    "from mango.training.MangoTrainer import TrainerConfig, MangoTrainer\n",
    "\n",
    "config = TrainerConfig(model_name='sa-asr-0.1', logs_frequency_batches=16, save_strategy='epoch',\n",
    "                       mixed_precision='fp16', early_stopping_patience=6, gradient_accumulation_steps=2)\n",
    "\n",
    "optim = torch.optim.AdamW(model.parameters(), lr=1e-3, weight_decay=1e-4)\n",
    "scheduler = torch.optim.lr_scheduler.CyclicLR(optim, base_lr=1e-4, max_lr=1e-3, mode='exp_range', gamma=0.99,\n",
    "                                              cycle_momentum=False, step_size_up=int(len(loader) * 1.75),\n",
    "                                              step_size_down=int(len(loader) * 1.25))\n",
    "\n",
    "trainer = MangoTrainer(model=model, train_loader=loader, eval_loader=loader, config=config, optmizer=optim,\n",
    "                       scheduler=scheduler)\n",
    "\n",
    "trainer.train()"
   ],
   "metadata": {
    "collapsed": false
   },
   "id": "c8b05d5f1aa3db16"
  },
  {
   "cell_type": "code",
   "execution_count": 25,
   "outputs": [
    {
     "data": {
      "text/plain": "tensor(0.0099)"
     },
     "execution_count": 25,
     "metadata": {},
     "output_type": "execute_result"
    }
   ],
   "source": [
    "a = torch.randint(0, 100, (4, 128))\n",
    "b = torch.randint(0, 100, (4, 128))\n",
    "((a==b).masked_fill(b==0, False).sum(dim=1)/((b!=0).sum(dim=1))).mean()"
   ],
   "metadata": {
    "collapsed": false,
    "ExecuteTime": {
     "end_time": "2024-02-08T22:27:38.731911800Z",
     "start_time": "2024-02-08T22:27:38.494911900Z"
    }
   },
   "id": "e5dbbb9bb4e97522"
  },
  {
   "cell_type": "code",
   "execution_count": 19,
   "outputs": [
    {
     "ename": "ValueError",
     "evalue": "Predictions and/or references don't match the expected format.\nExpected format: {'predictions': Value(dtype='int32', id=None), 'references': Value(dtype='int32', id=None)},\nInput predictions: tensor([[ 7, 82, 87, 41, 55,  3, 94, 45, 46, 54, 77, 27, 55, 33, 71, 93, 78, 85,\n         49, 57, 15, 17,  5, 73, 72, 71, 47,  6, 19, 97,  2, 87, 33, 72, 35, 71,\n         89, 43, 51, 28,  7, 80, 85, 70, 73, 20, 57, 60, 92,  3, 73, 81, 25, 92,\n         94, 40,  4, 14, 45, 96, 37, 47, 14, 37, 66,  5, 26, 28, 95, 30, 34, 13,\n         75, 71, 28, 22, 93, 15, 41, 10, 86, 57, 27, 45, 86, 27, 47, 66, 49, 54,\n         61, 63, 96,  5, 65, 62, 10, 46, 92,  4, 45, 66, 20,  8,  4, 65,  9, 62,\n         23,  2, 83, 46, 69, 16, 23,  6, 27, 98,  1, 86, 74, 53, 90, 91, 89, 13,\n         72, 78],\n        [97, 76, 21, 82, 15, 27, 32, 51, 32, 96, 64, 61, 56, 38,  7, 70, 33, 17,\n         10, 19, 65, 63, 91, 48, 83, 13, 12, 65, 40, 72, 93, 22, 24, 71, 74, 36,\n         80, 77, 47, 89, 22, 75, 44, 40, 74, 70, 15, 60, 90, 48, 68, 28, 42,  9,\n         62, 99, 19, 88, 82, 71, 43, 21, 54, 83, 13, 62, 21, 46, 76, 10, 41, 59,\n         76, 26, 83, 97, 76,  7,  2, 78, 85, 41, 50, 24, 42, 44, 28, 39, 31, 25,\n         56, 33, 25, 62, 98, 27, 21,  6, 67, 54, 83, 37, 74, 22, 92, 87, 41,  1,\n         44, 40, 64, 12,  8, 39, 43,  1, 34, 31, 49,  1, 56, 19, 30, 27, 82, 36,\n         14, 90],\n        [24, 60, 46,  1, 65, 11, 30,  6, 91, 40, 95, 10, 69, 56, 18, 69,  9, 33,\n         45, 11, 15, 44, 56, 34, 36, 53, 79, 86,  3, 31, 32, 71, 19, 28, 18, 15,\n         79, 28,  9, 87, 62, 25, 26,  2, 97, 11, 81, 81, 82, 17,  3, 21, 23,  3,\n         76, 80, 73, 12, 51, 63, 79, 93, 50, 80, 37, 45, 90, 39, 67, 31, 83, 86,\n         58, 91, 56, 36, 26, 44, 30, 68, 63, 54,  8, 50, 23, 52, 47, 48, 27, 10,\n         29, 88, 74, 26, 39, 25, 57,  6,  1, 75, 74, 94, 52, 20, 29, 61, 13, 26,\n         95, 49, 22, 50, 74, 86, 86, 52,  3, 99, 88, 92,  6, 94, 99, 37, 83, 49,\n         12, 44],\n        [50,  4, 91, 83, 21, 23,  3, 40, 12,  6, 13, 72, 92, 61, 80, 97, 94, 36,\n         23, 67, 36, 38, 85, 11, 51, 28, 85, 19, 41,  9, 61, 52, 96, 26, 60, 86,\n         32,  0, 89, 55, 28, 12, 64, 62, 79,  0, 42, 10, 81, 70, 40, 48, 30,  0,\n         51, 86, 96, 71,  3, 40, 70, 73, 96, 24, 13, 62, 90, 97, 19, 55, 56,  5,\n         56, 27, 23, 93, 26, 31, 98, 58,  2, 37, 25, 32, 62, 62, 21, 92,  0, 93,\n          7, 78, 80, 63, 46, 47, 24, 54, 37, 69, 95, 10, 25, 41, 59, 64, 90, 51,\n         39, 88, 91,  7, 37, 27, 17, 29, 10, 39, 62, 44, 41, 69, 97, 37, 92,  1,\n         18, 83]]),\nInput references: tensor([[68, 97, 38, 12, 72, 55, 23,  9, 88,  4,  1, 53, 87, 58, 82, 18, 74, 18,\n         57, 23, 13, 44, 34, 55, 10, 67, 20, 43, 69, 61, 35, 64, 98, 42, 17, 71,\n         17, 99, 95, 56, 43, 50, 68, 87, 34,  2, 99, 62, 27, 82,  5, 97, 31, 16,\n          9, 62, 58, 13, 34, 64, 37, 96, 31, 67, 64,  5, 93, 80, 26, 44, 60, 20,\n         67, 97, 59, 32, 51, 27, 95, 79, 44, 95, 92, 97, 27, 50, 51,  1,  7, 30,\n         51, 97, 38, 74, 24, 59, 35, 42, 17, 97, 95, 32, 91, 34, 46, 67, 49, 83,\n         12, 15, 55, 64, 85,  0, 97, 30, 68, 51, 26, 28, 16, 15, 56, 64,  1, 68,\n         22, 24],\n        [34, 25, 33, 18, 88, 53, 78, 87, 65, 12, 24, 31,  4,  0, 44, 82, 86, 79,\n         56, 28, 75, 67, 66, 48, 17, 12, 52, 66, 55,  4, 72, 16, 39, 44, 34, 59,\n         47, 68, 84, 24, 44, 65, 46, 34, 13, 15,  4, 53, 57, 45, 61, 82, 49, 23,\n         84, 32,  2, 23, 37, 19, 81, 67, 70, 25, 54, 89, 31,  6, 25,  4, 58, 43,\n         55, 78, 26, 72, 76, 30, 95, 90, 16,  1, 97, 26, 52, 38, 84, 29, 58, 51,\n         36, 38, 67, 46, 10, 16, 53, 35, 71, 39, 47, 41, 23, 81, 43, 84, 13, 32,\n         97, 45, 39, 70, 78, 21, 22, 98,  7, 50, 77, 29, 82, 48, 72, 83,  6, 64,\n         38, 36],\n        [22, 37, 27,  3,  5, 27, 99, 77, 31, 77, 79, 34, 67, 62, 64, 77, 84, 21,\n          3, 58, 39, 71, 61, 66, 43, 81, 51, 10, 52, 38, 29, 47, 26, 16, 40, 40,\n         35, 33, 69, 69, 92,  1, 54, 78, 78, 82, 18, 84, 68, 33, 39, 66, 58, 40,\n         37,  1, 36, 69, 22, 55, 25, 84, 15,  0, 71, 51, 23, 91, 26, 39, 69, 28,\n         27,  6, 54, 94,  2,  5,  8, 51,  9, 68, 48, 89, 61, 62, 99, 33, 55, 34,\n         57, 88, 96, 45, 88, 64, 30, 21, 56,  5, 81, 72, 83, 10, 26, 33, 33, 63,\n          5, 31, 48, 19, 81, 99, 93, 52, 20, 88, 89, 61, 34, 22, 53, 62, 57, 64,\n         78, 96],\n        [54, 32, 97, 39,  6, 12, 46, 56, 49, 92, 90,  5, 28, 77, 14,  3, 93, 49,\n         75, 47,  5, 44, 96, 19,  4, 79, 64, 36, 46, 55, 88, 39, 70, 85, 44, 99,\n         69, 58, 16, 86, 22, 56, 87, 91, 10,  8, 65, 66, 83,  0, 52, 53, 61, 73,\n         50, 62, 13, 67, 61, 43, 77,  5, 25, 46, 10, 36,  0, 71, 41, 40, 89, 39,\n         19, 11, 18, 14,  4, 86, 72,  9, 14, 31, 92, 93, 93, 52, 68, 65, 20, 64,\n         96, 28, 42,  7, 26, 59, 36, 23, 29, 34, 22, 74, 55, 42, 45, 39, 31, 62,\n         47, 90, 93, 76, 84, 24, 61, 88, 68, 47, 17, 86, 12, 40, 33, 57, 32,  3,\n          5, 14]])",
     "output_type": "error",
     "traceback": [
      "\u001B[1;31m---------------------------------------------------------------------------\u001B[0m",
      "\u001B[1;31mValueError\u001B[0m                                Traceback (most recent call last)",
      "Cell \u001B[1;32mIn[19], line 3\u001B[0m\n\u001B[0;32m      1\u001B[0m \u001B[38;5;28;01mimport\u001B[39;00m \u001B[38;5;21;01mevaluate\u001B[39;00m\n\u001B[0;32m      2\u001B[0m acc \u001B[38;5;241m=\u001B[39m evaluate\u001B[38;5;241m.\u001B[39mload(\u001B[38;5;124m'\u001B[39m\u001B[38;5;124maccuracy\u001B[39m\u001B[38;5;124m'\u001B[39m)\n\u001B[1;32m----> 3\u001B[0m \u001B[43macc\u001B[49m\u001B[38;5;241;43m.\u001B[39;49m\u001B[43mcompute\u001B[49m\u001B[43m(\u001B[49m\u001B[43mreferences\u001B[49m\u001B[38;5;241;43m=\u001B[39;49m\u001B[43ma\u001B[49m\u001B[43m,\u001B[49m\u001B[43m \u001B[49m\u001B[43mpredictions\u001B[49m\u001B[38;5;241;43m=\u001B[39;49m\u001B[43mb\u001B[49m\u001B[43m)\u001B[49m\n",
      "File \u001B[1;32m~\\anaconda3\\envs\\pythonProject\\lib\\site-packages\\evaluate\\module.py:450\u001B[0m, in \u001B[0;36mEvaluationModule.compute\u001B[1;34m(self, predictions, references, **kwargs)\u001B[0m\n\u001B[0;32m    447\u001B[0m compute_kwargs \u001B[38;5;241m=\u001B[39m {k: kwargs[k] \u001B[38;5;28;01mfor\u001B[39;00m k \u001B[38;5;129;01min\u001B[39;00m kwargs \u001B[38;5;28;01mif\u001B[39;00m k \u001B[38;5;129;01mnot\u001B[39;00m \u001B[38;5;129;01min\u001B[39;00m \u001B[38;5;28mself\u001B[39m\u001B[38;5;241m.\u001B[39m_feature_names()}\n\u001B[0;32m    449\u001B[0m \u001B[38;5;28;01mif\u001B[39;00m \u001B[38;5;28many\u001B[39m(v \u001B[38;5;129;01mis\u001B[39;00m \u001B[38;5;129;01mnot\u001B[39;00m \u001B[38;5;28;01mNone\u001B[39;00m \u001B[38;5;28;01mfor\u001B[39;00m v \u001B[38;5;129;01min\u001B[39;00m inputs\u001B[38;5;241m.\u001B[39mvalues()):\n\u001B[1;32m--> 450\u001B[0m     \u001B[38;5;28mself\u001B[39m\u001B[38;5;241m.\u001B[39madd_batch(\u001B[38;5;241m*\u001B[39m\u001B[38;5;241m*\u001B[39minputs)\n\u001B[0;32m    451\u001B[0m \u001B[38;5;28mself\u001B[39m\u001B[38;5;241m.\u001B[39m_finalize()\n\u001B[0;32m    453\u001B[0m \u001B[38;5;28mself\u001B[39m\u001B[38;5;241m.\u001B[39mcache_file_name \u001B[38;5;241m=\u001B[39m \u001B[38;5;28;01mNone\u001B[39;00m\n",
      "File \u001B[1;32m~\\anaconda3\\envs\\pythonProject\\lib\\site-packages\\evaluate\\module.py:541\u001B[0m, in \u001B[0;36mEvaluationModule.add_batch\u001B[1;34m(self, predictions, references, **kwargs)\u001B[0m\n\u001B[0;32m    534\u001B[0m \u001B[38;5;28;01melse\u001B[39;00m:\n\u001B[0;32m    535\u001B[0m     error_msg \u001B[38;5;241m=\u001B[39m (\n\u001B[0;32m    536\u001B[0m         \u001B[38;5;124mf\u001B[39m\u001B[38;5;124m\"\u001B[39m\u001B[38;5;124mPredictions and/or references don\u001B[39m\u001B[38;5;124m'\u001B[39m\u001B[38;5;124mt match the expected format.\u001B[39m\u001B[38;5;130;01m\\n\u001B[39;00m\u001B[38;5;124m\"\u001B[39m\n\u001B[0;32m    537\u001B[0m         \u001B[38;5;124mf\u001B[39m\u001B[38;5;124m\"\u001B[39m\u001B[38;5;124mExpected format: \u001B[39m\u001B[38;5;132;01m{\u001B[39;00m\u001B[38;5;28mself\u001B[39m\u001B[38;5;241m.\u001B[39mselected_feature_format\u001B[38;5;250m \u001B[39m\u001B[38;5;132;01m}\u001B[39;00m\u001B[38;5;124m,\u001B[39m\u001B[38;5;130;01m\\n\u001B[39;00m\u001B[38;5;124m\"\u001B[39m\n\u001B[0;32m    538\u001B[0m         \u001B[38;5;124mf\u001B[39m\u001B[38;5;124m\"\u001B[39m\u001B[38;5;124mInput predictions: \u001B[39m\u001B[38;5;132;01m{\u001B[39;00msummarize_if_long_list(predictions)\u001B[38;5;132;01m}\u001B[39;00m\u001B[38;5;124m,\u001B[39m\u001B[38;5;130;01m\\n\u001B[39;00m\u001B[38;5;124m\"\u001B[39m\n\u001B[0;32m    539\u001B[0m         \u001B[38;5;124mf\u001B[39m\u001B[38;5;124m\"\u001B[39m\u001B[38;5;124mInput references: \u001B[39m\u001B[38;5;132;01m{\u001B[39;00msummarize_if_long_list(references)\u001B[38;5;132;01m}\u001B[39;00m\u001B[38;5;124m\"\u001B[39m\n\u001B[0;32m    540\u001B[0m     )\n\u001B[1;32m--> 541\u001B[0m \u001B[38;5;28;01mraise\u001B[39;00m \u001B[38;5;167;01mValueError\u001B[39;00m(error_msg) \u001B[38;5;28;01mfrom\u001B[39;00m \u001B[38;5;28;01mNone\u001B[39;00m\n",
      "\u001B[1;31mValueError\u001B[0m: Predictions and/or references don't match the expected format.\nExpected format: {'predictions': Value(dtype='int32', id=None), 'references': Value(dtype='int32', id=None)},\nInput predictions: tensor([[ 7, 82, 87, 41, 55,  3, 94, 45, 46, 54, 77, 27, 55, 33, 71, 93, 78, 85,\n         49, 57, 15, 17,  5, 73, 72, 71, 47,  6, 19, 97,  2, 87, 33, 72, 35, 71,\n         89, 43, 51, 28,  7, 80, 85, 70, 73, 20, 57, 60, 92,  3, 73, 81, 25, 92,\n         94, 40,  4, 14, 45, 96, 37, 47, 14, 37, 66,  5, 26, 28, 95, 30, 34, 13,\n         75, 71, 28, 22, 93, 15, 41, 10, 86, 57, 27, 45, 86, 27, 47, 66, 49, 54,\n         61, 63, 96,  5, 65, 62, 10, 46, 92,  4, 45, 66, 20,  8,  4, 65,  9, 62,\n         23,  2, 83, 46, 69, 16, 23,  6, 27, 98,  1, 86, 74, 53, 90, 91, 89, 13,\n         72, 78],\n        [97, 76, 21, 82, 15, 27, 32, 51, 32, 96, 64, 61, 56, 38,  7, 70, 33, 17,\n         10, 19, 65, 63, 91, 48, 83, 13, 12, 65, 40, 72, 93, 22, 24, 71, 74, 36,\n         80, 77, 47, 89, 22, 75, 44, 40, 74, 70, 15, 60, 90, 48, 68, 28, 42,  9,\n         62, 99, 19, 88, 82, 71, 43, 21, 54, 83, 13, 62, 21, 46, 76, 10, 41, 59,\n         76, 26, 83, 97, 76,  7,  2, 78, 85, 41, 50, 24, 42, 44, 28, 39, 31, 25,\n         56, 33, 25, 62, 98, 27, 21,  6, 67, 54, 83, 37, 74, 22, 92, 87, 41,  1,\n         44, 40, 64, 12,  8, 39, 43,  1, 34, 31, 49,  1, 56, 19, 30, 27, 82, 36,\n         14, 90],\n        [24, 60, 46,  1, 65, 11, 30,  6, 91, 40, 95, 10, 69, 56, 18, 69,  9, 33,\n         45, 11, 15, 44, 56, 34, 36, 53, 79, 86,  3, 31, 32, 71, 19, 28, 18, 15,\n         79, 28,  9, 87, 62, 25, 26,  2, 97, 11, 81, 81, 82, 17,  3, 21, 23,  3,\n         76, 80, 73, 12, 51, 63, 79, 93, 50, 80, 37, 45, 90, 39, 67, 31, 83, 86,\n         58, 91, 56, 36, 26, 44, 30, 68, 63, 54,  8, 50, 23, 52, 47, 48, 27, 10,\n         29, 88, 74, 26, 39, 25, 57,  6,  1, 75, 74, 94, 52, 20, 29, 61, 13, 26,\n         95, 49, 22, 50, 74, 86, 86, 52,  3, 99, 88, 92,  6, 94, 99, 37, 83, 49,\n         12, 44],\n        [50,  4, 91, 83, 21, 23,  3, 40, 12,  6, 13, 72, 92, 61, 80, 97, 94, 36,\n         23, 67, 36, 38, 85, 11, 51, 28, 85, 19, 41,  9, 61, 52, 96, 26, 60, 86,\n         32,  0, 89, 55, 28, 12, 64, 62, 79,  0, 42, 10, 81, 70, 40, 48, 30,  0,\n         51, 86, 96, 71,  3, 40, 70, 73, 96, 24, 13, 62, 90, 97, 19, 55, 56,  5,\n         56, 27, 23, 93, 26, 31, 98, 58,  2, 37, 25, 32, 62, 62, 21, 92,  0, 93,\n          7, 78, 80, 63, 46, 47, 24, 54, 37, 69, 95, 10, 25, 41, 59, 64, 90, 51,\n         39, 88, 91,  7, 37, 27, 17, 29, 10, 39, 62, 44, 41, 69, 97, 37, 92,  1,\n         18, 83]]),\nInput references: tensor([[68, 97, 38, 12, 72, 55, 23,  9, 88,  4,  1, 53, 87, 58, 82, 18, 74, 18,\n         57, 23, 13, 44, 34, 55, 10, 67, 20, 43, 69, 61, 35, 64, 98, 42, 17, 71,\n         17, 99, 95, 56, 43, 50, 68, 87, 34,  2, 99, 62, 27, 82,  5, 97, 31, 16,\n          9, 62, 58, 13, 34, 64, 37, 96, 31, 67, 64,  5, 93, 80, 26, 44, 60, 20,\n         67, 97, 59, 32, 51, 27, 95, 79, 44, 95, 92, 97, 27, 50, 51,  1,  7, 30,\n         51, 97, 38, 74, 24, 59, 35, 42, 17, 97, 95, 32, 91, 34, 46, 67, 49, 83,\n         12, 15, 55, 64, 85,  0, 97, 30, 68, 51, 26, 28, 16, 15, 56, 64,  1, 68,\n         22, 24],\n        [34, 25, 33, 18, 88, 53, 78, 87, 65, 12, 24, 31,  4,  0, 44, 82, 86, 79,\n         56, 28, 75, 67, 66, 48, 17, 12, 52, 66, 55,  4, 72, 16, 39, 44, 34, 59,\n         47, 68, 84, 24, 44, 65, 46, 34, 13, 15,  4, 53, 57, 45, 61, 82, 49, 23,\n         84, 32,  2, 23, 37, 19, 81, 67, 70, 25, 54, 89, 31,  6, 25,  4, 58, 43,\n         55, 78, 26, 72, 76, 30, 95, 90, 16,  1, 97, 26, 52, 38, 84, 29, 58, 51,\n         36, 38, 67, 46, 10, 16, 53, 35, 71, 39, 47, 41, 23, 81, 43, 84, 13, 32,\n         97, 45, 39, 70, 78, 21, 22, 98,  7, 50, 77, 29, 82, 48, 72, 83,  6, 64,\n         38, 36],\n        [22, 37, 27,  3,  5, 27, 99, 77, 31, 77, 79, 34, 67, 62, 64, 77, 84, 21,\n          3, 58, 39, 71, 61, 66, 43, 81, 51, 10, 52, 38, 29, 47, 26, 16, 40, 40,\n         35, 33, 69, 69, 92,  1, 54, 78, 78, 82, 18, 84, 68, 33, 39, 66, 58, 40,\n         37,  1, 36, 69, 22, 55, 25, 84, 15,  0, 71, 51, 23, 91, 26, 39, 69, 28,\n         27,  6, 54, 94,  2,  5,  8, 51,  9, 68, 48, 89, 61, 62, 99, 33, 55, 34,\n         57, 88, 96, 45, 88, 64, 30, 21, 56,  5, 81, 72, 83, 10, 26, 33, 33, 63,\n          5, 31, 48, 19, 81, 99, 93, 52, 20, 88, 89, 61, 34, 22, 53, 62, 57, 64,\n         78, 96],\n        [54, 32, 97, 39,  6, 12, 46, 56, 49, 92, 90,  5, 28, 77, 14,  3, 93, 49,\n         75, 47,  5, 44, 96, 19,  4, 79, 64, 36, 46, 55, 88, 39, 70, 85, 44, 99,\n         69, 58, 16, 86, 22, 56, 87, 91, 10,  8, 65, 66, 83,  0, 52, 53, 61, 73,\n         50, 62, 13, 67, 61, 43, 77,  5, 25, 46, 10, 36,  0, 71, 41, 40, 89, 39,\n         19, 11, 18, 14,  4, 86, 72,  9, 14, 31, 92, 93, 93, 52, 68, 65, 20, 64,\n         96, 28, 42,  7, 26, 59, 36, 23, 29, 34, 22, 74, 55, 42, 45, 39, 31, 62,\n         47, 90, 93, 76, 84, 24, 61, 88, 68, 47, 17, 86, 12, 40, 33, 57, 32,  3,\n          5, 14]])"
     ]
    }
   ],
   "source": [
    "import evaluate\n",
    "acc = evaluate.load('accuracy')\n",
    "acc.compute(references=a, predictions=b)"
   ],
   "metadata": {
    "collapsed": false,
    "ExecuteTime": {
     "end_time": "2024-02-08T22:25:49.099454900Z",
     "start_time": "2024-02-08T22:25:46.473096300Z"
    }
   },
   "id": "371a6c91c17f27f2"
  },
  {
   "cell_type": "code",
   "execution_count": null,
   "outputs": [],
   "source": [],
   "metadata": {
    "collapsed": false
   },
   "id": "7079d8c38df9b65"
  }
 ],
 "metadata": {
  "kernelspec": {
   "display_name": "Python 3",
   "language": "python",
   "name": "python3"
  },
  "language_info": {
   "codemirror_mode": {
    "name": "ipython",
    "version": 2
   },
   "file_extension": ".py",
   "mimetype": "text/x-python",
   "name": "python",
   "nbconvert_exporter": "python",
   "pygments_lexer": "ipython2",
   "version": "2.7.6"
  }
 },
 "nbformat": 4,
 "nbformat_minor": 5
}
