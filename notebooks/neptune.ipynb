{
 "cells": [
  {
   "cell_type": "code",
   "execution_count": 3,
   "id": "initial_id",
   "metadata": {
    "collapsed": true,
    "ExecuteTime": {
     "end_time": "2024-03-21T17:53:22.928878200Z",
     "start_time": "2024-03-21T17:53:13.430826800Z"
    }
   },
   "outputs": [],
   "source": [
    "from mango.training.trackers import NeptuneTracker"
   ]
  },
  {
   "cell_type": "code",
   "execution_count": 4,
   "outputs": [
    {
     "name": "stderr",
     "output_type": "stream",
     "text": [
      "[neptune] [warning] NeptuneWarning: The following monitoring options are disabled by default in interactive sessions: 'capture_stdout', 'capture_stderr', 'capture_traceback', and 'capture_hardware_metrics'. To enable them, set each parameter to 'True' when initializing the run. The monitoring will continue until you call run.stop() or the kernel stops. Also note: Your source files can only be tracked if you pass the path(s) to the 'source_code' argument. For help, see the Neptune docs: https://docs.neptune.ai/logging/source_code/\n"
     ]
    },
    {
     "name": "stdout",
     "output_type": "stream",
     "text": [
      "[neptune] [info   ] Neptune initialized. Open in the app: https://app.neptune.ai/mango/mango-noise/e/MNGNS-7\n"
     ]
    }
   ],
   "source": [
    "import os\n",
    "tracker = NeptuneTracker('mango/mango-noise',os.getenv('NEPTUNE_API_TOKEN'), 'placeholder-clf')"
   ],
   "metadata": {
    "collapsed": false,
    "ExecuteTime": {
     "end_time": "2024-03-21T17:53:27.464680400Z",
     "start_time": "2024-03-21T17:53:22.931878Z"
    }
   },
   "id": "a6547087bdb70cdd"
  },
  {
   "cell_type": "code",
   "execution_count": 5,
   "outputs": [],
   "source": [
    "from mango.utils.multilabel import render_confusion_matrix\n",
    "import numpy as np\n",
    "\n",
    "imgs = render_confusion_matrix(np.random.randint(0, 2, (16, 10)), np.random.randint(0, 2, (16, 10)))"
   ],
   "metadata": {
    "collapsed": false,
    "ExecuteTime": {
     "end_time": "2024-03-21T17:53:28.997683200Z",
     "start_time": "2024-03-21T17:53:27.467681100Z"
    }
   },
   "id": "1a04849a7ce0ae"
  },
  {
   "cell_type": "code",
   "execution_count": 6,
   "outputs": [],
   "source": [
    "tracker.init_run('temp2', {'base_lr': 11, 'num_layers': 10})\n",
    "tracker.log_epoch({'loss/eval': 11, 'acc/eval': 0.3, 'imgs': imgs}, 0)\n",
    "tracker.log_epoch({'loss/eval': 10, 'acc/eval': 0.4, 'imgs': imgs}, 1)\n",
    "tracker.log_epoch({'loss/eval': 10, 'acc/eval': 0.45, 'imgs': imgs}, 2)\n",
    "tracker.log_epoch({'loss/eval': 7, 'acc/eval': 0.52, 'imgs': imgs}, 3)\n",
    "tracker.log_epoch({'loss/eval': 6.1, 'acc/eval': 0.6, 'imgs': imgs}, 4)"
   ],
   "metadata": {
    "collapsed": false,
    "ExecuteTime": {
     "end_time": "2024-03-21T17:53:30.221892100Z",
     "start_time": "2024-03-21T17:53:29.005680400Z"
    }
   },
   "id": "9ef174a19b2a4949"
  },
  {
   "cell_type": "code",
   "execution_count": 7,
   "outputs": [],
   "source": [
    "import torch\n",
    "model = torch.nn.Sequential(torch.nn.Linear(100, 200), torch.nn.ReLU(), torch.nn.Linear(200, 64))"
   ],
   "metadata": {
    "collapsed": false,
    "ExecuteTime": {
     "end_time": "2024-03-21T17:53:30.240878400Z",
     "start_time": "2024-03-21T17:53:30.224880200Z"
    }
   },
   "id": "8817e0e1d26b5b26"
  },
  {
   "cell_type": "code",
   "execution_count": 8,
   "outputs": [],
   "source": [
    "tracker.save_model(model, 0)\n",
    "tracker.save_model(model, 1)"
   ],
   "metadata": {
    "collapsed": false,
    "ExecuteTime": {
     "end_time": "2024-03-21T17:53:36.685621900Z",
     "start_time": "2024-03-21T17:53:30.240878400Z"
    }
   },
   "id": "d84dbe565f5eb570"
  },
  {
   "cell_type": "code",
   "execution_count": null,
   "outputs": [],
   "source": [],
   "metadata": {
    "collapsed": false
   },
   "id": "58eee96a1a183e82"
  }
 ],
 "metadata": {
  "kernelspec": {
   "display_name": "Python 3",
   "language": "python",
   "name": "python3"
  },
  "language_info": {
   "codemirror_mode": {
    "name": "ipython",
    "version": 2
   },
   "file_extension": ".py",
   "mimetype": "text/x-python",
   "name": "python",
   "nbconvert_exporter": "python",
   "pygments_lexer": "ipython2",
   "version": "2.7.6"
  }
 },
 "nbformat": 4,
 "nbformat_minor": 5
}
