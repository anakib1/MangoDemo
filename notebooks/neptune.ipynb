{
 "cells": [
  {
   "cell_type": "code",
   "execution_count": 3,
   "id": "initial_id",
   "metadata": {
    "collapsed": true,
    "ExecuteTime": {
     "end_time": "2024-03-21T17:53:22.928878200Z",
     "start_time": "2024-03-21T17:53:13.430826800Z"
    }
   },
   "outputs": [],
   "source": [
    "from mango.training.trackers import NeptuneTracker"
   ]
  },
  {
   "cell_type": "code",
   "execution_count": 4,
   "outputs": [
    {
     "name": "stderr",
     "output_type": "stream",
     "text": [
      "[neptune] [warning] NeptuneWarning: The following monitoring options are disabled by default in interactive sessions: 'capture_stdout', 'capture_stderr', 'capture_traceback', and 'capture_hardware_metrics'. To enable them, set each parameter to 'True' when initializing the run. The monitoring will continue until you call run.stop() or the kernel stops. Also note: Your source files can only be tracked if you pass the path(s) to the 'source_code' argument. For help, see the Neptune docs: https://docs.neptune.ai/logging/source_code/\n"
     ]
    },
    {
     "name": "stdout",
     "output_type": "stream",
     "text": [
      "[neptune] [info   ] Neptune initialized. Open in the app: https://app.neptune.ai/mango/mango-noise/e/MNGNS-7\n"
     ]
    }
   ],
   "source": [
    "import os\n",
    "tracker = NeptuneTracker('mango/mango-noise',os.getenv('NEPTUNE_API_TOKEN'), 'placeholder-clf')"
   ],
   "metadata": {
    "collapsed": false,
    "ExecuteTime": {
     "end_time": "2024-03-21T17:53:27.464680400Z",
     "start_time": "2024-03-21T17:53:22.931878Z"
    }
   },
   "id": "a6547087bdb70cdd"
  },
  {
   "cell_type": "code",
   "execution_count": 1,
   "outputs": [],
   "source": [
    "from mango.utils.multilabel import render_confusion_matrix\n",
    "import numpy as np\n",
    "\n",
    "imgs = render_confusion_matrix(np.random.randint(0, 2, (16, 10)), np.random.randint(0, 2, (16, 10)))"
   ],
   "metadata": {
    "collapsed": false,
    "ExecuteTime": {
     "end_time": "2024-03-21T20:56:47.193888100Z",
     "start_time": "2024-03-21T20:56:43.401875900Z"
    }
   },
   "id": "1a04849a7ce0ae"
  },
  {
   "cell_type": "code",
   "execution_count": 2,
   "outputs": [
    {
     "ename": "NameError",
     "evalue": "name 'tracker' is not defined",
     "output_type": "error",
     "traceback": [
      "\u001B[1;31m---------------------------------------------------------------------------\u001B[0m",
      "\u001B[1;31mNameError\u001B[0m                                 Traceback (most recent call last)",
      "Cell \u001B[1;32mIn[2], line 1\u001B[0m\n\u001B[1;32m----> 1\u001B[0m \u001B[43mtracker\u001B[49m\u001B[38;5;241m.\u001B[39minit_run(\u001B[38;5;124m'\u001B[39m\u001B[38;5;124mtemp2\u001B[39m\u001B[38;5;124m'\u001B[39m, {\u001B[38;5;124m'\u001B[39m\u001B[38;5;124mbase_lr\u001B[39m\u001B[38;5;124m'\u001B[39m: \u001B[38;5;241m11\u001B[39m, \u001B[38;5;124m'\u001B[39m\u001B[38;5;124mnum_layers\u001B[39m\u001B[38;5;124m'\u001B[39m: \u001B[38;5;241m10\u001B[39m})\n\u001B[0;32m      2\u001B[0m tracker\u001B[38;5;241m.\u001B[39mlog_epoch({\u001B[38;5;124m'\u001B[39m\u001B[38;5;124mloss/eval\u001B[39m\u001B[38;5;124m'\u001B[39m: \u001B[38;5;241m11\u001B[39m, \u001B[38;5;124m'\u001B[39m\u001B[38;5;124macc/eval\u001B[39m\u001B[38;5;124m'\u001B[39m: \u001B[38;5;241m0.3\u001B[39m, \u001B[38;5;124m'\u001B[39m\u001B[38;5;124mimgs\u001B[39m\u001B[38;5;124m'\u001B[39m: imgs}, \u001B[38;5;241m0\u001B[39m)\n\u001B[0;32m      3\u001B[0m tracker\u001B[38;5;241m.\u001B[39mlog_epoch({\u001B[38;5;124m'\u001B[39m\u001B[38;5;124mloss/eval\u001B[39m\u001B[38;5;124m'\u001B[39m: \u001B[38;5;241m10\u001B[39m, \u001B[38;5;124m'\u001B[39m\u001B[38;5;124macc/eval\u001B[39m\u001B[38;5;124m'\u001B[39m: \u001B[38;5;241m0.4\u001B[39m, \u001B[38;5;124m'\u001B[39m\u001B[38;5;124mimgs\u001B[39m\u001B[38;5;124m'\u001B[39m: imgs}, \u001B[38;5;241m1\u001B[39m)\n",
      "\u001B[1;31mNameError\u001B[0m: name 'tracker' is not defined"
     ]
    }
   ],
   "source": [
    "tracker.init_run('temp2', {'base_lr': 11, 'num_layers': 10})\n",
    "tracker.log_epoch({'loss/eval': 11, 'acc/eval': 0.3, 'imgs': imgs}, 0)\n",
    "tracker.log_epoch({'loss/eval': 10, 'acc/eval': 0.4, 'imgs': imgs}, 1)\n",
    "tracker.log_epoch({'loss/eval': 10, 'acc/eval': 0.45, 'imgs': imgs}, 2)\n",
    "tracker.log_epoch({'loss/eval': 7, 'acc/eval': 0.52, 'imgs': imgs}, 3)\n",
    "tracker.log_epoch({'loss/eval': 6.1, 'acc/eval': 0.6, 'imgs': imgs}, 4)"
   ],
   "metadata": {
    "collapsed": false,
    "ExecuteTime": {
     "end_time": "2024-03-21T20:56:48.728403900Z",
     "start_time": "2024-03-21T20:56:47.199878200Z"
    }
   },
   "id": "9ef174a19b2a4949"
  },
  {
   "cell_type": "code",
   "execution_count": 3,
   "outputs": [],
   "source": [
    "import torch\n",
    "model = torch.nn.Sequential(torch.nn.Linear(100, 200), torch.nn.ReLU(), torch.nn.Linear(200, 64))"
   ],
   "metadata": {
    "collapsed": false,
    "ExecuteTime": {
     "end_time": "2024-03-21T20:56:59.118054100Z",
     "start_time": "2024-03-21T20:56:56.011054800Z"
    }
   },
   "id": "8817e0e1d26b5b26"
  },
  {
   "cell_type": "code",
   "execution_count": null,
   "outputs": [],
   "source": [
    "tracker.save_model(model, 0)\n",
    "tracker.save_model(model, 1)"
   ],
   "metadata": {
    "collapsed": false,
    "ExecuteTime": {
     "end_time": "2024-03-21T20:56:48.754406500Z",
     "start_time": "2024-03-21T20:56:48.736413300Z"
    }
   },
   "id": "d84dbe565f5eb570"
  },
  {
   "cell_type": "code",
   "execution_count": 4,
   "outputs": [],
   "source": [
    "from datasets import load_dataset\n",
    "from transformers import WhisperProcessor\n",
    "from mango.utils.tokenization import retain_cyrillic\n",
    "from mango.training.SpeakerAttributedMixer import SpeakerAttributedMixer, DatasetMixerConfig\n",
    "from mango.training.DatasetMixer import DatasetMixerWrapper\n",
    "from mango.training.collators import WhisperUrbanCollator\n",
    "from mango.models.noiseclas import WhisperTinyEmbedder, NoiseClassifier, ClassificationMulticlassAccuracy\n",
    "from mango.training.MangoTrainer import MangoTrainer, TrainerConfig\n",
    "from torch.utils.data import DataLoader"
   ],
   "metadata": {
    "collapsed": false,
    "ExecuteTime": {
     "end_time": "2024-03-21T20:57:08.799088300Z",
     "start_time": "2024-03-21T20:56:59.124059300Z"
    }
   },
   "id": "58eee96a1a183e82"
  },
  {
   "cell_type": "code",
   "execution_count": 5,
   "outputs": [
    {
     "data": {
      "text/plain": "Downloading data:   0%|          | 0.00/352M [00:00<?, ?B/s]",
      "application/vnd.jupyter.widget-view+json": {
       "version_major": 2,
       "version_minor": 0,
       "model_id": "cca714af6550487390eb10145d77f179"
      }
     },
     "metadata": {},
     "output_type": "display_data"
    },
    {
     "data": {
      "text/plain": "Downloading data:   0%|          | 0.00/290M [00:00<?, ?B/s]",
      "application/vnd.jupyter.widget-view+json": {
       "version_major": 2,
       "version_minor": 0,
       "model_id": "d477758e86e64e96bb4d918f8c7c9097"
      }
     },
     "metadata": {},
     "output_type": "display_data"
    },
    {
     "data": {
      "text/plain": "Generating train split:   0%|          | 0/4029 [00:00<?, ? examples/s]",
      "application/vnd.jupyter.widget-view+json": {
       "version_major": 2,
       "version_minor": 0,
       "model_id": "a2ed97163da84868b9363292f6492a55"
      }
     },
     "metadata": {},
     "output_type": "display_data"
    },
    {
     "data": {
      "text/plain": "Generating test split:   0%|          | 0/1107 [00:00<?, ? examples/s]",
      "application/vnd.jupyter.widget-view+json": {
       "version_major": 2,
       "version_minor": 0,
       "model_id": "a924f89a6df04ab6b49bc957f353643b"
      }
     },
     "metadata": {},
     "output_type": "display_data"
    }
   ],
   "source": [
    "cv13 = load_dataset('mozilla-foundation/common_voice_13_0', 'uk', trust_remote_code=True)\n",
    "#urban = load_dataset('danavery/urbansound8K')\n",
    "urban = load_dataset('anakib1/audioset', split='train')"
   ],
   "metadata": {
    "collapsed": false,
    "ExecuteTime": {
     "end_time": "2024-03-21T20:59:36.864442300Z",
     "start_time": "2024-03-21T20:57:08.801075100Z"
    }
   },
   "id": "aac57886b5f5e79b"
  },
  {
   "cell_type": "code",
   "execution_count": 6,
   "outputs": [],
   "source": [
    "cv13 = cv13['train'].rename_columns({'sentence': 'transcription', 'client_id': 'speaker_id'})\n",
    "cv13 = retain_cyrillic(cv13, 'transcription')"
   ],
   "metadata": {
    "collapsed": false,
    "ExecuteTime": {
     "end_time": "2024-03-21T20:59:36.941439500Z",
     "start_time": "2024-03-21T20:59:36.870437800Z"
    }
   },
   "id": "5a70732a7d77ea76"
  },
  {
   "cell_type": "code",
   "execution_count": 7,
   "outputs": [],
   "source": [
    "cv13.set_format('pt')\n",
    "urban.set_format('pt')"
   ],
   "metadata": {
    "collapsed": false,
    "ExecuteTime": {
     "end_time": "2024-03-21T20:59:36.965441500Z",
     "start_time": "2024-03-21T20:59:36.942442700Z"
    }
   },
   "id": "9639246c2a412139"
  },
  {
   "cell_type": "code",
   "execution_count": 8,
   "outputs": [],
   "source": [
    "train_mixer = SpeakerAttributedMixer(\n",
    "    DatasetMixerConfig(max_speakers=3, utterances_count=150, beta=5, min_repetitions=3, max_repetitions=6, noise_sample_type='random'), cv13,\n",
    "    urban)\n",
    "test_mixer = SpeakerAttributedMixer(\n",
    "    DatasetMixerConfig(max_speakers=3, utterances_count=50, beta=5, min_repetitions=3, max_repetitions=6, noise_sample_type='random'), cv13,\n",
    "    urban)\n",
    "\n",
    "train_data = DatasetMixerWrapper(train_mixer)\n",
    "test_data = DatasetMixerWrapper(test_mixer)"
   ],
   "metadata": {
    "collapsed": false,
    "ExecuteTime": {
     "end_time": "2024-03-21T20:59:38.285448300Z",
     "start_time": "2024-03-21T20:59:36.963437700Z"
    }
   },
   "id": "a8321b9a867e8349"
  },
  {
   "cell_type": "code",
   "execution_count": null,
   "outputs": [],
   "source": [],
   "metadata": {
    "collapsed": false
   },
   "id": "f4cac2912f421315"
  }
 ],
 "metadata": {
  "kernelspec": {
   "display_name": "Python 3",
   "language": "python",
   "name": "python3"
  },
  "language_info": {
   "codemirror_mode": {
    "name": "ipython",
    "version": 2
   },
   "file_extension": ".py",
   "mimetype": "text/x-python",
   "name": "python",
   "nbconvert_exporter": "python",
   "pygments_lexer": "ipython2",
   "version": "2.7.6"
  }
 },
 "nbformat": 4,
 "nbformat_minor": 5
}
