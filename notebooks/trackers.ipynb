{
 "cells": [
  {
   "cell_type": "code",
   "execution_count": 3,
   "id": "initial_id",
   "metadata": {
    "collapsed": true,
    "ExecuteTime": {
     "end_time": "2024-03-20T17:15:25.875518200Z",
     "start_time": "2024-03-20T17:15:25.864520900Z"
    }
   },
   "outputs": [],
   "source": [
    "from mango.training.trackers import TensorboardTrackerCallback"
   ]
  },
  {
   "cell_type": "code",
   "execution_count": 4,
   "outputs": [],
   "source": [
    "tb = TensorboardTrackerCallback()\n",
    "tb.init_run('temp', {'base_lr' : 11, 'num_layers' : 10})\n",
    "tb.log_epoch({'loss/eval' : 11, 'acc/eval' : 0.3}, 0)\n",
    "tb.log_epoch({'loss/eval' : 10, 'acc/eval' : 0.4}, 1)\n",
    "tb.log_epoch({'loss/eval' : 10, 'acc/eval' : 0.45}, 2)\n",
    "tb.log_epoch({'loss/eval' : 7, 'acc/eval' : 0.52}, 3)\n",
    "tb.log_epoch({'loss/eval' : 6.1, 'acc/eval' : 0.6}, 4)"
   ],
   "metadata": {
    "collapsed": false,
    "ExecuteTime": {
     "end_time": "2024-03-20T17:15:27.119102600Z",
     "start_time": "2024-03-20T17:15:27.089104600Z"
    }
   },
   "id": "954b2c8918585db2"
  },
  {
   "cell_type": "code",
   "execution_count": null,
   "outputs": [],
   "source": [],
   "metadata": {
    "collapsed": false,
    "ExecuteTime": {
     "start_time": "2024-03-20T16:46:57.310746100Z"
    }
   },
   "id": "82d3712a5c67fad3"
  },
  {
   "cell_type": "code",
   "execution_count": 5,
   "outputs": [],
   "source": [
    "tb = TensorboardTrackerCallback()\n",
    "tb.init_run('temp2', {'base_lr' : 21, 'num_layers' : 20})"
   ],
   "metadata": {
    "collapsed": false,
    "ExecuteTime": {
     "end_time": "2024-03-20T17:16:01.508548600Z",
     "start_time": "2024-03-20T17:16:01.482536700Z"
    }
   },
   "id": "9a81eeb1677a7854"
  },
  {
   "cell_type": "code",
   "execution_count": null,
   "outputs": [],
   "source": [],
   "metadata": {
    "collapsed": false
   },
   "id": "899ab723c0ea4f89"
  }
 ],
 "metadata": {
  "kernelspec": {
   "display_name": "Python 3",
   "language": "python",
   "name": "python3"
  },
  "language_info": {
   "codemirror_mode": {
    "name": "ipython",
    "version": 2
   },
   "file_extension": ".py",
   "mimetype": "text/x-python",
   "name": "python",
   "nbconvert_exporter": "python",
   "pygments_lexer": "ipython2",
   "version": "2.7.6"
  }
 },
 "nbformat": 4,
 "nbformat_minor": 5
}
