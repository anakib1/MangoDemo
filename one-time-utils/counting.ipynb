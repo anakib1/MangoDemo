{
 "cells": [
  {
   "cell_type": "code",
   "execution_count": 1,
   "id": "initial_id",
   "metadata": {
    "collapsed": true,
    "ExecuteTime": {
     "end_time": "2024-02-10T08:34:28.587265500Z",
     "start_time": "2024-02-10T08:34:22.933870300Z"
    }
   },
   "outputs": [],
   "source": [
    "from mango.models.diarization import WhisperBasedEENDConfig, WhisperBasedEEND, InternalEENDConfig, MangoEEND"
   ]
  },
  {
   "cell_type": "code",
   "execution_count": 5,
   "outputs": [
    {
     "data": {
      "text/plain": "config.json:   0%|          | 0.00/1.98k [00:00<?, ?B/s]",
      "application/vnd.jupyter.widget-view+json": {
       "version_major": 2,
       "version_minor": 0,
       "model_id": "b1cbdf164f8e45f9ba38d6e8df366603"
      }
     },
     "metadata": {},
     "output_type": "display_data"
    },
    {
     "data": {
      "text/plain": "model.safetensors:   0%|          | 0.00/290M [00:00<?, ?B/s]",
      "application/vnd.jupyter.widget-view+json": {
       "version_major": 2,
       "version_minor": 0,
       "model_id": "e604194f35be48448facf12c550c326f"
      }
     },
     "metadata": {},
     "output_type": "display_data"
    },
    {
     "name": "stderr",
     "output_type": "stream",
     "text": [
      "Some weights of WhisperEncoder were not initialized from the model checkpoint at openai/whisper-base and are newly initialized: ['model.layers.4.fc1.bias', 'model.layers.5.final_layer_norm.bias', 'model.layers.3.self_attn_layer_norm.bias', 'model.layers.1.final_layer_norm.weight', 'model.layers.4.self_attn.v_proj.weight', 'model.layers.3.final_layer_norm.weight', 'model.layers.0.fc1.bias', 'model.layers.3.self_attn.out_proj.weight', 'model.layers.5.fc2.bias', 'model.layers.5.self_attn.out_proj.weight', 'model.layers.0.self_attn_layer_norm.weight', 'model.layers.5.fc1.weight', 'model.layers.1.self_attn.out_proj.bias', 'model.layers.5.fc2.weight', 'model.conv2.weight', 'model.layers.5.self_attn.q_proj.weight', 'model.layers.4.self_attn_layer_norm.bias', 'model.layers.2.fc1.bias', 'model.layers.2.self_attn.q_proj.weight', 'model.layers.5.final_layer_norm.weight', 'model.layers.1.self_attn.out_proj.weight', 'model.layers.1.self_attn_layer_norm.weight', 'model.layers.0.self_attn_layer_norm.bias', 'model.layers.2.self_attn_layer_norm.bias', 'model.conv1.bias', 'model.layers.3.self_attn.q_proj.bias', 'model.layers.4.self_attn.out_proj.bias', 'model.layer_norm.bias', 'model.layers.2.self_attn.out_proj.bias', 'model.layers.5.self_attn_layer_norm.weight', 'model.layers.0.self_attn.v_proj.weight', 'model.layers.1.fc2.weight', 'model.layers.0.self_attn.v_proj.bias', 'model.layers.3.fc2.bias', 'model.layers.5.self_attn.out_proj.bias', 'model.layers.4.self_attn.q_proj.weight', 'model.layers.1.self_attn.q_proj.bias', 'model.layers.2.final_layer_norm.weight', 'model.layers.0.fc2.weight', 'model.layers.1.fc1.weight', 'model.layers.4.fc2.weight', 'model.layers.0.self_attn.q_proj.bias', 'model.layers.3.self_attn.v_proj.bias', 'model.layers.3.fc2.weight', 'model.layers.1.self_attn_layer_norm.bias', 'model.layers.4.final_layer_norm.bias', 'model.layers.0.final_layer_norm.weight', 'model.layers.2.fc2.weight', 'model.layers.4.self_attn.out_proj.weight', 'model.layers.3.self_attn.k_proj.weight', 'model.layers.1.self_attn.v_proj.bias', 'model.conv1.weight', 'model.layer_norm.weight', 'model.layers.0.self_attn.out_proj.bias', 'model.layers.5.self_attn.v_proj.bias', 'model.layers.1.final_layer_norm.bias', 'model.layers.3.self_attn_layer_norm.weight', 'model.layers.2.self_attn.k_proj.weight', 'model.layers.1.self_attn.q_proj.weight', 'model.layers.0.self_attn.q_proj.weight', 'model.layers.2.self_attn_layer_norm.weight', 'model.layers.0.self_attn.k_proj.weight', 'model.layers.0.final_layer_norm.bias', 'model.layers.3.self_attn.q_proj.weight', 'model.layers.5.self_attn.v_proj.weight', 'model.layers.2.self_attn.q_proj.bias', 'model.layers.3.final_layer_norm.bias', 'model.layers.2.final_layer_norm.bias', 'model.layers.3.self_attn.out_proj.bias', 'model.layers.2.self_attn.v_proj.bias', 'model.layers.0.fc2.bias', 'model.layers.2.self_attn.v_proj.weight', 'model.layers.2.fc1.weight', 'model.layers.4.self_attn.q_proj.bias', 'model.layers.4.fc2.bias', 'model.layers.0.self_attn.out_proj.weight', 'model.layers.3.self_attn.v_proj.weight', 'model.layers.5.self_attn.q_proj.bias', 'model.layers.3.fc1.bias', 'model.layers.1.fc1.bias', 'model.layers.3.fc1.weight', 'model.layers.5.self_attn.k_proj.weight', 'model.layers.4.self_attn_layer_norm.weight', 'model.layers.4.fc1.weight', 'model.layers.2.self_attn.out_proj.weight', 'model.layers.4.final_layer_norm.weight', 'model.layers.1.fc2.bias', 'model.layers.5.fc1.bias', 'model.layers.1.self_attn.v_proj.weight', 'model.layers.4.self_attn.k_proj.weight', 'model.layers.2.fc2.bias', 'model.conv2.bias', 'model.layers.0.fc1.weight', 'model.layers.1.self_attn.k_proj.weight', 'model.embed_positions.weight', 'model.layers.5.self_attn_layer_norm.bias', 'model.layers.4.self_attn.v_proj.bias']\n",
      "You should probably TRAIN this model on a down-stream task to be able to use it for predictions and inference.\n"
     ]
    },
    {
     "data": {
      "text/plain": "20086787"
     },
     "execution_count": 5,
     "metadata": {},
     "output_type": "execute_result"
    }
   ],
   "source": [
    "import numpy as np\n",
    "\n",
    "model = WhisperBasedEEND(WhisperBasedEENDConfig(num_speakers=3, whisper_checkpoint='openai/whisper-base'))\n",
    "np.sum([p.numel() for p in model.parameters() if p.requires_grad])"
   ],
   "metadata": {
    "collapsed": false,
    "ExecuteTime": {
     "end_time": "2024-02-10T08:38:02.122083600Z",
     "start_time": "2024-02-10T08:36:07.778775600Z"
    }
   },
   "id": "1d4cb503feee3769"
  },
  {
   "cell_type": "code",
   "execution_count": 6,
   "outputs": [],
   "source": [
    "from datasets import load_dataset\n",
    "from mango.utils.tokenization import retain_cyrillic\n",
    "\n",
    "cv13 = load_dataset('mozilla-foundation/common_voice_13_0', 'uk', trust_remote_code=True)"
   ],
   "metadata": {
    "collapsed": false,
    "ExecuteTime": {
     "end_time": "2024-02-10T09:06:58.637710Z",
     "start_time": "2024-02-10T09:06:50.261318Z"
    }
   },
   "id": "ba854927b920f031"
  },
  {
   "cell_type": "code",
   "execution_count": 7,
   "outputs": [
    {
     "data": {
      "text/plain": "Map:   0%|          | 0/16911 [00:00<?, ? examples/s]",
      "application/vnd.jupyter.widget-view+json": {
       "version_major": 2,
       "version_minor": 0,
       "model_id": "0a6621e8a9c341aca4090655c6db02ab"
      }
     },
     "metadata": {},
     "output_type": "display_data"
    },
    {
     "data": {
      "text/plain": "Map:   0%|          | 0/8377 [00:00<?, ? examples/s]",
      "application/vnd.jupyter.widget-view+json": {
       "version_major": 2,
       "version_minor": 0,
       "model_id": "315073a92c1f41f08c7254d079805098"
      }
     },
     "metadata": {},
     "output_type": "display_data"
    },
    {
     "data": {
      "text/plain": "Map:   0%|          | 0/8383 [00:00<?, ? examples/s]",
      "application/vnd.jupyter.widget-view+json": {
       "version_major": 2,
       "version_minor": 0,
       "model_id": "66d6f75208344642bc53fcfd61b2653a"
      }
     },
     "metadata": {},
     "output_type": "display_data"
    },
    {
     "data": {
      "text/plain": "Map:   0%|          | 0/2531 [00:00<?, ? examples/s]",
      "application/vnd.jupyter.widget-view+json": {
       "version_major": 2,
       "version_minor": 0,
       "model_id": "3297032e7f364a358fb0a53e58c6c65a"
      }
     },
     "metadata": {},
     "output_type": "display_data"
    }
   ],
   "source": [
    "def length_computing(example):\n",
    "    return {'length' : len(example['audio']['array']) / example['audio']['sampling_rate']}\n",
    "\n",
    "cv13 = cv13.map(length_computing, remove_columns=cv13['train'].column_names)"
   ],
   "metadata": {
    "collapsed": false,
    "ExecuteTime": {
     "end_time": "2024-02-10T09:16:38.430922500Z",
     "start_time": "2024-02-10T09:07:44.777509300Z"
    }
   },
   "id": "357da52adc406b01"
  },
  {
   "cell_type": "code",
   "execution_count": 9,
   "outputs": [],
   "source": [
    "s = 0\n",
    "for key in cv13:\n",
    "    if 'length' in cv13[key].features:\n",
    "        s += np.sum(cv13[key]['length'])"
   ],
   "metadata": {
    "collapsed": false,
    "ExecuteTime": {
     "end_time": "2024-02-10T09:23:12.376234300Z",
     "start_time": "2024-02-10T09:23:12.300232700Z"
    }
   },
   "id": "ff388e79897a0a2c"
  },
  {
   "cell_type": "code",
   "execution_count": 11,
   "outputs": [
    {
     "data": {
      "text/plain": "47.037031168981486"
     },
     "execution_count": 11,
     "metadata": {},
     "output_type": "execute_result"
    }
   ],
   "source": [
    "s / 60 / 60"
   ],
   "metadata": {
    "collapsed": false,
    "ExecuteTime": {
     "end_time": "2024-02-10T09:23:21.073293600Z",
     "start_time": "2024-02-10T09:23:21.051293800Z"
    }
   },
   "id": "3e9caf48871dd59a"
  },
  {
   "cell_type": "code",
   "execution_count": null,
   "outputs": [],
   "source": [],
   "metadata": {
    "collapsed": false
   },
   "id": "beabfb9d59bbc2e2"
  }
 ],
 "metadata": {
  "kernelspec": {
   "display_name": "Python 3",
   "language": "python",
   "name": "python3"
  },
  "language_info": {
   "codemirror_mode": {
    "name": "ipython",
    "version": 2
   },
   "file_extension": ".py",
   "mimetype": "text/x-python",
   "name": "python",
   "nbconvert_exporter": "python",
   "pygments_lexer": "ipython2",
   "version": "2.7.6"
  }
 },
 "nbformat": 4,
 "nbformat_minor": 5
}
