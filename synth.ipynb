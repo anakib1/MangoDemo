{
 "cells": [
  {
   "cell_type": "code",
   "execution_count": 1,
   "id": "initial_id",
   "metadata": {
    "collapsed": true,
    "ExecuteTime": {
     "end_time": "2024-01-24T16:40:41.745435100Z",
     "start_time": "2024-01-24T16:40:37.021643800Z"
    }
   },
   "outputs": [],
   "source": [
    "from mango.training import dataset_utils, training_utils"
   ]
  },
  {
   "cell_type": "code",
   "execution_count": 2,
   "outputs": [
    {
     "data": {
      "text/plain": "SynthConfig(dataset_prefix='/kaggle/input/synthnooverlap-2/SynthCommonVoice0.3', max_num_speakers=3, noises2id={'DLIVING': 0, 'PCAFETER': 1, 'DWASHING': 2, 'TBUS': 3, 'TCAR': 4, 'SCAFE': 5, 'DKITCHEN': 6, 'PSTATION': 7, 'NPARK': 8, 'TMETRO': 9, 'OHALLWAY': 10, 'SPSQUARE': 11, 'NFIELD': 12, 'OOFFICE': 13, 'NRIVER': 14, 'OMEETING': 15, 'PRESTO': 16, 'STRAFFIC': 17})"
     },
     "execution_count": 2,
     "metadata": {},
     "output_type": "execute_result"
    }
   ],
   "source": [
    "dataset_utils.SynthConfig()"
   ],
   "metadata": {
    "collapsed": false,
    "ExecuteTime": {
     "end_time": "2024-01-24T16:40:41.770991100Z",
     "start_time": "2024-01-24T16:40:41.748997300Z"
    }
   },
   "id": "a9f4846f5326dbec"
  },
  {
   "cell_type": "code",
   "execution_count": 7,
   "outputs": [],
   "source": [
    "dataset = dataset_utils.SynthDataset(training_utils.TrainingConfig(dataset_prefix='../MANGO/SynthNoOverlap/SynthCommonVoice0.3',\n",
    "                                                                   noises2id={}))"
   ],
   "metadata": {
    "collapsed": false,
    "ExecuteTime": {
     "end_time": "2024-01-24T16:07:05.631602600Z",
     "start_time": "2024-01-24T16:07:05.046719800Z"
    }
   },
   "id": "5dd009e0c88f197f"
  },
  {
   "cell_type": "code",
   "execution_count": 8,
   "outputs": [],
   "source": [
    "dataset.lazy_generate(20)"
   ],
   "metadata": {
    "collapsed": false,
    "ExecuteTime": {
     "end_time": "2024-01-24T16:07:06.191667500Z",
     "start_time": "2024-01-24T16:07:06.132417Z"
    }
   },
   "id": "da24ab60de45bebe"
  },
  {
   "cell_type": "code",
   "execution_count": 9,
   "outputs": [
    {
     "data": {
      "text/plain": "<mango.training.dataset_utils.FileDataset at 0x2064e116800>"
     },
     "execution_count": 9,
     "metadata": {},
     "output_type": "execute_result"
    }
   ],
   "source": [
    "dataset.train"
   ],
   "metadata": {
    "collapsed": false,
    "ExecuteTime": {
     "end_time": "2024-01-24T16:07:06.667857100Z",
     "start_time": "2024-01-24T16:07:06.644653400Z"
    }
   },
   "id": "d53ae7c4a1b38b16"
  },
  {
   "cell_type": "code",
   "execution_count": 10,
   "outputs": [
    {
     "name": "stdout",
     "output_type": "stream",
     "text": [
      "{'input_features': array([[-0.25299835,  0.11056435,  0.3223644 , ...,  0.36522835,\n",
      "         0.551702  ,  0.48626363],\n",
      "       [ 0.05534381,  0.12735003,  0.12027049, ...,  0.28217328,\n",
      "         0.31867462,  0.35042924],\n",
      "       [-0.0469414 ,  0.17269516,  0.10101354, ...,  0.22852439,\n",
      "         0.21767181,  0.24111104],\n",
      "       ...,\n",
      "       [-0.5611334 , -0.5611334 , -0.5611334 , ..., -0.5611334 ,\n",
      "        -0.5611334 , -0.5611334 ],\n",
      "       [-0.5611334 , -0.5611334 , -0.5611334 , ..., -0.5611334 ,\n",
      "        -0.5611334 , -0.5611334 ],\n",
      "       [-0.5611334 , -0.5611334 , -0.5611334 , ..., -0.5611334 ,\n",
      "        -0.5611334 , -0.5611334 ]], dtype=float32), 'labels': [50258, 50363, 18172, 5583, 38224, 5188, 4165, 26725, 3605, 9718, 13803, 6766, 8403, 20455, 13388, 856, 681, 2241, 776, 3183, 13549, 24443, 1416, 1827, 18598, 34780, 4657, 8442, 1717, 2161, 10793, 1644, 33271, 2765, 12513, 2933, 13981, 28198, 3752, 1148, 2559, 13721, 30815, 10333, 1717, 2161, 12857, 40133, 5151, 1675, 23895, 461, 860, 8934, 20681, 1544, 1552, 9938, 8045, 1675, 12360, 39672, 4165, 13, 42373, 354, 1084, 19408, 20455, 11, 4572, 1084, 19408, 20455, 13, 2348, 72, 489, 3266, 10282, 7537, 859, 35547, 4203, 981, 72, 693, 14937, 11, 741, 13803, 713, 72, 1198, 1675, 13, 3422, 481, 2292, 41232, 403, 1268, 72, 6762, 5246, 1725, 3348, 43632, 2739, 1679, 24540, 20319, 1253, 13, 50257], 'diarization_labels': array([[0., 0., 0.],\n",
      "       [1., 0., 0.],\n",
      "       [1., 0., 0.],\n",
      "       ...,\n",
      "       [0., 1., 0.],\n",
      "       [0., 1., 0.],\n",
      "       [0., 0., 0.]]), 'classification_labels': 'UNDEFINED', 'speaker_map': {'684e51': 0, 'dc3345': 1}}\n"
     ]
    }
   ],
   "source": [
    "for example in dataset.train:\n",
    "    print(example)\n",
    "    break"
   ],
   "metadata": {
    "collapsed": false,
    "ExecuteTime": {
     "end_time": "2024-01-24T16:07:07.572926400Z",
     "start_time": "2024-01-24T16:07:07.346541100Z"
    }
   },
   "id": "dfdc4c615fe8329b"
  },
  {
   "cell_type": "code",
   "execution_count": null,
   "outputs": [],
   "source": [],
   "metadata": {
    "collapsed": false
   },
   "id": "a888bc9ffb6edb5c"
  }
 ],
 "metadata": {
  "kernelspec": {
   "display_name": "Python 3",
   "language": "python",
   "name": "python3"
  },
  "language_info": {
   "codemirror_mode": {
    "name": "ipython",
    "version": 2
   },
   "file_extension": ".py",
   "mimetype": "text/x-python",
   "name": "python",
   "nbconvert_exporter": "python",
   "pygments_lexer": "ipython2",
   "version": "2.7.6"
  }
 },
 "nbformat": 4,
 "nbformat_minor": 5
}
